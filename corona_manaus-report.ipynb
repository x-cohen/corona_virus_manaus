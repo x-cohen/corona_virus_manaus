{
 "cells": [
  {
   "cell_type": "markdown",
   "metadata": {},
   "source": [
    "# COVID-19 in Manaus\n",
    "\n",
    "# Analysis and Forecasting\n",
    "\n",
    "This notebook was an exercise based on methodology from the book of Jason Brownlee, Introduction to Time Series Forecasting with Python."
   ]
  },
  {
   "cell_type": "markdown",
   "metadata": {},
   "source": [
    "## Initial Setup"
   ]
  },
  {
   "cell_type": "code",
   "execution_count": 1,
   "metadata": {},
   "outputs": [
    {
     "name": "stdout",
     "output_type": "stream",
     "text": [
      "numpy: 1.17.2\n",
      "matplotlib: 3.1.1\n",
      "seaborn: 0.9.0\n",
      "pandas: 0.25.1\n",
      "statsmodels: 0.10.1\n",
      "sklearn: 0.21.3\n",
      "Python 3.7.4\n"
     ]
    }
   ],
   "source": [
    "# check the versions of key python libraries \n",
    "\n",
    "#import scipy\n",
    "#print('scipy: %s' % scipy.__version__)\n",
    "\n",
    "import numpy as np\n",
    "print('numpy: %s' % np.__version__)\n",
    "\n",
    "import matplotlib.pyplot as plt\n",
    "import matplotlib\n",
    "print('matplotlib: %s' % matplotlib.__version__)\n",
    "\n",
    "import seaborn as sns\n",
    "%matplotlib inline\n",
    "print('seaborn: %s' % sns.__version__)\n",
    "\n",
    "import pandas as pd\n",
    "print('pandas: %s' % pd.__version__)\n",
    "from pandas.plotting import autocorrelation_plot\n",
    "\n",
    "import statsmodels\n",
    "print('statsmodels: %s' % statsmodels.__version__) # scikit-learn\n",
    "\n",
    "import sklearn\n",
    "print('sklearn: %s' % sklearn.__version__)\n",
    "\n",
    "from sklearn.metrics import mean_squared_error\n",
    "\n",
    "from tqdm import tqdm\n",
    "#import requests\n",
    "import zipfile\n",
    "\n",
    "import warnings\n",
    "warnings.filterwarnings(\"ignore\")\n",
    "\n",
    "#import gc\n",
    "\n",
    "!python --version\n",
    "\n",
    "\n",
    "#pd.set_option('max_columns', 50)\n",
    "pd.set_option('max_rows', 200)"
   ]
  },
  {
   "cell_type": "code",
   "execution_count": 2,
   "metadata": {},
   "outputs": [],
   "source": [
    "# data folders\n",
    "data_dir = './data/'\n",
    "data_zip = './data_zip/'"
   ]
  },
  {
   "cell_type": "code",
   "execution_count": 3,
   "metadata": {},
   "outputs": [
    {
     "name": "stdout",
     "output_type": "stream",
     "text": [
      "downloading file .zip ...\n",
      "\n",
      "Downloading corona-virus-brazil.zip to /Users/maxfc/Anaconda/AnacondaProjects/Corona_Virus/Manaus\n",
      "100%|████████████████████████████████████████| 965k/965k [00:00<00:00, 2.19MB/s]\n",
      "100%|████████████████████████████████████████| 965k/965k [00:00<00:00, 2.16MB/s]\n",
      "\n",
      "download finished!\n",
      "\n",
      "unziped!\n"
     ]
    }
   ],
   "source": [
    "# download file\n",
    "# source:\n",
    "# https://www.kaggle.com/unanimad/corona-virus-brazil\n",
    "\n",
    "print('downloading file .zip ...')\n",
    "print()\n",
    "!kaggle datasets download unanimad/corona-virus-brazil --force\n",
    "print()\n",
    "print('download finished!')\n",
    "print()\n",
    "\n",
    "with zipfile.ZipFile('corona-virus-brazil.zip', 'r') as zip_ref:\n",
    "    zip_ref.extractall(data_dir)\n",
    "print('unziped!')"
   ]
  },
  {
   "cell_type": "code",
   "execution_count": 4,
   "metadata": {},
   "outputs": [
    {
     "name": "stdout",
     "output_type": "stream",
     "text": [
      "Directory  ./data_zip/  already exists\n"
     ]
    }
   ],
   "source": [
    "import os\n",
    "\n",
    "#from datetime import date\n",
    "#date_today = str(date.today())\n",
    "\n",
    "if not os.path.exists(data_zip):\n",
    "    os.mkdir(data_zip)\n",
    "    print(\"Directory \" , data_zip ,  \" Created \")\n",
    "else:    \n",
    "    print(\"Directory \" , data_zip ,  \" already exists\")\n",
    "    \n",
    "os.rename(\"./corona-virus-brazil.zip\", data_zip+\"corona-virus-brazil.zip\")"
   ]
  },
  {
   "cell_type": "code",
   "execution_count": 5,
   "metadata": {},
   "outputs": [
    {
     "name": "stdout",
     "output_type": "stream",
     "text": [
      "Files:\n",
      "brazil_cities_coordinates.csv brazil_covid19_old.csv\n",
      "brazil_covid19.csv            brazil_population_2019.csv\n",
      "brazil_covid19_cities.csv     dataset.csv\n",
      "brazil_covid19_macro.csv      validation.csv\n"
     ]
    }
   ],
   "source": [
    "print(\"Files:\")\n",
    "!ls {data_dir}"
   ]
  },
  {
   "cell_type": "code",
   "execution_count": 6,
   "metadata": {},
   "outputs": [
    {
     "name": "stdout",
     "output_type": "stream",
     "text": [
      "Covid BR has 1707 rows and 5 columns\n",
      "\n",
      "Last information in 2020-05-15\n"
     ]
    }
   ],
   "source": [
    "covid_br = pd.read_csv(data_dir + 'brazil_covid19.csv')\n",
    "print('Covid BR has {} rows and {} columns'.format(covid_br.shape[0], covid_br.shape[1]))\n",
    "print()\n",
    "print('Last information in ' + covid_br.iloc[-1,0])\n"
   ]
  },
  {
   "cell_type": "code",
   "execution_count": 7,
   "metadata": {},
   "outputs": [
    {
     "data": {
      "text/html": [
       "<div>\n",
       "<style scoped>\n",
       "    .dataframe tbody tr th:only-of-type {\n",
       "        vertical-align: middle;\n",
       "    }\n",
       "\n",
       "    .dataframe tbody tr th {\n",
       "        vertical-align: top;\n",
       "    }\n",
       "\n",
       "    .dataframe thead th {\n",
       "        text-align: right;\n",
       "    }\n",
       "</style>\n",
       "<table border=\"1\" class=\"dataframe\">\n",
       "  <thead>\n",
       "    <tr style=\"text-align: right;\">\n",
       "      <th></th>\n",
       "      <th>date</th>\n",
       "      <th>region</th>\n",
       "      <th>state</th>\n",
       "      <th>cases</th>\n",
       "      <th>deaths</th>\n",
       "    </tr>\n",
       "  </thead>\n",
       "  <tbody>\n",
       "    <tr>\n",
       "      <td>0</td>\n",
       "      <td>2020-02-26</td>\n",
       "      <td>Sudeste</td>\n",
       "      <td>São Paulo</td>\n",
       "      <td>1</td>\n",
       "      <td>0</td>\n",
       "    </tr>\n",
       "    <tr>\n",
       "      <td>1</td>\n",
       "      <td>2020-02-27</td>\n",
       "      <td>Sudeste</td>\n",
       "      <td>São Paulo</td>\n",
       "      <td>1</td>\n",
       "      <td>0</td>\n",
       "    </tr>\n",
       "    <tr>\n",
       "      <td>2</td>\n",
       "      <td>2020-02-28</td>\n",
       "      <td>Sudeste</td>\n",
       "      <td>São Paulo</td>\n",
       "      <td>1</td>\n",
       "      <td>0</td>\n",
       "    </tr>\n",
       "    <tr>\n",
       "      <td>3</td>\n",
       "      <td>2020-02-29</td>\n",
       "      <td>Sudeste</td>\n",
       "      <td>São Paulo</td>\n",
       "      <td>2</td>\n",
       "      <td>0</td>\n",
       "    </tr>\n",
       "    <tr>\n",
       "      <td>4</td>\n",
       "      <td>2020-03-01</td>\n",
       "      <td>Sudeste</td>\n",
       "      <td>São Paulo</td>\n",
       "      <td>2</td>\n",
       "      <td>0</td>\n",
       "    </tr>\n",
       "  </tbody>\n",
       "</table>\n",
       "</div>"
      ],
      "text/plain": [
       "         date   region      state  cases  deaths\n",
       "0  2020-02-26  Sudeste  São Paulo      1       0\n",
       "1  2020-02-27  Sudeste  São Paulo      1       0\n",
       "2  2020-02-28  Sudeste  São Paulo      1       0\n",
       "3  2020-02-29  Sudeste  São Paulo      2       0\n",
       "4  2020-03-01  Sudeste  São Paulo      2       0"
      ]
     },
     "execution_count": 7,
     "metadata": {},
     "output_type": "execute_result"
    }
   ],
   "source": [
    "covid_br.head()"
   ]
  },
  {
   "cell_type": "code",
   "execution_count": 8,
   "metadata": {},
   "outputs": [
    {
     "name": "stdout",
     "output_type": "stream",
     "text": [
      "<class 'pandas.core.frame.DataFrame'>\n",
      "RangeIndex: 1707 entries, 0 to 1706\n",
      "Data columns (total 5 columns):\n",
      "date      1707 non-null object\n",
      "region    1707 non-null object\n",
      "state     1707 non-null object\n",
      "cases     1707 non-null int64\n",
      "deaths    1707 non-null int64\n",
      "dtypes: int64(2), object(3)\n",
      "memory usage: 66.8+ KB\n"
     ]
    }
   ],
   "source": [
    "covid_br.info()"
   ]
  },
  {
   "cell_type": "code",
   "execution_count": 9,
   "metadata": {},
   "outputs": [
    {
     "data": {
      "text/html": [
       "<div>\n",
       "<style scoped>\n",
       "    .dataframe tbody tr th:only-of-type {\n",
       "        vertical-align: middle;\n",
       "    }\n",
       "\n",
       "    .dataframe tbody tr th {\n",
       "        vertical-align: top;\n",
       "    }\n",
       "\n",
       "    .dataframe thead th {\n",
       "        text-align: right;\n",
       "    }\n",
       "</style>\n",
       "<table border=\"1\" class=\"dataframe\">\n",
       "  <thead>\n",
       "    <tr style=\"text-align: right;\">\n",
       "      <th></th>\n",
       "      <th>date</th>\n",
       "      <th>region</th>\n",
       "      <th>state</th>\n",
       "      <th>cases</th>\n",
       "      <th>deaths</th>\n",
       "    </tr>\n",
       "  </thead>\n",
       "  <tbody>\n",
       "    <tr>\n",
       "      <td>1587</td>\n",
       "      <td>2020-05-11</td>\n",
       "      <td>Norte</td>\n",
       "      <td>Amazonas</td>\n",
       "      <td>12919</td>\n",
       "      <td>1035</td>\n",
       "    </tr>\n",
       "    <tr>\n",
       "      <td>1614</td>\n",
       "      <td>2020-05-12</td>\n",
       "      <td>Norte</td>\n",
       "      <td>Amazonas</td>\n",
       "      <td>14168</td>\n",
       "      <td>1098</td>\n",
       "    </tr>\n",
       "    <tr>\n",
       "      <td>1641</td>\n",
       "      <td>2020-05-13</td>\n",
       "      <td>Norte</td>\n",
       "      <td>Amazonas</td>\n",
       "      <td>15816</td>\n",
       "      <td>1160</td>\n",
       "    </tr>\n",
       "    <tr>\n",
       "      <td>1668</td>\n",
       "      <td>2020-05-14</td>\n",
       "      <td>Norte</td>\n",
       "      <td>Amazonas</td>\n",
       "      <td>17181</td>\n",
       "      <td>1235</td>\n",
       "    </tr>\n",
       "    <tr>\n",
       "      <td>1695</td>\n",
       "      <td>2020-05-15</td>\n",
       "      <td>Norte</td>\n",
       "      <td>Amazonas</td>\n",
       "      <td>18392</td>\n",
       "      <td>1331</td>\n",
       "    </tr>\n",
       "  </tbody>\n",
       "</table>\n",
       "</div>"
      ],
      "text/plain": [
       "            date region     state  cases  deaths\n",
       "1587  2020-05-11  Norte  Amazonas  12919    1035\n",
       "1614  2020-05-12  Norte  Amazonas  14168    1098\n",
       "1641  2020-05-13  Norte  Amazonas  15816    1160\n",
       "1668  2020-05-14  Norte  Amazonas  17181    1235\n",
       "1695  2020-05-15  Norte  Amazonas  18392    1331"
      ]
     },
     "execution_count": 9,
     "metadata": {},
     "output_type": "execute_result"
    }
   ],
   "source": [
    "# Select only Amazonas\n",
    "\n",
    "df = covid_br[covid_br[\"state\"] == \"Amazonas\"]\n",
    "df.tail(5)"
   ]
  },
  {
   "cell_type": "code",
   "execution_count": 10,
   "metadata": {},
   "outputs": [
    {
     "data": {
      "text/plain": [
       "(62, 5)"
      ]
     },
     "execution_count": 10,
     "metadata": {},
     "output_type": "execute_result"
    }
   ],
   "source": [
    "df.shape"
   ]
  },
  {
   "cell_type": "code",
   "execution_count": 11,
   "metadata": {},
   "outputs": [
    {
     "data": {
      "text/html": [
       "<div>\n",
       "<style scoped>\n",
       "    .dataframe tbody tr th:only-of-type {\n",
       "        vertical-align: middle;\n",
       "    }\n",
       "\n",
       "    .dataframe tbody tr th {\n",
       "        vertical-align: top;\n",
       "    }\n",
       "\n",
       "    .dataframe thead th {\n",
       "        text-align: right;\n",
       "    }\n",
       "</style>\n",
       "<table border=\"1\" class=\"dataframe\">\n",
       "  <thead>\n",
       "    <tr style=\"text-align: right;\">\n",
       "      <th></th>\n",
       "      <th>cases</th>\n",
       "      <th>deaths</th>\n",
       "    </tr>\n",
       "  </thead>\n",
       "  <tbody>\n",
       "    <tr>\n",
       "      <td>count</td>\n",
       "      <td>62.000000</td>\n",
       "      <td>62.000000</td>\n",
       "    </tr>\n",
       "    <tr>\n",
       "      <td>mean</td>\n",
       "      <td>3643.209677</td>\n",
       "      <td>279.983871</td>\n",
       "    </tr>\n",
       "    <tr>\n",
       "      <td>std</td>\n",
       "      <td>4855.029770</td>\n",
       "      <td>375.529986</td>\n",
       "    </tr>\n",
       "    <tr>\n",
       "      <td>min</td>\n",
       "      <td>1.000000</td>\n",
       "      <td>0.000000</td>\n",
       "    </tr>\n",
       "    <tr>\n",
       "      <td>25%</td>\n",
       "      <td>157.000000</td>\n",
       "      <td>1.500000</td>\n",
       "    </tr>\n",
       "    <tr>\n",
       "      <td>50%</td>\n",
       "      <td>1519.000000</td>\n",
       "      <td>98.000000</td>\n",
       "    </tr>\n",
       "    <tr>\n",
       "      <td>75%</td>\n",
       "      <td>5140.750000</td>\n",
       "      <td>413.750000</td>\n",
       "    </tr>\n",
       "    <tr>\n",
       "      <td>max</td>\n",
       "      <td>18392.000000</td>\n",
       "      <td>1331.000000</td>\n",
       "    </tr>\n",
       "  </tbody>\n",
       "</table>\n",
       "</div>"
      ],
      "text/plain": [
       "              cases       deaths\n",
       "count     62.000000    62.000000\n",
       "mean    3643.209677   279.983871\n",
       "std     4855.029770   375.529986\n",
       "min        1.000000     0.000000\n",
       "25%      157.000000     1.500000\n",
       "50%     1519.000000    98.000000\n",
       "75%     5140.750000   413.750000\n",
       "max    18392.000000  1331.000000"
      ]
     },
     "execution_count": 11,
     "metadata": {},
     "output_type": "execute_result"
    }
   ],
   "source": [
    "df.describe()"
   ]
  },
  {
   "cell_type": "markdown",
   "metadata": {},
   "source": [
    "## Initial Feature Engineering"
   ]
  },
  {
   "cell_type": "code",
   "execution_count": 12,
   "metadata": {},
   "outputs": [
    {
     "name": "stdout",
     "output_type": "stream",
     "text": [
      "<class 'pandas.core.frame.DataFrame'>\n",
      "DatetimeIndex: 62 entries, 2020-03-15 to 2020-05-15\n",
      "Data columns (total 6 columns):\n",
      "region           62 non-null object\n",
      "state            62 non-null object\n",
      "cases            62 non-null int64\n",
      "deaths           62 non-null int64\n",
      "day_of_week      62 non-null object\n",
      "day_of_week_n    62 non-null int64\n",
      "dtypes: int64(3), object(3)\n",
      "memory usage: 3.4+ KB\n"
     ]
    }
   ],
   "source": [
    "# datetime\n",
    "df['date'] = pd.to_datetime(df['date'])\n",
    "\n",
    "# day of week\n",
    "df['day_of_week'] = df['date'].dt.day_name()\n",
    "df['day_of_week_n'] = df['date'].dt.dayofweek  #Monday=0, Sunday=6.\n",
    "\n",
    "# set index\n",
    "df.set_index('date', inplace=True)\n",
    "df.index = pd.to_datetime(df.index, format=\"%Y-%m-%d\")\n",
    "df.info()\n"
   ]
  },
  {
   "cell_type": "code",
   "execution_count": 13,
   "metadata": {},
   "outputs": [
    {
     "data": {
      "text/html": [
       "<div>\n",
       "<style scoped>\n",
       "    .dataframe tbody tr th:only-of-type {\n",
       "        vertical-align: middle;\n",
       "    }\n",
       "\n",
       "    .dataframe tbody tr th {\n",
       "        vertical-align: top;\n",
       "    }\n",
       "\n",
       "    .dataframe thead th {\n",
       "        text-align: right;\n",
       "    }\n",
       "</style>\n",
       "<table border=\"1\" class=\"dataframe\">\n",
       "  <thead>\n",
       "    <tr style=\"text-align: right;\">\n",
       "      <th></th>\n",
       "      <th>deaths</th>\n",
       "      <th>day_of_week</th>\n",
       "      <th>day_of_week_n</th>\n",
       "      <th>month</th>\n",
       "      <th>day</th>\n",
       "      <th>deaths_d</th>\n",
       "      <th>week</th>\n",
       "    </tr>\n",
       "    <tr>\n",
       "      <th>date</th>\n",
       "      <th></th>\n",
       "      <th></th>\n",
       "      <th></th>\n",
       "      <th></th>\n",
       "      <th></th>\n",
       "      <th></th>\n",
       "      <th></th>\n",
       "    </tr>\n",
       "  </thead>\n",
       "  <tbody>\n",
       "    <tr>\n",
       "      <td>2020-03-25</td>\n",
       "      <td>1</td>\n",
       "      <td>Wednesday</td>\n",
       "      <td>2</td>\n",
       "      <td>3</td>\n",
       "      <td>25</td>\n",
       "      <td>1.0</td>\n",
       "      <td>1</td>\n",
       "    </tr>\n",
       "    <tr>\n",
       "      <td>2020-03-26</td>\n",
       "      <td>1</td>\n",
       "      <td>Thursday</td>\n",
       "      <td>3</td>\n",
       "      <td>3</td>\n",
       "      <td>26</td>\n",
       "      <td>0.0</td>\n",
       "      <td>1</td>\n",
       "    </tr>\n",
       "  </tbody>\n",
       "</table>\n",
       "</div>"
      ],
      "text/plain": [
       "            deaths day_of_week  day_of_week_n  month  day  deaths_d  week\n",
       "date                                                                     \n",
       "2020-03-25       1   Wednesday              2      3   25       1.0     1\n",
       "2020-03-26       1    Thursday              3      3   26       0.0     1"
      ]
     },
     "execution_count": 13,
     "metadata": {},
     "output_type": "execute_result"
    }
   ],
   "source": [
    "# creating month and day\n",
    "df['month'] = [df.index[i].month for i in range(len(df))]\n",
    "df['day'] = [df.index[i].day for i in range(len(df))] \n",
    "\n",
    "# creating death by day\n",
    "df['deaths_d'] = df['deaths'] - df['deaths'].shift(1)\n",
    "\n",
    "\n",
    "# drop\n",
    "df.drop(['region'], axis = 1, inplace = True)\n",
    "df.drop(['state'], axis = 1, inplace = True)\n",
    "df.drop(['cases'], axis = 1, inplace = True)\n",
    "\n",
    "# deleting \"deaths = 0\"\n",
    "df = df[df[\"deaths\"] > 0]\n",
    "\n",
    "# week\n",
    "df['week'] = [df.index[i].week for i in range(len(df))]\n",
    "first_week = df.iloc[0, -1] \n",
    "df['week'] = df['week'].astype(int) - first_week +1 \n",
    "\n",
    "df.head(2)"
   ]
  },
  {
   "cell_type": "markdown",
   "metadata": {},
   "source": [
    "## Data Analysis"
   ]
  },
  {
   "cell_type": "markdown",
   "metadata": {},
   "source": [
    "### Components of Time Series"
   ]
  },
  {
   "cell_type": "markdown",
   "metadata": {},
   "source": [
    "Time series analysis provides a body of techniques to better understand a dataset. Perhaps the most useful of these is the decomposition of a time series into 4 constituent parts:\n",
    "\n",
    "- Level. The baseline value for the series if it were a straight line.\n",
    "\n",
    "- Trend. The optional and often linear increasing or decreasing behavior of the series over time.\n",
    "􏰀\n",
    "- Seasonality. The optional repeating patterns or cycles of behavior over time.\n",
    "\n",
    "- Noise. The optional variability in the observations that cannot be explained by the model.\n",
    "\n",
    "\n",
    "p.11"
   ]
  },
  {
   "cell_type": "markdown",
   "metadata": {},
   "source": [
    "### Concerns of Forecasting\n",
    "\n",
    "When forecasting, it is important to understand your goal. Use the Socratic method and ask lots of questions to help zoom in on the specifics of your predictive modeling problem. For example:\n",
    "\n",
    "1. How much data do you have available and are you able to gather it all together? More data is often more helpful, offering greater opportunity for exploratory data analysis, model testing and tuning, and model fidelity.\n",
    "\n",
    "2. What is the time horizon of predictions that is required? Short, medium or long term? Shorter time horizons are often easier to predict with higher confidence.\n",
    "\n",
    "3. Can forecasts be updated frequently over time or must they be made once and remain static? Updating forecasts as new information becomes available often results in more accurate predictions.\n",
    "\n",
    "4. At what temporal frequency are forecasts required? Often forecasts can be made at a lower or higher frequencies, allowing you to harness down-sampling, and up-sampling of data, which in turn can offer benefits while modeling.\n",
    "\n",
    "\n",
    "Time series data often requires cleaning, scaling, and even transformation. For example:\n",
    "\n",
    "- Frequency. Perhaps data is provided at a frequency that is too high to model or is unevenly spaced through time requiring resampling for use in some models.\n",
    "\n",
    "- Outliers. Perhaps there are corrupt or extreme outlier values that need to be identified and handled.\n",
    "\n",
    "- Missing. Perhaps there are gaps or missing data that need to be interpolated or imputed.\n",
    "\n",
    "p.12"
   ]
  },
  {
   "cell_type": "markdown",
   "metadata": {},
   "source": [
    "______\n",
    "\n",
    "- Sliding Window, p.15\n",
    "\n",
    "- Sliding Window With Multivariates, p.16\n",
    "\n",
    "- Sliding Window With Multiple Steps, p.18\n",
    "\n",
    "- Lag Features, p.29: X.shift(1)\n",
    "\n",
    "- Rolling Window Statistics, p.31: rolling(X).mean()\n",
    "\n",
    "        width = 3\n",
    "        shifted = temps.shift(width - 1)\n",
    "        window = shifted.rolling(window=width)\n",
    "        dataframe = concat([window.min(), window.mean(), window.max(), temps], axis=1) dataframe.columns = ['min', 'mean', 'max', 't+1']\n",
    "\n",
    "\n",
    "- Expanding Window Statistics, p.33: expanding()\n",
    "\n",
    "        temps = DataFrame(series.values)\n",
    "        window = temps.expanding()\n",
    "        dataframe = concat([window.min(), window.mean(), window.max(), temps.shift(-1)], axis=1) dataframe.columns = ['min', 'mean', 'max', 't+1']\n"
   ]
  },
  {
   "cell_type": "markdown",
   "metadata": {},
   "source": [
    "### Summary Statistics"
   ]
  },
  {
   "cell_type": "code",
   "execution_count": 14,
   "metadata": {},
   "outputs": [
    {
     "data": {
      "text/plain": [
       "(52, 7)"
      ]
     },
     "execution_count": 14,
     "metadata": {},
     "output_type": "execute_result"
    }
   ],
   "source": [
    "# Number of Observations\n",
    "df.shape"
   ]
  },
  {
   "cell_type": "code",
   "execution_count": 15,
   "metadata": {},
   "outputs": [
    {
     "data": {
      "text/html": [
       "<div>\n",
       "<style scoped>\n",
       "    .dataframe tbody tr th:only-of-type {\n",
       "        vertical-align: middle;\n",
       "    }\n",
       "\n",
       "    .dataframe tbody tr th {\n",
       "        vertical-align: top;\n",
       "    }\n",
       "\n",
       "    .dataframe thead th {\n",
       "        text-align: right;\n",
       "    }\n",
       "</style>\n",
       "<table border=\"1\" class=\"dataframe\">\n",
       "  <thead>\n",
       "    <tr style=\"text-align: right;\">\n",
       "      <th></th>\n",
       "      <th>deaths</th>\n",
       "      <th>day_of_week</th>\n",
       "      <th>day_of_week_n</th>\n",
       "      <th>month</th>\n",
       "      <th>day</th>\n",
       "      <th>deaths_d</th>\n",
       "      <th>week</th>\n",
       "    </tr>\n",
       "    <tr>\n",
       "      <th>date</th>\n",
       "      <th></th>\n",
       "      <th></th>\n",
       "      <th></th>\n",
       "      <th></th>\n",
       "      <th></th>\n",
       "      <th></th>\n",
       "      <th></th>\n",
       "    </tr>\n",
       "  </thead>\n",
       "  <tbody>\n",
       "    <tr>\n",
       "      <td>2020-03-25</td>\n",
       "      <td>1</td>\n",
       "      <td>Wednesday</td>\n",
       "      <td>2</td>\n",
       "      <td>3</td>\n",
       "      <td>25</td>\n",
       "      <td>1.0</td>\n",
       "      <td>1</td>\n",
       "    </tr>\n",
       "    <tr>\n",
       "      <td>2020-03-26</td>\n",
       "      <td>1</td>\n",
       "      <td>Thursday</td>\n",
       "      <td>3</td>\n",
       "      <td>3</td>\n",
       "      <td>26</td>\n",
       "      <td>0.0</td>\n",
       "      <td>1</td>\n",
       "    </tr>\n",
       "    <tr>\n",
       "      <td>2020-03-27</td>\n",
       "      <td>1</td>\n",
       "      <td>Friday</td>\n",
       "      <td>4</td>\n",
       "      <td>3</td>\n",
       "      <td>27</td>\n",
       "      <td>0.0</td>\n",
       "      <td>1</td>\n",
       "    </tr>\n",
       "    <tr>\n",
       "      <td>2020-03-28</td>\n",
       "      <td>1</td>\n",
       "      <td>Saturday</td>\n",
       "      <td>5</td>\n",
       "      <td>3</td>\n",
       "      <td>28</td>\n",
       "      <td>0.0</td>\n",
       "      <td>1</td>\n",
       "    </tr>\n",
       "    <tr>\n",
       "      <td>2020-03-29</td>\n",
       "      <td>1</td>\n",
       "      <td>Sunday</td>\n",
       "      <td>6</td>\n",
       "      <td>3</td>\n",
       "      <td>29</td>\n",
       "      <td>0.0</td>\n",
       "      <td>1</td>\n",
       "    </tr>\n",
       "  </tbody>\n",
       "</table>\n",
       "</div>"
      ],
      "text/plain": [
       "            deaths day_of_week  day_of_week_n  month  day  deaths_d  week\n",
       "date                                                                     \n",
       "2020-03-25       1   Wednesday              2      3   25       1.0     1\n",
       "2020-03-26       1    Thursday              3      3   26       0.0     1\n",
       "2020-03-27       1      Friday              4      3   27       0.0     1\n",
       "2020-03-28       1    Saturday              5      3   28       0.0     1\n",
       "2020-03-29       1      Sunday              6      3   29       0.0     1"
      ]
     },
     "execution_count": 15,
     "metadata": {},
     "output_type": "execute_result"
    }
   ],
   "source": [
    "df.head()"
   ]
  },
  {
   "cell_type": "code",
   "execution_count": 16,
   "metadata": {},
   "outputs": [
    {
     "data": {
      "text/html": [
       "<div>\n",
       "<style scoped>\n",
       "    .dataframe tbody tr th:only-of-type {\n",
       "        vertical-align: middle;\n",
       "    }\n",
       "\n",
       "    .dataframe tbody tr th {\n",
       "        vertical-align: top;\n",
       "    }\n",
       "\n",
       "    .dataframe thead th {\n",
       "        text-align: right;\n",
       "    }\n",
       "</style>\n",
       "<table border=\"1\" class=\"dataframe\">\n",
       "  <thead>\n",
       "    <tr style=\"text-align: right;\">\n",
       "      <th></th>\n",
       "      <th>deaths</th>\n",
       "      <th>deaths_d</th>\n",
       "    </tr>\n",
       "  </thead>\n",
       "  <tbody>\n",
       "    <tr>\n",
       "      <td>count</td>\n",
       "      <td>52.000000</td>\n",
       "      <td>52.000000</td>\n",
       "    </tr>\n",
       "    <tr>\n",
       "      <td>mean</td>\n",
       "      <td>333.826923</td>\n",
       "      <td>25.596154</td>\n",
       "    </tr>\n",
       "    <tr>\n",
       "      <td>std</td>\n",
       "      <td>387.746821</td>\n",
       "      <td>27.112156</td>\n",
       "    </tr>\n",
       "    <tr>\n",
       "      <td>min</td>\n",
       "      <td>1.000000</td>\n",
       "      <td>0.000000</td>\n",
       "    </tr>\n",
       "    <tr>\n",
       "      <td>25%</td>\n",
       "      <td>22.000000</td>\n",
       "      <td>4.000000</td>\n",
       "    </tr>\n",
       "    <tr>\n",
       "      <td>50%</td>\n",
       "      <td>183.500000</td>\n",
       "      <td>16.500000</td>\n",
       "    </tr>\n",
       "    <tr>\n",
       "      <td>75%</td>\n",
       "      <td>512.750000</td>\n",
       "      <td>37.500000</td>\n",
       "    </tr>\n",
       "    <tr>\n",
       "      <td>max</td>\n",
       "      <td>1331.000000</td>\n",
       "      <td>102.000000</td>\n",
       "    </tr>\n",
       "  </tbody>\n",
       "</table>\n",
       "</div>"
      ],
      "text/plain": [
       "            deaths    deaths_d\n",
       "count    52.000000   52.000000\n",
       "mean    333.826923   25.596154\n",
       "std     387.746821   27.112156\n",
       "min       1.000000    0.000000\n",
       "25%      22.000000    4.000000\n",
       "50%     183.500000   16.500000\n",
       "75%     512.750000   37.500000\n",
       "max    1331.000000  102.000000"
      ]
     },
     "execution_count": 16,
     "metadata": {},
     "output_type": "execute_result"
    }
   ],
   "source": [
    "# Descriptive Statistics\n",
    "df[[\"deaths\", \"deaths_d\"]].describe()"
   ]
  },
  {
   "cell_type": "markdown",
   "metadata": {},
   "source": [
    "### Line Plot"
   ]
  },
  {
   "cell_type": "code",
   "execution_count": 17,
   "metadata": {},
   "outputs": [
    {
     "data": {
      "image/png": "[encoded data removed]",
      "text/plain": [
       "<Figure size 432x288 with 1 Axes>"
      ]
     },
     "metadata": {
      "needs_background": "light"
     },
     "output_type": "display_data"
    }
   ],
   "source": [
    "df[\"deaths_d\"].plot()\n",
    "plt.show()"
   ]
  },
  {
   "cell_type": "markdown",
   "metadata": {},
   "source": [
    "- Increasing trend of cases over time.\n",
    "- There do not appears to be systematic seasonality to the cases for each day.\n",
    "- There do not appear to be any obvious outliers."
   ]
  },
  {
   "cell_type": "markdown",
   "metadata": {},
   "source": [
    "### Histogram and Density Plot"
   ]
  },
  {
   "cell_type": "code",
   "execution_count": 18,
   "metadata": {},
   "outputs": [
    {
     "data": {
      "image/png": "[encoded data removed]",
      "text/plain": [
       "<Figure size 432x288 with 2 Axes>"
      ]
     },
     "metadata": {
      "needs_background": "light"
     },
     "output_type": "display_data"
    }
   ],
   "source": [
    "plt.figure(1)\n",
    "plt.subplot(211)\n",
    "df[\"deaths_d\"].hist()\n",
    "\n",
    "plt.subplot(212)\n",
    "df[\"deaths_d\"].plot(kind='kde')\n",
    "plt.show()"
   ]
  },
  {
   "cell_type": "markdown",
   "metadata": {},
   "source": [
    "- The distribution is not Guassian.\n",
    "- The shape has a long right rail and may suggest an exponential distribution."
   ]
  },
  {
   "cell_type": "markdown",
   "metadata": {},
   "source": [
    "### Box and Whisker Plots"
   ]
  },
  {
   "cell_type": "code",
   "execution_count": 19,
   "metadata": {},
   "outputs": [
    {
     "data": {
      "image/png": "[encoded data removed]",
      "text/plain": [
       "<Figure size 360x360 with 1 Axes>"
      ]
     },
     "metadata": {
      "needs_background": "light"
     },
     "output_type": "display_data"
    }
   ],
   "source": [
    "plt.figure(figsize=(5,5))\n",
    "bplot = sns.boxplot(y='deaths_d', \n",
    "                 data=df, \n",
    "                 width=0.5,\n",
    "                 palette=\"colorblind\")\n",
    "\n",
    "bplot.axes.set_title(\"Deaths per day\", fontsize=16)\n",
    "bplot.set_xlabel(\" \", fontsize=12)\n",
    "bplot.set_ylabel(\"Quantity\", fontsize=12)\n",
    "bplot.tick_params(labelsize=10)"
   ]
  },
  {
   "cell_type": "markdown",
   "metadata": {},
   "source": [
    "- There are outliers on the top."
   ]
  },
  {
   "cell_type": "code",
   "execution_count": 20,
   "metadata": {},
   "outputs": [
    {
     "data": {
      "image/png": "[encoded data removed]",
      "text/plain": [
       "<Figure size 720x360 with 1 Axes>"
      ]
     },
     "metadata": {
      "needs_background": "light"
     },
     "output_type": "display_data"
    }
   ],
   "source": [
    "plt.figure(figsize=(10,5))\n",
    "bplot = sns.boxplot(y='deaths_d', x='week', data=df,\n",
    "                    width=0.5, palette=\"colorblind\")\n",
    "\n",
    "bplot.axes.set_title(\"Deaths Per Week\", fontsize=16)\n",
    "bplot.set_xlabel(\"Week\", fontsize=12)\n",
    "bplot.set_ylabel(\"Deaths\", fontsize=12)\n",
    "bplot.tick_params(labelsize=10)\n",
    "\n",
    "# output file name\n",
    "#plot_file_name=\"boxplot.jpg\"\n",
    " \n",
    "# save as jpeg\n",
    "#bplot.figure.savefig(plot_file_name, format='jpeg', dpi=100)"
   ]
  },
  {
   "cell_type": "markdown",
   "metadata": {},
   "source": [
    "### Heat Maps"
   ]
  },
  {
   "cell_type": "code",
   "execution_count": 21,
   "metadata": {},
   "outputs": [
    {
     "data": {
      "image/png": "[encoded data removed]",
      "text/plain": [
       "<Figure size 432x288 with 2 Axes>"
      ]
     },
     "metadata": {
      "needs_background": "light"
     },
     "output_type": "display_data"
    }
   ],
   "source": [
    "# Analysing correlations\n",
    "\n",
    "corr = df[[\"deaths\", \"deaths_d\"]].corr()\n",
    "fig, ax = plt.subplots(figsize=(6, 4))\n",
    "colormap = sns.diverging_palette(220, 10, as_cmap=True)\n",
    "   \n",
    "dropSelf = np.zeros_like(corr)\n",
    "dropSelf[np.triu_indices_from(dropSelf)] = True\n",
    "\n",
    "sns.set()\n",
    "sns.heatmap(corr, cmap=colormap, annot=True, fmt=\".2f\", mask=dropSelf)\n",
    "\n",
    "plt.show()"
   ]
  },
  {
   "cell_type": "markdown",
   "metadata": {},
   "source": [
    "### Lag Scatter Plots"
   ]
  },
  {
   "cell_type": "code",
   "execution_count": 22,
   "metadata": {},
   "outputs": [
    {
     "name": "stderr",
     "output_type": "stream",
     "text": [
      "'c' argument looks like a single numeric RGB or RGBA sequence, which should be avoided as value-mapping will have precedence in case its length matches with 'x' & 'y'.  Please use a 2-D array with a single row if you really want to specify the same RGB or RGBA value for all points.\n"
     ]
    },
    {
     "data": {
      "image/png": "[encoded data removed]",
      "text/plain": [
       "<Figure size 432x288 with 1 Axes>"
      ]
     },
     "metadata": {},
     "output_type": "display_data"
    }
   ],
   "source": [
    "from pandas.plotting import lag_plot\n",
    "lag_plot(df[\"deaths_d\"])\n",
    "plt.show()"
   ]
  },
  {
   "cell_type": "code",
   "execution_count": 23,
   "metadata": {
    "scrolled": false
   },
   "outputs": [
    {
     "data": {
      "image/png": "[encoded data removed]",
      "text/plain": [
       "<Figure size 864x576 with 7 Axes>"
      ]
     },
     "metadata": {},
     "output_type": "display_data"
    }
   ],
   "source": [
    "from pandas import concat\n",
    "\n",
    "lags = 7\n",
    "columns = [df[\"deaths_d\"]]\n",
    "\n",
    "for i in range(1,(lags + 1)):\n",
    "    columns.append(df[\"deaths_d\"].shift(i))\n",
    "\n",
    "dataframe = concat(columns, axis=1) \n",
    "columns = ['t']\n",
    "\n",
    "for i in range(1,(lags + 1)):\n",
    "    columns.append('t-' + str(i)) \n",
    "\n",
    "dataframe.columns = columns \n",
    "plt.figure(1, figsize=(12, 8))\n",
    "\n",
    "for i in range(1,(lags + 1)):\n",
    "    ax = plt.subplot(240 + i)\n",
    "    ax.set_title('t vs t-' + str(i))\n",
    "    plt.scatter(x=dataframe['t'].values, y=dataframe['t-'+str(i)].values)\n",
    "plt.show()"
   ]
  },
  {
   "cell_type": "markdown",
   "metadata": {},
   "source": [
    "### Correlation"
   ]
  },
  {
   "cell_type": "code",
   "execution_count": 24,
   "metadata": {},
   "outputs": [
    {
     "name": "stdout",
     "output_type": "stream",
     "text": [
      "            t       t+1\n",
      "t    1.000000  0.832285\n",
      "t+1  0.832285  1.000000\n"
     ]
    }
   ],
   "source": [
    "values =  pd.DataFrame(df[\"deaths_d\"])\n",
    "dataframe = concat([values.shift(1), values], axis=1) \n",
    "dataframe.columns = ['t', 't+1']\n",
    "result = dataframe.corr()\n",
    "print(result)"
   ]
  },
  {
   "cell_type": "markdown",
   "metadata": {},
   "source": [
    "### Autocorrelation"
   ]
  },
  {
   "cell_type": "code",
   "execution_count": 25,
   "metadata": {
    "scrolled": false
   },
   "outputs": [
    {
     "data": {
      "image/png": "[encoded data removed]",
      "text/plain": [
       "<Figure size 432x288 with 1 Axes>"
      ]
     },
     "metadata": {},
     "output_type": "display_data"
    }
   ],
   "source": [
    "# autocorrelation\n",
    "autocorrelation_plot(df[\"deaths_d\"])\n",
    "plt.show()"
   ]
  },
  {
   "cell_type": "markdown",
   "metadata": {},
   "source": [
    "## Test Harness"
   ]
  },
  {
   "cell_type": "markdown",
   "metadata": {},
   "source": [
    "### Validation Dataset"
   ]
  },
  {
   "cell_type": "code",
   "execution_count": 26,
   "metadata": {},
   "outputs": [
    {
     "name": "stdout",
     "output_type": "stream",
     "text": [
      "Dataset 47, Validation 5\n"
     ]
    }
   ],
   "source": [
    "# split into a training and validation dataset\n",
    "#from pandas import read_csv\n",
    "\n",
    "series = df[\"deaths_d\"]\n",
    "split_point = round(len(series) * 0.9)\n",
    "dataset, validation = series[0:split_point], series[split_point:]\n",
    "print('Dataset %d, Validation %d' % (len(dataset), len(validation))) \n",
    "\n",
    "dataset.to_csv('dataset.csv')\n",
    "validation.to_csv('validation.csv')"
   ]
  },
  {
   "cell_type": "markdown",
   "metadata": {},
   "source": [
    "### Prepare Data"
   ]
  },
  {
   "cell_type": "code",
   "execution_count": 27,
   "metadata": {},
   "outputs": [
    {
     "name": "stdout",
     "output_type": "stream",
     "text": [
      "train 23, test 24\n"
     ]
    }
   ],
   "source": [
    "X = dataset.values\n",
    "X = X.astype('float32')\n",
    "train_size = int(len(X) * 0.50)\n",
    "train, test = X[0:train_size], X[train_size:]\n",
    "\n",
    "print('train %d, test %d' % (len(train), len(test)))"
   ]
  },
  {
   "cell_type": "markdown",
   "metadata": {},
   "source": [
    "### Persistence - Base Line Model"
   ]
  },
  {
   "cell_type": "code",
   "execution_count": 46,
   "metadata": {},
   "outputs": [
    {
     "name": "stdout",
     "output_type": "stream",
     "text": [
      ">Predicted=18.000, Expected= 21\n",
      ">Predicted=21.000, Expected= 16\n",
      ">Predicted=16.000, Expected= 21\n",
      ">Predicted=21.000, Expected=  3\n",
      ">Predicted=3.000, Expected=  8\n",
      ">Predicted=8.000, Expected= 14\n",
      ">Predicted=14.000, Expected= 27\n",
      ">Predicted=27.000, Expected= 21\n",
      ">Predicted=21.000, Expected= 32\n",
      ">Predicted=32.000, Expected= 17\n",
      ">Predicted=17.000, Expected= 16\n",
      ">Predicted=16.000, Expected= 31\n",
      ">Predicted=31.000, Expected= 29\n",
      ">Predicted=29.000, Expected= 45\n",
      ">Predicted=45.000, Expected= 51\n",
      ">Predicted=51.000, Expected= 25\n",
      ">Predicted=25.000, Expected= 47\n",
      ">Predicted=47.000, Expected= 36\n",
      ">Predicted=36.000, Expected= 65\n",
      ">Predicted=65.000, Expected=102\n",
      ">Predicted=102.000, Expected= 55\n",
      ">Predicted=55.000, Expected= 68\n",
      ">Predicted=68.000, Expected= 88\n",
      ">Predicted=88.000, Expected= 42\n",
      "RMSE: 20.312\n"
     ]
    }
   ],
   "source": [
    "# evaluate a persistence model\n",
    "\n",
    "#from pandas import read_csv\n",
    "#from sklearn.metrics import mean_squared_error\n",
    "#from math import sqrt\n",
    "\n",
    "# walk-forward validation\n",
    "history = [x for x in train]\n",
    "predictions = list()\n",
    "\n",
    "for i in range(len(test)):\n",
    "    \n",
    "    # predict\n",
    "    yhat = history[-1]\n",
    "    predictions.append(yhat)\n",
    "    \n",
    "    # observation\n",
    "    obs = test[i]\n",
    "    history.append(obs)\n",
    "    print('>Predicted=%.3f, Expected=%3.f' % (yhat, obs))\n",
    "\n",
    "    # report performance\n",
    "persistence_rmse = np.sqrt(mean_squared_error(test, predictions)) \n",
    "print('RMSE: %.3f' % persistence_rmse)"
   ]
  },
  {
   "cell_type": "markdown",
   "metadata": {},
   "source": [
    "## ARIMA Models"
   ]
  },
  {
   "cell_type": "code",
   "execution_count": 29,
   "metadata": {},
   "outputs": [
    {
     "name": "stdout",
     "output_type": "stream",
     "text": [
      "ADF Statistic: -1.336450\n",
      "p-value: 0.612336\n",
      "Critical Values:\n",
      "\t1%: -3.606\n",
      "\t5%: -2.937\n",
      "\t10%: -2.607\n"
     ]
    },
    {
     "data": {
      "image/png": "[encoded data removed]",
      "text/plain": [
       "<Figure size 432x288 with 1 Axes>"
      ]
     },
     "metadata": {},
     "output_type": "display_data"
    }
   ],
   "source": [
    "# statistical test for the stationarity of the time series\n",
    "#from pandas import read_csv\n",
    "#from pandas import Series\n",
    "from statsmodels.tsa.stattools import adfuller\n",
    "\n",
    "# create a differenced time series\n",
    "def difference(data):\n",
    "    diff = list()\n",
    "    for i in range(1, len(data)):\n",
    "        value = data[i] - data[i - 1]\n",
    "        diff.append(value)\n",
    "    return pd.Series(diff)\n",
    "\n",
    "\n",
    "\n",
    "# series = read_csv('dataset.csv', header=None, index_col=0, parse_dates=True, squeeze=True) X = series.values\n",
    "# X = series.values\n",
    "\n",
    "# difference data\n",
    "stationary = difference(dataset)\n",
    "#stationary.index = series.index[1:]\n",
    "\n",
    "# check if stationary\n",
    "def adf(X):\n",
    "    result = adfuller(X) \n",
    "    print('ADF Statistic: %f' % result[0]) \n",
    "    print('p-value: %f' % result[1]) \n",
    "    print('Critical Values:')\n",
    "    for key, value in result[4].items():\n",
    "        print('\\t%s: %.3f' % (key, value)) \n",
    "    return None\n",
    "\n",
    "adf(stationary)\n",
    "\n",
    "plt.plot(stationary)\n",
    "plt.show()\n",
    "\n",
    "# save\n",
    "stationary.to_csv('stationary.csv')"
   ]
  },
  {
   "cell_type": "code",
   "execution_count": 30,
   "metadata": {
    "scrolled": true
   },
   "outputs": [
    {
     "data": {
      "image/png": "[encoded data removed]",
      "text/plain": [
       "<Figure size 432x288 with 1 Axes>"
      ]
     },
     "metadata": {},
     "output_type": "display_data"
    }
   ],
   "source": [
    " # autocorrelation plot\n",
    "autocorrelation_plot(dataset)\n",
    "plt.show()"
   ]
  },
  {
   "cell_type": "markdown",
   "metadata": {},
   "source": [
    "- there are high correlations before day 3."
   ]
  },
  {
   "cell_type": "code",
   "execution_count": 31,
   "metadata": {},
   "outputs": [
    {
     "data": {
      "image/png": "[encoded data removed]",
      "text/plain": [
       "<Figure size 720x576 with 2 Axes>"
      ]
     },
     "metadata": {},
     "output_type": "display_data"
    }
   ],
   "source": [
    "# ACF and PACF plots of time series\n",
    "#from pandas import read_csv\n",
    "from statsmodels.graphics.tsaplots import plot_acf\n",
    "from statsmodels.graphics.tsaplots import plot_pacf\n",
    "#from matplotlib import pyplot\n",
    "\n",
    "def acf_pacf(X):\n",
    "    plt.figure(figsize=(10,8))\n",
    "    plt.subplot(211)\n",
    "    plot_acf(X, ax=plt.gca())\n",
    "    plt.subplot(212)\n",
    "    plot_pacf(X, ax=plt.gca())\n",
    "    plt.show()\n",
    "    return None\n",
    "\n",
    "acf_pacf(dataset)"
   ]
  },
  {
   "cell_type": "code",
   "execution_count": 32,
   "metadata": {},
   "outputs": [],
   "source": [
    "from statsmodels.tsa.arima_model import ARIMA\n",
    "\n",
    "# ARIMA\n",
    "p = 2   # Autocorrelation Function (ACF)\n",
    "\n",
    "d = 1   # level of differencing\n",
    "\n",
    "q = 0   # Partial Autocorrelation Function (PACF)"
   ]
  },
  {
   "cell_type": "code",
   "execution_count": 33,
   "metadata": {
    "scrolled": true
   },
   "outputs": [
    {
     "name": "stdout",
     "output_type": "stream",
     "text": [
      ">Predicted=18.379, Expected= 21\n",
      ">Predicted=20.923, Expected= 16\n",
      ">Predicted=19.152, Expected= 21\n",
      ">Predicted=20.294, Expected=  3\n",
      ">Predicted=14.266, Expected=  8\n",
      ">Predicted=2.645, Expected= 14\n",
      ">Predicted=11.214, Expected= 27\n",
      ">Predicted=24.874, Expected= 21\n",
      ">Predicted=23.976, Expected= 32\n",
      ">Predicted=28.682, Expected= 17\n",
      ">Predicted=26.065, Expected= 16\n",
      ">Predicted=15.385, Expected= 31\n",
      ">Predicted=25.535, Expected= 29\n",
      ">Predicted=29.349, Expected= 45\n",
      ">Predicted=40.308, Expected= 51\n",
      ">Predicted=51.891, Expected= 25\n",
      ">Predicted=36.673, Expected= 47\n",
      ">Predicted=42.600, Expected= 36\n",
      ">Predicted=40.293, Expected= 65\n",
      ">Predicted=50.239, Expected=102\n",
      ">Predicted=97.644, Expected= 55\n",
      ">Predicted=71.718, Expected= 68\n",
      ">Predicted=80.907, Expected= 88\n",
      ">Predicted=75.128, Expected= 42\n"
     ]
    }
   ],
   "source": [
    "# walk-forward validation\n",
    "history = [x for x in train]\n",
    "predictions = list()\n",
    "for i in range(len(test)):\n",
    "    # predict\n",
    "    model = ARIMA(history, order=(p,d,q))\n",
    "    model_fit = model.fit(disp=0)\n",
    "    yhat = model_fit.forecast()[0]\n",
    "    predictions.append(yhat)\n",
    "    # observation\n",
    "    obs = test[i]\n",
    "    history.append(obs)\n",
    "    print('>Predicted=%.3f, Expected=%3.f' % (yhat, obs))"
   ]
  },
  {
   "cell_type": "code",
   "execution_count": 34,
   "metadata": {},
   "outputs": [
    {
     "name": "stdout",
     "output_type": "stream",
     "text": [
      "RMSE: 19.177\n",
      "\n",
      "                             ARIMA Model Results                              \n",
      "==============================================================================\n",
      "Dep. Variable:                    D.y   No. Observations:                   45\n",
      "Model:                 ARIMA(2, 1, 0)   Log Likelihood                -172.867\n",
      "Method:                       css-mle   S.D. of innovations             11.209\n",
      "Date:                Sat, 16 May 2020   AIC                            353.734\n",
      "Time:                        15:43:14   BIC                            360.961\n",
      "Sample:                             1   HQIC                           356.428\n",
      "                                                                              \n",
      "==============================================================================\n",
      "                 coef    std err          z      P>|z|      [0.025      0.975]\n",
      "------------------------------------------------------------------------------\n",
      "const          1.7205      0.869      1.979      0.054       0.016       3.425\n",
      "ar.L1.D.y     -0.5483      0.141     -3.895      0.000      -0.824      -0.272\n",
      "ar.L2.D.y     -0.4051      0.139     -2.919      0.006      -0.677      -0.133\n",
      "                                    Roots                                    \n",
      "=============================================================================\n",
      "                  Real          Imaginary           Modulus         Frequency\n",
      "-----------------------------------------------------------------------------\n",
      "AR.1           -0.6767           -1.4179j            1.5711           -0.3209\n",
      "AR.2           -0.6767           +1.4179j            1.5711            0.3209\n",
      "-----------------------------------------------------------------------------\n"
     ]
    },
    {
     "data": {
      "image/png": "[encoded data removed]",
      "text/plain": [
       "<Figure size 432x288 with 1 Axes>"
      ]
     },
     "metadata": {},
     "output_type": "display_data"
    },
    {
     "data": {
      "image/png": "[encoded data removed]",
      "text/plain": [
       "<Figure size 432x288 with 1 Axes>"
      ]
     },
     "metadata": {},
     "output_type": "display_data"
    },
    {
     "name": "stdout",
     "output_type": "stream",
     "text": [
      "               0\n",
      "count  45.000000\n",
      "mean   -0.063574\n",
      "std    11.339086\n",
      "min   -20.645103\n",
      "25%    -3.931436\n",
      "50%    -1.199062\n",
      "75%     1.045524\n",
      "max    45.083365\n"
     ]
    }
   ],
   "source": [
    "# report performance\n",
    "rmse = np.sqrt(mean_squared_error(test, predictions)) \n",
    "print('RMSE: %.3f' % rmse)\n",
    "    \n",
    "print()\n",
    "\n",
    "# summary of fit model\n",
    "print(model_fit.summary())\n",
    "\n",
    "# line plot of residuals\n",
    "residuals = pd.DataFrame(model_fit.resid) \n",
    "residuals.plot()\n",
    "plt.show()\n",
    "\n",
    "# density plot of residuals residuals.plot(kind='kde') \n",
    "residuals.plot(kind='kde')\n",
    "plt.show()\n",
    "\n",
    "# summary stats of residuals\n",
    "print(residuals.describe())"
   ]
  },
  {
   "cell_type": "markdown",
   "metadata": {},
   "source": [
    "Note, that although above we used the entire dataset for time series analysis, ideally we would perform this analysis on just the training dataset when developing a predictive model."
   ]
  },
  {
   "cell_type": "markdown",
   "metadata": {},
   "source": [
    "### Grid Search ARIMA Hyperparameters"
   ]
  },
  {
   "cell_type": "code",
   "execution_count": 35,
   "metadata": {
    "scrolled": false
   },
   "outputs": [
    {
     "name": "stdout",
     "output_type": "stream",
     "text": [
      "ARIMA(0, 0, 0) RMSE=33.136\n",
      "ARIMA(0, 0, 1) RMSE=24.273\n",
      "ARIMA(0, 0, 2) RMSE=26.588\n",
      "ARIMA(0, 1, 0) RMSE=20.545\n",
      "ARIMA(0, 1, 1) RMSE=19.860\n",
      "ARIMA(0, 1, 2) RMSE=21.792\n",
      "ARIMA(0, 2, 0) RMSE=32.605\n",
      "ARIMA(0, 2, 1) RMSE=21.164\n",
      "ARIMA(1, 0, 0) RMSE=20.823\n",
      "ARIMA(1, 1, 0) RMSE=19.966\n",
      "ARIMA(1, 2, 0) RMSE=28.271\n",
      "ARIMA(2, 0, 0) RMSE=20.208\n",
      "ARIMA(2, 1, 0) RMSE=19.177\n",
      "ARIMA(2, 2, 0) RMSE=22.134\n",
      "ARIMA(3, 0, 0) RMSE=20.028\n",
      "ARIMA(3, 1, 0) RMSE=19.767\n",
      "ARIMA(3, 1, 1) RMSE=19.486\n",
      "ARIMA(3, 2, 0) RMSE=23.509\n",
      "ARIMA(4, 0, 0) RMSE=20.255\n",
      "ARIMA(4, 1, 0) RMSE=18.516\n",
      "ARIMA(4, 2, 0) RMSE=23.897\n",
      "ARIMA(5, 0, 0) RMSE=20.383\n",
      "ARIMA(5, 1, 0) RMSE=18.957\n",
      "ARIMA(7, 1, 0) RMSE=18.945\n",
      "Best ARIMA(4, 1, 0) RMSE=18.516\n"
     ]
    },
    {
     "data": {
      "image/png": "[encoded data removed]",
      "text/plain": [
       "<Figure size 432x288 with 1 Axes>"
      ]
     },
     "metadata": {},
     "output_type": "display_data"
    }
   ],
   "source": [
    "# evaluate an ARIMA model for a given order (p,d,q) and return RMSE\n",
    "\n",
    "def evaluate_arima_model(train, test, arima_order): # prepare training dataset\n",
    "    #X = X.astype('float32')\n",
    "    #train_size = int(len(X) * 0.70)\n",
    "    #train, test = X[0:train_size], X[train_size:]\n",
    "    history = [x for x in train]\n",
    "\n",
    "    # make predictions\n",
    "    predictions = list()\n",
    "    for t in range(len(test)):\n",
    "        model = ARIMA(history, order=arima_order)\n",
    "        model_fit = model.fit(disp=0)\n",
    "        yhat = model_fit.forecast()[0]\n",
    "        predictions.append(yhat)\n",
    "        history.append(test[t])\n",
    "    \n",
    "    # calculate out of sample error\n",
    "    rmse = np.sqrt(mean_squared_error(test, predictions))\n",
    "    return rmse, predictions\n",
    "\n",
    "# evaluate combinations of p, d and q values for an ARIMA model\n",
    "def evaluate_models(train, test, p_values, d_values, q_values): \n",
    "    #dataset = dataset.astype('float32')\n",
    "    best_score, best_cfg, best_test, best_predictions = float(\"inf\"), None, None, None\n",
    "    for p in p_values:\n",
    "        for d in d_values:\n",
    "             for q in q_values:\n",
    "                order = (p,d,q)\n",
    "                try:\n",
    "                    rmse, predictions = evaluate_arima_model(train, test, order)\n",
    "                    if rmse < best_score:\n",
    "                        best_score, best_cfg = rmse, order\n",
    "                        best_predictions = predictions\n",
    "                    print('ARIMA%s RMSE=%.3f' % (order,rmse))\n",
    "                except:\n",
    "                    continue\n",
    "    print('Best ARIMA%s RMSE=%.3f' % (best_cfg, best_score))\n",
    "    \n",
    "    # plot forecasts against actual outcomes \n",
    "    plt.plot(test, label=\"test\")\n",
    "    plt.plot(best_predictions, color='red', label=\"predictions\") \n",
    "    plt.legend(loc=\"upper left\")\n",
    "    plt.show()\n",
    "    \n",
    "    return best_score, best_cfg, best_predictions\n",
    "    \n",
    "\n",
    "# load dataset\n",
    "#series = read_csv('dataset.csv', header=None, index_col=0, parse_dates=True, squeeze=True) # evaluate parameters\n",
    "p_values = range(0, 10)\n",
    "d_values = range(0, 3)\n",
    "q_values = range(0, 3)\n",
    "\n",
    "# execute\n",
    "arima_score, best_cfg, best_predictions = evaluate_models(train, test, p_values, d_values, q_values) "
   ]
  },
  {
   "cell_type": "markdown",
   "metadata": {},
   "source": [
    "### Review Residual Errors"
   ]
  },
  {
   "cell_type": "code",
   "execution_count": 36,
   "metadata": {},
   "outputs": [
    {
     "data": {
      "image/png": "[encoded data removed]",
      "text/plain": [
       "<Figure size 720x576 with 2 Axes>"
      ]
     },
     "metadata": {},
     "output_type": "display_data"
    }
   ],
   "source": [
    "# errors\n",
    "residuals = [test[i]-best_predictions[i] for i in range(len(test))]\n",
    "residuals = pd.DataFrame(residuals)\n",
    "\n",
    "\n",
    "\n",
    "fig = plt.figure(figsize=(10,8))\n",
    "fig.suptitle(\"Residual Errors\", fontsize=16)\n",
    "ax1 = fig.add_subplot(211)\n",
    "ax1.title.set_text('Histogram')\n",
    "ax1 = residuals.hist(ax=plt.gca())\n",
    "\n",
    "ax2 = fig.add_subplot(212)\n",
    "ax2.title.set_text('Density Plot')\n",
    "ax2 = residuals.plot(kind='kde', ax=plt.gca()) \n",
    "plt.show();"
   ]
  },
  {
   "cell_type": "code",
   "execution_count": 38,
   "metadata": {},
   "outputs": [
    {
     "data": {
      "image/png": "[encoded data removed]",
      "text/plain": [
       "<Figure size 720x576 with 2 Axes>"
      ]
     },
     "metadata": {},
     "output_type": "display_data"
    }
   ],
   "source": [
    "# residuals\n",
    "acf_pacf(residuals)"
   ]
  },
  {
   "cell_type": "markdown",
   "metadata": {},
   "source": [
    "### Box-Cox Transformed Dataset"
   ]
  },
  {
   "cell_type": "code",
   "execution_count": 39,
   "metadata": {},
   "outputs": [
    {
     "data": {
      "image/png": "[encoded data removed]",
      "text/plain": [
       "<Figure size 720x576 with 3 Axes>"
      ]
     },
     "metadata": {},
     "output_type": "display_data"
    }
   ],
   "source": [
    "from statsmodels.graphics.gofplots import qqplot\n",
    "\n",
    "# before transform\n",
    "\n",
    "plt.figure(figsize=(10,8))\n",
    "\n",
    "# line plot\n",
    "plt.subplot(311)\n",
    "plt.plot(dataset)\n",
    "# histogram\n",
    "plt.subplot(312)\n",
    "plt.hist(dataset)\n",
    "# q-q plot\n",
    "plt.subplot(313)\n",
    "qqplot(dataset, line='r', ax=plt.gca()) \n",
    "plt.show()"
   ]
  },
  {
   "cell_type": "code",
   "execution_count": 41,
   "metadata": {},
   "outputs": [
    {
     "name": "stdout",
     "output_type": "stream",
     "text": [
      "Lambda: 0.182489\n"
     ]
    }
   ],
   "source": [
    "from scipy.stats import boxcox\n",
    "\n",
    "# transformation pre because zeros into the dataset\n",
    "\n",
    "def box_cox(X):\n",
    "    X = pd.Series(X)\n",
    "    posdata = X[X > 0]\n",
    "\n",
    "    bcdata, lam = boxcox(posdata)\n",
    "\n",
    "    transformed = np.empty_like(X)\n",
    "    transformed[X > 0] = bcdata\n",
    "    transformed[X == 0] = -1/lam\n",
    "    return transformed, lam\n",
    "\n",
    "transformed, lam = box_cox(dataset)\n",
    "print('Lambda: %f' % lam)"
   ]
  },
  {
   "cell_type": "code",
   "execution_count": 42,
   "metadata": {},
   "outputs": [
    {
     "data": {
      "image/png": "[encoded data removed]",
      "text/plain": [
       "<Figure size 720x576 with 3 Axes>"
      ]
     },
     "metadata": {},
     "output_type": "display_data"
    }
   ],
   "source": [
    "plt.figure(figsize=(10,8))\n",
    "\n",
    "# line plot\n",
    "plt.subplot(311)\n",
    "plt.plot(transformed)\n",
    "# histogram\n",
    "plt.subplot(312)\n",
    "plt.hist(transformed)\n",
    "# q-q plot\n",
    "plt.subplot(313)\n",
    "qqplot(transformed, line='r', ax=plt.gca()) \n",
    "plt.show()"
   ]
  },
  {
   "cell_type": "markdown",
   "metadata": {},
   "source": [
    "### ARIMA after box-cox tranformation"
   ]
  },
  {
   "cell_type": "code",
   "execution_count": 48,
   "metadata": {},
   "outputs": [
    {
     "name": "stdout",
     "output_type": "stream",
     "text": [
      ">Predicted=24.924, Expected= 21\n",
      ">Predicted=25.703, Expected= 16\n",
      ">Predicted=23.084, Expected= 21\n",
      ">Predicted=26.642, Expected=  3\n",
      ">Predicted=10.381, Expected=  8\n",
      ">Predicted=15.364, Expected= 14\n",
      ">Predicted=10.399, Expected= 27\n",
      ">Predicted=17.930, Expected= 21\n",
      ">Predicted=19.048, Expected= 32\n",
      ">Predicted=32.469, Expected= 17\n",
      ">Predicted=24.600, Expected= 16\n",
      ">Predicted=22.946, Expected= 31\n",
      ">Predicted=30.081, Expected= 29\n",
      ">Predicted=28.881, Expected= 45\n",
      ">Predicted=39.873, Expected= 51\n",
      ">Predicted=46.582, Expected= 25\n",
      ">Predicted=38.463, Expected= 47\n",
      ">Predicted=54.378, Expected= 36\n",
      ">Predicted=41.551, Expected= 65\n",
      ">Predicted=62.606, Expected=102\n",
      ">Predicted=77.898, Expected= 55\n",
      ">Predicted=72.908, Expected= 68\n",
      ">Predicted=98.680, Expected= 88\n",
      ">Predicted=90.377, Expected= 42\n",
      "RMSE: 18.117\n"
     ]
    }
   ],
   "source": [
    "# invert box-cox transform\n",
    "def boxcox_inverse(value, lam):\n",
    "    if lam == 0:\n",
    "        return np.exp(value)\n",
    "    return np.exp(np.log(lam * value + 1) / lam)\n",
    "\n",
    "# walk-forward validation\n",
    "history = [x for x in train]\n",
    "predictions = list()\n",
    "\n",
    "for i in range(len(test)):\n",
    "    # transform\n",
    "    transformed, lam = box_cox(history)\n",
    "    if lam < -5:\n",
    "        transformed, lam = history, 1\n",
    "\n",
    "    # predict\n",
    "    model = ARIMA(transformed, order=(best_cfg)) # previous best_cfg\n",
    "    model_fit = model.fit(disp=0)\n",
    "    yhat = model_fit.forecast()[0]\n",
    "    \n",
    "    # invert transformed prediction\n",
    "    yhat = boxcox_inverse(yhat, lam) \n",
    "    predictions.append(yhat)\n",
    "    \n",
    "    # observation\n",
    "    obs = test[i]\n",
    "    history.append(obs)\n",
    "    print('>Predicted=%.3f, Expected=%3.f' % (yhat, obs))\n",
    "\n",
    "# report performance\n",
    "box_cox_rmse = np.sqrt(mean_squared_error(test, predictions)) \n",
    "print('RMSE: %.3f' % box_cox_rmse)"
   ]
  },
  {
   "cell_type": "code",
   "execution_count": 44,
   "metadata": {},
   "outputs": [
    {
     "data": {
      "image/png": "[encoded data removed]",
      "text/plain": [
       "<Figure size 432x288 with 1 Axes>"
      ]
     },
     "metadata": {},
     "output_type": "display_data"
    }
   ],
   "source": [
    "# plot forecasts against actual outcomes \n",
    "plt.plot(test, label=\"test\")\n",
    "plt.plot(predictions, color='red', label=\"predictions\") \n",
    "plt.legend(loc=\"upper left\")\n",
    "plt.show()"
   ]
  },
  {
   "cell_type": "code",
   "execution_count": 49,
   "metadata": {},
   "outputs": [
    {
     "name": "stdout",
     "output_type": "stream",
     "text": [
      ">Persistence score=20.312\n",
      ">Previous ARIMA score=18.516\n",
      ">Box-Cox ARIMA score=18.117\n"
     ]
    }
   ],
   "source": [
    "# Compare scores\n",
    "\n",
    "print('>Persistence score=%.3f' % (persistence_rmse))\n",
    "print('>Previous ARIMA score=%.3f' % (arima_score))\n",
    "print('>Box-Cox ARIMA score=%.3f' % (box_cox_rmse))"
   ]
  },
  {
   "cell_type": "code",
   "execution_count": null,
   "metadata": {},
   "outputs": [],
   "source": []
  },
  {
   "cell_type": "code",
   "execution_count": null,
   "metadata": {},
   "outputs": [],
   "source": []
  },
  {
   "cell_type": "code",
   "execution_count": null,
   "metadata": {},
   "outputs": [],
   "source": []
  },
  {
   "cell_type": "code",
   "execution_count": null,
   "metadata": {},
   "outputs": [],
   "source": []
  },
  {
   "cell_type": "code",
   "execution_count": null,
   "metadata": {},
   "outputs": [],
   "source": []
  },
  {
   "cell_type": "code",
   "execution_count": null,
   "metadata": {},
   "outputs": [],
   "source": []
  },
  {
   "cell_type": "code",
   "execution_count": null,
   "metadata": {},
   "outputs": [],
   "source": []
  },
  {
   "cell_type": "code",
   "execution_count": null,
   "metadata": {},
   "outputs": [],
   "source": []
  },
  {
   "cell_type": "code",
   "execution_count": null,
   "metadata": {},
   "outputs": [],
   "source": []
  },
  {
   "cell_type": "code",
   "execution_count": null,
   "metadata": {},
   "outputs": [],
   "source": []
  },
  {
   "cell_type": "markdown",
   "metadata": {},
   "source": [
    "### Resampling\n",
    "\n",
    "Two types of resampling are:\n",
    "\n",
    "- Upsampling: Where you increase the frequency of the samples, such as from minutes to seconds.\n",
    "\n",
    "- Downsampling: Where you decrease the frequency of the samples, such as from days to months.\n",
    "\n",
    "There are perhaps two main reasons why you may be interested in resampling your time series data:\n",
    "\n",
    "- 􏰀Problem Framing: Resampling may be required if your data is available at the same frequency that you want to make predictions.\n",
    "\n",
    "- Feature Engineering: Resampling can also be used to provide additional structure or insight into the learning problem for supervised learning models.\n",
    "\n",
    "p.53"
   ]
  },
  {
   "cell_type": "code",
   "execution_count": null,
   "metadata": {},
   "outputs": [],
   "source": [
    "df.head(2)"
   ]
  },
  {
   "cell_type": "code",
   "execution_count": null,
   "metadata": {},
   "outputs": [],
   "source": [
    "# visualize downsampling to \"week\" mean\n",
    "\n",
    "week_mean = df[\"deaths_d\"].resample('W', level=0).mean()\n",
    "week_mean"
   ]
  },
  {
   "cell_type": "code",
   "execution_count": null,
   "metadata": {},
   "outputs": [],
   "source": [
    "week_mean.plot() \n",
    "plt.show()"
   ]
  },
  {
   "cell_type": "code",
   "execution_count": null,
   "metadata": {},
   "outputs": [],
   "source": [
    "# week sum\n",
    "\n",
    "week_sum = df[\"deaths_d\"].resample('W', level=0).sum()\n",
    "week_sum"
   ]
  },
  {
   "cell_type": "code",
   "execution_count": null,
   "metadata": {},
   "outputs": [],
   "source": [
    "week_sum.plot() \n",
    "plt.show()"
   ]
  },
  {
   "cell_type": "markdown",
   "metadata": {},
   "source": [
    "## Power Transforms\n",
    "\n",
    "### Quadratic Transform"
   ]
  },
  {
   "cell_type": "code",
   "execution_count": null,
   "metadata": {},
   "outputs": [],
   "source": [
    "# contrive a quadratic time series\n",
    "\n",
    "df['deaths_d_quad'] = df['deaths_d']**2\n",
    "plt.figure(1, figsize=(12, 8))\n",
    "# line plot\n",
    "plt.subplot(211) \n",
    "plt.plot(df['deaths_d_quad'])\n",
    "# histogram\n",
    "plt.subplot(212) \n",
    "plt.hist(df['deaths_d_quad'])\n",
    "plt.show()"
   ]
  },
  {
   "cell_type": "markdown",
   "metadata": {},
   "source": [
    "### Square Root Transform"
   ]
  },
  {
   "cell_type": "code",
   "execution_count": null,
   "metadata": {
    "scrolled": false
   },
   "outputs": [],
   "source": [
    "# square root transform a time series\n",
    "\n",
    "df['deaths_d_sqrt'] = np.sqrt(df['deaths_d']) \n",
    "plt.figure(1, figsize=(12, 8))\n",
    "# line plot\n",
    "plt.subplot(211) \n",
    "plt.plot(df['deaths_d_sqrt'])\n",
    "# histogram\n",
    "plt.subplot(212) \n",
    "plt.hist(df['deaths_d_sqrt'])\n",
    "plt.show()"
   ]
  },
  {
   "cell_type": "markdown",
   "metadata": {},
   "source": [
    "### Exponential Transform"
   ]
  },
  {
   "cell_type": "code",
   "execution_count": null,
   "metadata": {},
   "outputs": [],
   "source": [
    "df['deaths_d_exp'] = np.exp(df['deaths_d']) \n",
    "plt.figure(1, figsize=(12, 8))\n",
    "# line plot\n",
    "plt.subplot(211) \n",
    "plt.plot(df['deaths_d_exp'])\n",
    "# histogram\n",
    "plt.subplot(212) \n",
    "plt.hist(df['deaths_d_exp'])\n",
    "plt.show()"
   ]
  },
  {
   "cell_type": "markdown",
   "metadata": {},
   "source": [
    "### Log Transform"
   ]
  },
  {
   "cell_type": "code",
   "execution_count": null,
   "metadata": {},
   "outputs": [],
   "source": [
    "df['deaths_d_log'] = np.log(df['deaths_d']) \n",
    "plt.figure(1, figsize=(12, 8))\n",
    "# line plot\n",
    "plt.subplot(211) \n",
    "plt.plot(df['deaths_d_log'])\n",
    "# histogram\n",
    "plt.subplot(212) \n",
    "plt.hist(df['deaths_d_log'][np.isfinite(df['deaths_d_log'])].values)\n",
    "plt.show()"
   ]
  },
  {
   "cell_type": "markdown",
   "metadata": {},
   "source": [
    "### Box-Cox Transform\n",
    "\n",
    "Below are some common values for lambda:\n",
    "􏰀\n",
    "- lambda = -1. is a reciprocal transform.\n",
    "􏰀\n",
    "- lambda = -0.5 is a reciprocal square root transform. 􏰀 lambda = 0.0 is a log transform.\n",
    "􏰀\n",
    "- lambda = 0.5 is a square root transform.\n",
    "􏰀\n",
    "- lambda = 1.0 is no transform."
   ]
  },
  {
   "cell_type": "code",
   "execution_count": null,
   "metadata": {
    "scrolled": false
   },
   "outputs": [],
   "source": [
    "from scipy.stats import boxcox\n",
    "\n",
    "# boxcox doesn't support zeros\n",
    "# https://stackoverflow.com/questions/50180988/valueerror-data-must-be-positive-boxcox-scipy\n",
    "\n",
    "data_positive = df['deaths_d'][df['deaths_d'] > 0]\n",
    "bcdata, lam = boxcox(data_positive)\n",
    "\n",
    "df['deaths_d_boxcox'] = df['deaths_d']\n",
    "df['deaths_d_boxcox'][df['deaths_d'] > 0] = bcdata\n",
    "df['deaths_d_boxcox'][df['deaths_d'] == 0] = -1/lam\n",
    "\n",
    "plt.figure(1, figsize=(12, 8))\n",
    "# line plot\n",
    "plt.subplot(211) \n",
    "plt.plot(df['deaths_d_boxcox'])\n",
    "# histogram\n",
    "plt.subplot(212) \n",
    "plt.hist(df['deaths_d_boxcox'])\n",
    "plt.show()"
   ]
  },
  {
   "cell_type": "markdown",
   "metadata": {},
   "source": [
    "## Moving Average Smoothing"
   ]
  },
  {
   "cell_type": "markdown",
   "metadata": {},
   "source": [
    "- Centered Moving Average\n",
    "\n",
    "center_ma(t) = mean(obs(t − 1), obs(t), obs(t + 1))\n",
    "\n",
    "- Trailing Moving Average\n",
    "\n",
    "trail_ma(t) = mean(obs(t − 2), obs(t − 1), obs(t))\n",
    "\n",
    "=> It is assumed that both trend and seasonal components have been removed from your time series."
   ]
  },
  {
   "cell_type": "code",
   "execution_count": null,
   "metadata": {},
   "outputs": [],
   "source": [
    "# tail-rolling average transform\n",
    "rolling = df[\"deaths_d\"].rolling(window=3) \n",
    "rolling_mean = rolling.mean() \n",
    "print(rolling_mean.head(10))\n",
    "\n",
    "# plot original and transformed dataset \n",
    "df[\"deaths_d\"].plot() \n",
    "rolling_mean.plot(color='red') \n",
    "plt.show()"
   ]
  },
  {
   "cell_type": "markdown",
   "metadata": {},
   "source": [
    "## Moving Average as Feature Engineering"
   ]
  },
  {
   "cell_type": "code",
   "execution_count": null,
   "metadata": {},
   "outputs": [],
   "source": [
    "width = 3\n",
    "lag1 = df[\"deaths_d\"].shift(1)\n",
    "lag3 = df[\"deaths_d\"].shift(width - 1)\n",
    "window = lag3.rolling(window=width)\n",
    "means = window.mean()\n",
    "dataframe = concat([means, lag1, df[\"deaths_d\"]], axis=1) \n",
    "dataframe.columns = ['mean', 't', 't+1'] \n",
    "print(dataframe.head(10))"
   ]
  },
  {
   "cell_type": "markdown",
   "metadata": {},
   "source": [
    "## Moving Average as Prediction"
   ]
  },
  {
   "cell_type": "code",
   "execution_count": null,
   "metadata": {
    "scrolled": true
   },
   "outputs": [],
   "source": [
    "# prepare situation\n",
    "X = df[\"deaths_d\"]\n",
    "\n",
    "window = 3\n",
    "history = [X[i] for i in range(window)]\n",
    "test = [X[i] for i in range(window, len(X))]\n",
    "predictions = list()\n",
    "\n",
    "# walk forward over time steps in test\n",
    "for t in range(len(test)):\n",
    "    length = len(history)\n",
    "    yhat = np.mean([history[i] for i in range(length-window,length)]) \n",
    "    obs = test[t]\n",
    "    predictions.append(yhat)\n",
    "    history.append(obs)\n",
    "    print('predicted=%f, expected=%f' % (yhat, obs))\n",
    "rmse = np.sqrt(mean_squared_error(test, predictions)) \n",
    "print('Test RMSE: %.3f' % rmse)"
   ]
  },
  {
   "cell_type": "code",
   "execution_count": null,
   "metadata": {},
   "outputs": [],
   "source": [
    "# plot\n",
    "plt.plot(test)\n",
    "plt.plot(predictions, color='red') \n",
    "plt.show()\n",
    "\n",
    "# zoom plot\n",
    "#pyplot.plot(test[:100]) pyplot.plot(predictions[:100], color='red') pyplot.show()"
   ]
  },
  {
   "cell_type": "markdown",
   "metadata": {},
   "source": [
    "____\n",
    "## Temporal Structure"
   ]
  },
  {
   "cell_type": "markdown",
   "metadata": {},
   "source": [
    "### Is your Time Series White Noise?"
   ]
  },
  {
   "cell_type": "markdown",
   "metadata": {},
   "source": [
    "### White Noise\n",
    "\n",
    "- White noise is an important concept in time series forecasting. If a time series is white noise, it is a sequence of random numbers and cannot be predicted.\n",
    "\n",
    "- A time series may be white noise. A time series is white noise if the variables are independent and identically distributed with a mean of zero. This means that all variables have the same variance (sigma2) and each value has a zero correlation with all other values in the series. If the variables in the series are drawn from a Gaussian distribution, the series is called Gaussian white noise.\n",
    "\n",
    "- Predictability: If your time series is white noise, then, by definition, it is random. You cannot reasonably model it and make predictions.\n",
    "\n",
    "- Model Diagnostics: The series of errors from a time series forecast model should ideally be white noise.\n",
    "\n",
    "Is your Time Series White Noise?\n",
    "Your time series is not white noise if any of the following conditions are true:\n",
    "- Does your series have a non-zero mean?\n",
    "- Does the variance change over time?\n",
    "- Do values correlate with lag values?\n",
    "\n",
    "Some tools that you can use to check if your time series is white noise are:\n",
    "- Create a line plot. Check for gross features like a changing mean, variance, or obvious relationship between lagged variables.\n",
    "- Calculate summary statistics. Check the mean and variance of the whole series against the mean and variance of meaningful contiguous blocks of values in the series (e.g. days, months, or years).\n",
    "- Create an autocorrelation plot. Check for gross correlation between lagged variables.\n"
   ]
  },
  {
   "cell_type": "code",
   "execution_count": null,
   "metadata": {},
   "outputs": [],
   "source": [
    "# summary stats\n",
    "print(df[\"deaths_d\"].describe())\n",
    "\n",
    "# line plot\n",
    "df[\"deaths_d\"].plot()\n",
    "plt.show()\n",
    "\n",
    "# histogram plot\n",
    "df[\"deaths_d\"].hist()\n",
    "plt.show()\n",
    "\n",
    "# autocorrelation\n",
    "autocorrelation_plot(df[\"deaths_d\"])\n",
    "plt.show()"
   ]
  },
  {
   "cell_type": "markdown",
   "metadata": {},
   "source": [
    "### Check Stationarity"
   ]
  },
  {
   "cell_type": "markdown",
   "metadata": {},
   "source": [
    "### Augmented Dickey-Fuller test\n",
    "\n",
    "We can expect a random walk to be non-stationary. In fact, all random walk processes are non-stationary. Note that not all non-stationary time series are random walks. Additionally, a non-stationary time series does not have a consistent mean and/or variance over time. A review of the random walk line plot might suggest this to be the case. We can confirm this using a statistical significance test.\n"
   ]
  },
  {
   "cell_type": "code",
   "execution_count": null,
   "metadata": {},
   "outputs": [],
   "source": [
    "from statsmodels.tsa.stattools import adfuller\n",
    "\n",
    "# The null hypothesis of the test is that the time series is non-stationary.\n",
    "# https://machinelearningmastery.com/time-series-data-stationary-python/\n",
    "# https://en.wikipedia.org/wiki/Augmented_Dickey–Fuller_test\n",
    "\n",
    "# statistical test\n",
    "result = adfuller(df[\"deaths_d\"]) \n",
    "print('ADF Statistic: %f' % result[0]) \n",
    "print('p-value: %f' % result[1]) \n",
    "print('Critical Values:')\n",
    "for key, value in result[4].items():\n",
    "    print('\\t%s: %.3f' % (key, value))"
   ]
  },
  {
   "cell_type": "markdown",
   "metadata": {},
   "source": [
    "The Augmented Dickey-Fuller test is a type of statistical test called a unit root test1. The intuition behind a unit root test is that it determines how strongly a time series is defined by a trend.\n",
    "\n",
    "There are a number of unit root tests and the Augmented Dickey-Fuller may be one of the more widely used. It uses an autoregressive model and optimizes an information criterion across multiple different lag values. The null hypothesis of the test is that the time series can be represented by a unit root, that it is not stationary (has some time-dependent structure). The alternate hypothesis (rejecting the null hypothesis) is that the time series is stationary.\n",
    "􏰀\n",
    "- Null Hypothesis (H0): If accepted, it suggests the time series has a unit root, meaning it is non-stationary. It has some time dependent structure.\n",
    "􏰀\n",
    "- Alternate Hypothesis (H1): The null hypothesis is rejected; it suggests the time series does not have a unit root, meaning it is stationary. It does not have time-dependent structure.\n",
    "\n",
    "We interpret this result using the p-value from the test. A p-value below a threshold (such as 5% or 1%) suggests we reject the null hypothesis (stationary), otherwise a p-value above the threshold suggests we accept the null hypothesis (non-stationary).\n",
    "􏰀\n",
    "- p-value > 0.05: Accept the null hypothesis (H0), the data has a unit root and is non-stationary.\n",
    "􏰀\n",
    "- p-value ≤ 0.05: Reject the null hypothesis (H0), the data does not have a unit root and is stationary."
   ]
  },
  {
   "cell_type": "code",
   "execution_count": null,
   "metadata": {},
   "outputs": [],
   "source": [
    "# take difference\n",
    "\n",
    "X = df[\"deaths_d\"]\n",
    "\n",
    "diff = list()\n",
    "for i in range(1, len(X)):\n",
    "    value = X[i] - X[i - 1]\n",
    "    diff.append(value)\n",
    "\n",
    "# line plot\n",
    "plt.plot(diff)\n",
    "plt.show()\n",
    "\n",
    "autocorrelation_plot(diff)\n",
    "plt.show()"
   ]
  },
  {
   "cell_type": "code",
   "execution_count": null,
   "metadata": {},
   "outputs": [],
   "source": [
    "# statistical test for diff\n",
    "\n",
    "result = adfuller(diff) \n",
    "print('ADF Statistic: %f' % result[0]) \n",
    "print('p-value: %f' % result[1]) \n",
    "print('Critical Values:')\n",
    "for key, value in result[4].items():\n",
    "    print('\\t%s: %.3f' % (key, value))"
   ]
  },
  {
   "cell_type": "markdown",
   "metadata": {},
   "source": [
    "Random Walk: Given the way that the random walk is constructed, we would expect a strong autocorrelation with the previous observation and a linear fall off from there with previous lag values. \n",
    "\n",
    "Persistence, or the naive forecast, is the best prediction we can make for a random walk time series.\n",
    "\n",
    "This last point is key for time series forecasting. Baseline forecasts with the persistence model quickly flesh out whether you can do significantly better. If you can’t, you’re probably working with a random walk. Many time series are random walks, particularly those of security prices over time. The random walk hypothesis is a theory that stock market prices are a random walk and cannot be predicted."
   ]
  },
  {
   "cell_type": "markdown",
   "metadata": {},
   "source": [
    "## Decompose Time Series Data"
   ]
  },
  {
   "cell_type": "markdown",
   "metadata": {},
   "source": [
    "### Time Series Components\n",
    "\n",
    "Systematic Components:\n",
    "- Level\n",
    "- Trend\n",
    "- Seasonality\n",
    "\n",
    "Nos-Systematic Component:\n",
    "- Noise\n"
   ]
  },
  {
   "cell_type": "markdown",
   "metadata": {},
   "source": [
    "### Combining Time Series Components\n",
    "\n",
    "A series is thought to be an aggregate or combination of these four components. All series have a level and noise. The trend and seasonality components are optional. It is helpful to think of the components as combining either additively or multiplicatively."
   ]
  },
  {
   "cell_type": "markdown",
   "metadata": {},
   "source": [
    "### Automatic Time Series Decomposition"
   ]
  },
  {
   "cell_type": "markdown",
   "metadata": {},
   "source": [
    "### Additive Decomposition"
   ]
  },
  {
   "cell_type": "code",
   "execution_count": null,
   "metadata": {},
   "outputs": [],
   "source": [
    "from statsmodels.tsa.seasonal import seasonal_decompose \n",
    "\n",
    "X = df[\"deaths_d\"]\n",
    "\n",
    "result = seasonal_decompose(X, model='additive') \n",
    "\n",
    "print(result.trend)\n",
    "print(result.seasonal)\n",
    "print(result.resid)\n",
    "print(result.observed)"
   ]
  },
  {
   "cell_type": "code",
   "execution_count": null,
   "metadata": {},
   "outputs": [],
   "source": [
    "plt.rc(\"figure\", figsize=(10, 8))\n",
    "result.plot()\n",
    "plt.show()"
   ]
  },
  {
   "cell_type": "markdown",
   "metadata": {},
   "source": [
    "### Multiplicative Decomposition"
   ]
  },
  {
   "cell_type": "code",
   "execution_count": null,
   "metadata": {},
   "outputs": [],
   "source": [
    "# zero is not permitted\n",
    "\n",
    "result = seasonal_decompose(X[X>0], model='multiplicative', freq=1) \n",
    "\n",
    "print(result.trend)\n",
    "print(result.seasonal)\n",
    "print(result.resid)\n",
    "print(result.observed)"
   ]
  },
  {
   "cell_type": "code",
   "execution_count": null,
   "metadata": {},
   "outputs": [],
   "source": [
    "result.plot()\n",
    "plt.show()"
   ]
  },
  {
   "cell_type": "markdown",
   "metadata": {},
   "source": [
    "## Use and Remove Trends"
   ]
  },
  {
   "cell_type": "markdown",
   "metadata": {},
   "source": [
    "Identifying and understanding trend information can aid in improving model performance;\n",
    "below are a few reasons:\n",
    "- Faster Modeling: Perhaps the knowledge of a trend or lack of a trend can suggest methods and make model selection and evaluation more efficient.\n",
    "- Simpler Problem: Perhaps we can correct or remove the trend to simplify modeling and improve model performance.\n",
    "- More Data: Perhaps we can use trend information, directly or as a summary, to provide additional information to the model and improve model performance.\n",
    "\n",
    "\n",
    "### Types of Trends\n",
    "\n",
    "There are all kinds of trends. Two general classes that we may think about are:\n",
    "- Deterministic Trends: These are trends that consistently increase or decrease. 􏰀 \n",
    "- Stochastic Trends: These are trends that increase and decrease inconsistently.\n",
    "In general, deterministic trends are easier to identify and remove, but the methods discussed in this tutorial can still be useful for stochastic trends. We can think about trends in terms of their scope of observations.\n",
    "􏰀\n",
    "- Global Trends: These are trends that apply to the whole time series.\n",
    "- Local Trends: These are trends that apply to parts or subsequences of a time series. \n",
    "Generally, global trends are easier to identify and address.\n"
   ]
  },
  {
   "cell_type": "markdown",
   "metadata": {},
   "source": [
    "### Detrend by Differencing"
   ]
  },
  {
   "cell_type": "code",
   "execution_count": null,
   "metadata": {},
   "outputs": [],
   "source": [
    "diff = list()\n",
    "for i in range(1, len(X)):\n",
    "    value = X[i] - X[i - 1]\n",
    "    diff.append(value)\n",
    "plt.rc(\"figure\", figsize=(8, 5))\n",
    "plt.plot(diff)\n",
    "plt.show()"
   ]
  },
  {
   "cell_type": "code",
   "execution_count": null,
   "metadata": {},
   "outputs": [],
   "source": [
    "result = adfuller(diff) \n",
    "print('ADF Statistic: %f' % result[0]) \n",
    "print('p-value: %f' % result[1]) \n",
    "print('Critical Values:')\n",
    "for key, value in result[4].items():\n",
    "    print('\\t%s: %.3f' % (key, value))"
   ]
  },
  {
   "cell_type": "markdown",
   "metadata": {},
   "source": [
    "### Detrend by Model Fitting"
   ]
  },
  {
   "cell_type": "code",
   "execution_count": null,
   "metadata": {
    "scrolled": false
   },
   "outputs": [],
   "source": [
    "from sklearn.linear_model import LinearRegression\n",
    "\n",
    "\n",
    "#series = read_csv('shampoo-sales.csv', header=0, index_col=0, parse_dates=True, squeeze=True, date_parser=parser)\n",
    "\n",
    "series = df[\"deaths_d\"]\n",
    "\n",
    "# fit linear model\n",
    "X = [i for i in range(0, len(series))]\n",
    "X = np.reshape(X, (len(X), 1))\n",
    "y = series.values\n",
    "\n",
    "model = LinearRegression()\n",
    "model.fit(X, y)\n",
    "\n",
    "# calculate trend\n",
    "trend = model.predict(X)\n",
    "\n",
    "# plot trend\n",
    "plt.plot(y)\n",
    "plt.plot(trend)\n",
    "plt.show()\n",
    "\n",
    "# detrend\n",
    "detrended = [y[i]-trend[i] for i in range(0, len(series))]\n",
    "\n",
    "# plot detrended\n",
    "print(\"Detrended\")\n",
    "plt.plot(detrended)\n",
    "plt.show()"
   ]
  },
  {
   "cell_type": "code",
   "execution_count": null,
   "metadata": {},
   "outputs": [],
   "source": [
    "result = adfuller(detrended) \n",
    "print('ADF Statistic: %f' % result[0]) \n",
    "print('p-value: %f' % result[1]) \n",
    "print('Critical Values:')\n",
    "for key, value in result[4].items():\n",
    "    print('\\t%s: %.3f' % (key, value))"
   ]
  },
  {
   "cell_type": "markdown",
   "metadata": {},
   "source": [
    "## Use and Remove Seasonality\n",
    "\n",
    "Understanding the seasonal component in time series can improve the performance of modeling with machine learning. This can happen in two main ways:\n",
    "\n",
    "- Clearer Signal: Identifying and removing the seasonal component from the time series can result in a clearer relationship between input and output variables.\n",
    "- More Information: Additional information about the seasonal component of the time series can provide new information to improve model performance.\n",
    "\n",
    "Both approaches may be useful on a project. Modeling seasonality and removing it from the time series may occur during data cleaning and preparation. Extracting seasonal information and providing it as input features, either directly or in summary form, may occur during feature extraction and feature engineering activities.\n",
    "\n",
    "Types:\n",
    "- Time of Day.\n",
    "- Daily.\n",
    "- Weekly.\n",
    "- Monthly.\n",
    "- Yearly."
   ]
  },
  {
   "cell_type": "markdown",
   "metadata": {},
   "source": [
    "### Seasonal Adjustment with Differencing"
   ]
  },
  {
   "cell_type": "code",
   "execution_count": null,
   "metadata": {},
   "outputs": [],
   "source": [
    "# p.121\n",
    "\n",
    "X = df[\"deaths_d\"]\n",
    "\n",
    "diff = list()\n",
    "days_in_year = 365\n",
    "for i in range(days_in_year, len(X)):\n",
    "    value = X[i] - X[i - days_in_year]\n",
    "    diff.append(value)\n",
    "plt.plot(diff)\n",
    "plt.show()"
   ]
  },
  {
   "cell_type": "markdown",
   "metadata": {},
   "source": [
    "### Seasonal Adjustment with Modeling"
   ]
  },
  {
   "cell_type": "code",
   "execution_count": null,
   "metadata": {},
   "outputs": [],
   "source": [
    "from numpy import polyfit\n",
    "\n",
    "series = df[\"deaths_d\"]\n",
    "\n",
    "# fit polynomial: x^2*b1 + x*b2 + ... + bn\n",
    "X = [i%365 for i in range(0, len(series))] \n",
    "y = series.values\n",
    "\n",
    "degree = 3\n",
    "coef = polyfit(X, y, degree) \n",
    "print('Coefficients: %s' % coef)\n",
    "\n",
    "# create curve\n",
    "curve = list()\n",
    "for i in range(len(X)):\n",
    "    value = coef[-1]\n",
    "    for d in range(degree):\n",
    "        value += X[i]**(degree-d) * coef[d]\n",
    "    curve.append(value)\n",
    "\n",
    "# plot curve over original data\n",
    "plt.plot(series.values) \n",
    "plt.plot(curve, color='red', linewidth=3) \n",
    "plt.title('Deaths/Day by COVID-19 in Amazonas', weight='bold', size=14)\n",
    "plt.ylabel('Quantity', weight='bold', size=12)\n",
    "plt.xlabel('Days', weight='bold', size=12)\n",
    "plt.show()"
   ]
  },
  {
   "cell_type": "code",
   "execution_count": null,
   "metadata": {},
   "outputs": [],
   "source": [
    "# original series\n",
    "result = adfuller(series) \n",
    "print('ADF Statistic: %f' % result[0]) \n",
    "print('p-value: %f' % result[1]) \n",
    "print('Critical Values:')\n",
    "for key, value in result[4].items():\n",
    "    print('\\t%s: %.3f' % (key, value))"
   ]
  },
  {
   "cell_type": "code",
   "execution_count": null,
   "metadata": {},
   "outputs": [],
   "source": [
    "# create seasonally adjusted\n",
    "values = series.values\n",
    "diff = list()\n",
    "for i in range(len(values)):\n",
    "    value = values[i] - curve[i]\n",
    "    diff.append(value)\n",
    "plt.plot(diff)\n",
    "plt.show()"
   ]
  },
  {
   "cell_type": "code",
   "execution_count": null,
   "metadata": {},
   "outputs": [],
   "source": [
    "result = adfuller(diff) \n",
    "print('ADF Statistic: %f' % result[0]) \n",
    "print('p-value: %f' % result[1]) \n",
    "print('Critical Values:')\n",
    "for key, value in result[4].items():\n",
    "    print('\\t%s: %.3f' % (key, value))"
   ]
  },
  {
   "cell_type": "markdown",
   "metadata": {},
   "source": [
    "# Backtest Forecast Models\n",
    "\n",
    "## Evaluate Models\n",
    "\n",
    "In time series forecasting, this evaluation of models on historical data is called backtesting.\n",
    "\n",
    "Three types of backtesting:\n",
    "1. Train-Test split that respect temporal order of observations.\n",
    "2. Multiple Train-Test splits that respect temporal order of observations.\n",
    "3. Walk-Forward Validation where a model may be updated each time step new data is received.\n"
   ]
  },
  {
   "cell_type": "markdown",
   "metadata": {},
   "source": [
    "## Train-Test Split"
   ]
  },
  {
   "cell_type": "code",
   "execution_count": null,
   "metadata": {},
   "outputs": [],
   "source": [
    "# calculate a train-test split of a time series dataset\n",
    "\n",
    "X = df[\"deaths_d\"]\n",
    "\n",
    "split = 0.66\n",
    "\n",
    "train_size = int(len(X) * split)\n",
    "train, test = X[0:train_size], X[train_size:len(X)]\n",
    "print('Observations: %d' % (len(X)))\n",
    "print('Training Observations: %d' % (len(train)))\n",
    "print('Testing Observations: %d' % (len(test)))\n",
    "\n",
    "# plot train-test split of time series data\n",
    "plt.plot(train)\n",
    "#plt.plot([None for i in train] + [x for x in test])\n",
    "plt.plot(test)\n",
    "plt.show()"
   ]
  },
  {
   "cell_type": "markdown",
   "metadata": {},
   "source": [
    "## Multiple Train-Test Splits"
   ]
  },
  {
   "cell_type": "code",
   "execution_count": null,
   "metadata": {},
   "outputs": [],
   "source": [
    "# calculate repeated train-test splits of time series data\n",
    "from sklearn.model_selection import TimeSeriesSplit\n",
    "\n",
    "splits = TimeSeriesSplit(n_splits=3)\n",
    "plt.figure(1)\n",
    "index = 1\n",
    "\n",
    "for train_index, test_index in splits.split(X):\n",
    "    train = X[train_index]\n",
    "    test = X[test_index]\n",
    "    print('Observations: %d' % (len(train) + len(test))) \n",
    "    print('Training Observations: %d' % (len(train))) \n",
    "    print('Testing Observations: %d' % (len(test))) \n",
    "    plt.subplot(310 + index)\n",
    "    plt.plot(train)\n",
    "    #plt.plot([None for i in train] + [x for x in test]) \n",
    "    plt.plot(test)\n",
    "    index += 1\n",
    "plt.show()"
   ]
  },
  {
   "cell_type": "markdown",
   "metadata": {},
   "source": [
    "## Walk Forward Validation\n"
   ]
  },
  {
   "cell_type": "code",
   "execution_count": null,
   "metadata": {},
   "outputs": [],
   "source": [
    "n_train = round(len(X) * 0.6)\n",
    "n_records = len(X)\n",
    "for i in range(n_train, n_records):\n",
    "    train, test = X[0:i], X[i:i+1]\n",
    "    print('train=%d, test=%d' % (len(train), len(test)))"
   ]
  },
  {
   "cell_type": "markdown",
   "metadata": {},
   "source": [
    "# Forecasting Performance Measures\n",
    "\n",
    "1. Mean Forecast Error (or Forecast Bias)\n",
    "2. Mean Absolute Error - MAE\n",
    "3. Mean Squared Error - MSE\n",
    "4. Root Mean Squared Error - RMSE\n"
   ]
  },
  {
   "cell_type": "markdown",
   "metadata": {},
   "source": [
    "# Persistence Model for Forecasting"
   ]
  },
  {
   "cell_type": "markdown",
   "metadata": {},
   "source": [
    "## Test Harness"
   ]
  },
  {
   "cell_type": "markdown",
   "metadata": {},
   "source": [
    "### Validation Dataset"
   ]
  },
  {
   "cell_type": "code",
   "execution_count": null,
   "metadata": {},
   "outputs": [],
   "source": [
    "\n",
    "split_size = round(len(X) * 0.90)\n",
    "dataset, validation = X[0:split_size], X[split_size:]\n",
    "print('Dataset %d, Validation %d' % (len(dataset), len(validation))) \n",
    "\n",
    "# save\n",
    "dataset.to_csv(data_dir+'dataset.csv')\n",
    "validation.to_csv(data_dir+'validation.csv')"
   ]
  },
  {
   "cell_type": "markdown",
   "metadata": {},
   "source": [
    "https://medium.com/@bingobee01/pandas-tricks-and-tips-a7b87c3748ea"
   ]
  },
  {
   "cell_type": "markdown",
   "metadata": {},
   "source": [
    "## Persistence - Base Line Model"
   ]
  },
  {
   "cell_type": "code",
   "execution_count": null,
   "metadata": {},
   "outputs": [],
   "source": [
    "# load data\n",
    "values = df[\"deaths_d\"]\n",
    "\n",
    "# create lagged dataset\n",
    "dataframe = concat([values.shift(1), values], axis=1)\n",
    "dataframe.columns = ['t', 't+1'] \n",
    "print(dataframe.head(5))\n",
    "\n",
    "# split into train and test sets\n",
    "X = dataframe.values\n",
    "train_size = int(len(X) * 0.66)\n",
    "\n",
    "train, test = X[1:train_size], X[train_size:]\n",
    "train_X, train_y = train[:,0], train[:,1]\n",
    "test_X, test_y = test[:,0], test[:,1]\n",
    "\n",
    "# persistence model\n",
    "def model_persistence(x):\n",
    "    return x\n",
    "\n",
    "# walk-forward validation\n",
    "predictions = list()\n",
    "for x in test_X:\n",
    "    yhat = model_persistence(x)\n",
    "    predictions.append(yhat)\n",
    "\n",
    "rmse = np.sqrt(mean_squared_error(test_y, predictions)) \n",
    "print('Test RMSE: %.3f' % rmse)\n",
    "\n",
    "# plot predictions and expected results\n",
    "plt.plot(train_y)\n",
    "plt.plot([None for i in train_y] + [x for x in test_y]) \n",
    "plt.plot([None for i in train_y] + [x for x in predictions]) \n",
    "plt.show()"
   ]
  },
  {
   "cell_type": "markdown",
   "metadata": {},
   "source": [
    "# Visualize Residual Forecast Errors"
   ]
  },
  {
   "cell_type": "code",
   "execution_count": null,
   "metadata": {},
   "outputs": [],
   "source": [
    "# persistence model\n",
    "predictions = [x for x in test_X]\n",
    "\n",
    "# calculate residuals\n",
    "residuals = [test_y[i]-predictions[i] for i in range(len(predictions))] \n",
    "residuals = pd.DataFrame(residuals)\n",
    "print(residuals.head())\n",
    "\n",
    "# summary statistics\n",
    "print(residuals.describe())\n",
    "\n",
    "# line plot of residual errors\n",
    "residuals.plot()\n",
    "plt.show()"
   ]
  },
  {
   "cell_type": "markdown",
   "metadata": {},
   "source": [
    "## Residual Histogram and Density Plots"
   ]
  },
  {
   "cell_type": "code",
   "execution_count": null,
   "metadata": {},
   "outputs": [],
   "source": [
    "# histogram plot\n",
    "residuals.hist()\n",
    "plt.show()\n",
    "\n",
    "# density plot\n",
    "residuals.plot(kind='kde')\n",
    "plt.show()"
   ]
  },
  {
   "cell_type": "markdown",
   "metadata": {},
   "source": [
    "If the plot showed a distribution that was distinctly non-Gaussian, it would suggest that assumptions made by the modeling process were perhaps incorrect and that a different modeling method may be required. A large skew may suggest the opportunity for performing a transform to the data prior to modeling, such as taking the log or square root."
   ]
  },
  {
   "cell_type": "markdown",
   "metadata": {},
   "source": [
    "## Residual Q-Q Plot"
   ]
  },
  {
   "cell_type": "code",
   "execution_count": null,
   "metadata": {},
   "outputs": [],
   "source": [
    "from statsmodels.graphics.gofplots import qqplot\n",
    "\n",
    "qqplot(residuals, line='r')\n",
    "plt.show()"
   ]
  },
  {
   "cell_type": "markdown",
   "metadata": {},
   "source": [
    "## Residual Autocorrelation Plot"
   ]
  },
  {
   "cell_type": "code",
   "execution_count": null,
   "metadata": {},
   "outputs": [],
   "source": [
    "autocorrelation_plot(residuals)\n",
    "plt.show()"
   ]
  },
  {
   "cell_type": "markdown",
   "metadata": {},
   "source": [
    "# Reframe Time Series Forecasting Problems\n",
    "\n",
    "1. How to reframe your time series forecast problem as an alternate regression problem.\n",
    "2. How to reframe your time series forecast problem as a classification prediction problem. 􏰀 \n",
    "3. How to reframe your time series forecast problem with an alternate time horizon."
   ]
  },
  {
   "cell_type": "markdown",
   "metadata": {},
   "source": [
    "_____\n",
    "# Forecast Models"
   ]
  },
  {
   "cell_type": "markdown",
   "metadata": {},
   "source": [
    "## ARIMA - Autoregressive Integrated Moving Average Model\n",
    "\n",
    "- AR: Autoregression. A model that uses the dependent relationship between an observation and some number of lagged observations.\n",
    "- I: Integrated. The use of differencing of raw observations (i.e. subtracting an observation from an observation at the previous time step) in order to make the time series stationary.\n",
    "- MA: Moving Average. A model that uses the dependency between an observation and residual errors from a moving average model applied to lagged observations.\n",
    "\n",
    "Paramenters:\n",
    "- p: The number of lag observations included in the model, also called the lag order.\n",
    "- d: The number of times that the raw observations are differenced, also called the degree of differencing.\n",
    "- q: The size of the moving average window, also called the order of moving average.\n",
    "\n",
    "\n",
    "### Configuring AR and MA\n",
    "Two diagnostic plots can be used to help choose the p and q parameters of the ARMA or ARIMA. They are:\n",
    "1. Autocorrelation Function (ACF). The plot summarizes the correlation of an obser- vation with lag values. The x-axis shows the lag and the y-axis shows the correlation coefficient between -1 and 1 for negative and positive correlation.\n",
    "2. Partial Autocorrelation Function (PACF). The plot summarizes the correlations for an observation with lag values that is not accounted for by prior lagged observations.\n",
    "\n",
    "Both plots are drawn as bar charts showing the 95% and 99% confidence intervals as horizontal lines. Bars that cross these confidence intervals are therefore more significant and worth noting. Some useful patterns you may observe on these plots are:\n",
    "1. The model is AR if the ACF trails off after a lag and has a hard cut-off in the PACF after a lag. This lag is taken as the value for p.\n",
    "2. The model is MA if the PACF trails off after a lag and has a hard cut-off in the ACF after the lag. This lag value is taken as the value for q.\n",
    "3. 􏰀The model is a mix of AR and MA if both the ACF and PACF trail off."
   ]
  },
  {
   "cell_type": "markdown",
   "metadata": {},
   "source": [
    "## Autoregression Model"
   ]
  },
  {
   "cell_type": "code",
   "execution_count": null,
   "metadata": {},
   "outputs": [],
   "source": [
    "from statsmodels.tsa.ar_model import AR\n",
    "\n",
    "X = df[\"deaths_d\"].values\n",
    "\n",
    "# split dataset\n",
    "split = 0.75\n",
    "\n",
    "train_size = int(len(X) * split)\n",
    "train, test = X[0:train_size], X[train_size:len(X)]\n",
    "print(train)\n",
    "print(test)\n",
    "\n",
    "# train autoregression\n",
    "model = AR(train)\n",
    "model_fit = model.fit()\n",
    "window = model_fit.k_ar\n",
    "coef = model_fit.params\n",
    "\n",
    "# walk forward over time steps in test\n",
    "history = train[len(train)-window:]\n",
    "history = [history[i] for i in range(len(history))]\n",
    "predictions = list()\n",
    "\n",
    "for t in range(len(test)):\n",
    "    length = len(history)\n",
    "    lag = [history[i] for i in range(length-window,length)]\n",
    "    yhat = coef[0]\n",
    "    for d in range(window):\n",
    "        yhat += coef[d+1] * lag[window-d-1]\n",
    "    obs = test[t]\n",
    "    predictions.append(yhat)\n",
    "    history.append(obs)\n",
    "    print('predicted=%f, expected=%f' % (yhat, obs))\n",
    "\n",
    "rmse = np.sqrt(mean_squared_error(test, predictions)) \n",
    "print('Test RMSE: %.3f' % rmse)\n",
    "\n",
    "# plot results\n",
    "plt.plot(test) \n",
    "plt.plot(predictions, color='red') \n",
    "plt.show()"
   ]
  },
  {
   "cell_type": "markdown",
   "metadata": {},
   "source": [
    "# Moving Average (MA) Models for Forecasting"
   ]
  },
  {
   "cell_type": "markdown",
   "metadata": {},
   "source": [
    "## Autoregression of Residual Error"
   ]
  },
  {
   "cell_type": "code",
   "execution_count": null,
   "metadata": {},
   "outputs": [],
   "source": [
    "# create lagged dataset\n",
    "X = df[\"deaths_d\"].values\n",
    "\n",
    "values = pd.DataFrame(X)\n",
    "dataframe = concat([values.shift(1), values], axis=1)\n",
    "dataframe.columns = ['t', 't+1']\n",
    "\n",
    "# split into train and test sets\n",
    "X = dataframe.values\n",
    "train_size = int(len(X) * 0.66)\n",
    "train, test = X[1:train_size], X[train_size:]\n",
    "train_X, train_y = train[:,0], train[:,1]\n",
    "test_X, test_y = test[:,0], test[:,1]\n",
    "\n",
    "# persistence model on training set\n",
    "train_pred = [x for x in train_X]\n",
    "    \n",
    "# calculate residuals\n",
    "train_resid = [train_y[i]-train_pred[i] for i in range(len(train_pred))] \n",
    "\n",
    "# model the training set residuals\n",
    "model = AR(train_resid)\n",
    "model_fit = model.fit()\n",
    "window = model_fit.k_ar\n",
    "coef = model_fit.params\n",
    "\n",
    "# walk forward over time steps in test\n",
    "history = train_resid[len(train_resid)-window:]\n",
    "history = [history[i] for i in range(len(history))]\n",
    "predictions = list()\n",
    "expected_error = list()\n",
    "for t in range(len(test_y)):\n",
    "    # persistence\n",
    "    yhat = test_X[t]\n",
    "    error = test_y[t] - yhat\n",
    "    expected_error.append(error)\n",
    "    # predict error\n",
    "    length = len(history)\n",
    "    lag = [history[i] for i in range(length-window,length)]\n",
    "    pred_error = coef[0]\n",
    "    for d in range(window):\n",
    "        pred_error += coef[d+1] * lag[window-d-1]\n",
    "    predictions.append(pred_error)\n",
    "    history.append(error)\n",
    "    print('predicted error=%f, expected error=%f' % (pred_error, error))\n",
    "\n",
    "# plot predicted error\n",
    "plt.plot(expected_error) \n",
    "plt.plot(predictions, color='red') \n",
    "plt.show()"
   ]
  },
  {
   "cell_type": "markdown",
   "metadata": {},
   "source": [
    "## Correct Predictions with a Model of Residuals"
   ]
  },
  {
   "cell_type": "code",
   "execution_count": null,
   "metadata": {},
   "outputs": [],
   "source": [
    "# create lagged dataset\n",
    "\n",
    "values = df[\"deaths_d\"]\n",
    "dataframe = concat([values.shift(1), values], axis=1)\n",
    "dataframe.columns = ['t', 't+1']\n",
    "\n",
    "# split into train and test sets\n",
    "X = dataframe.values\n",
    "train_size = int(len(X) * 0.66)\n",
    "train, test = X[1:train_size], X[train_size:]\n",
    "train_X, train_y = train[:,0], train[:,1]\n",
    "test_X, test_y = test[:,0], test[:,1]\n",
    "\n",
    "# persistence model on training set\n",
    "train_pred = [x for x in train_X]\n",
    "    \n",
    "# calculate residuals\n",
    "train_resid = [train_y[i]-train_pred[i] for i in range(len(train_pred))] \n",
    "\n",
    "# model the training set residuals\n",
    "model = AR(train_resid)\n",
    "model_fit = model.fit()\n",
    "window = model_fit.k_ar\n",
    "coef = model_fit.params\n",
    "\n",
    "# walk forward over time steps in test\n",
    "history = train_resid[len(train_resid)-window:]\n",
    "history = [history[i] for i in range(len(history))]\n",
    "predictions = list()\n",
    "#expected_error = list()\n",
    "for t in range(len(test_y)):\n",
    "    \n",
    "    # persistence\n",
    "    yhat = test_X[t]\n",
    "    error = test_y[t] - yhat\n",
    "    expected_error.append(error)\n",
    "    \n",
    "    # predict error\n",
    "    length = len(history)\n",
    "    lag = [history[i] for i in range(length-window,length)]\n",
    "    pred_error = coef[0]\n",
    "    for d in range(window):\n",
    "        pred_error += coef[d+1] * lag[window-d-1]\n",
    "    \n",
    "    # correct the prediction\n",
    "    yhat = yhat + pred_error\n",
    "    predictions.append(yhat)\n",
    "    history.append(error)\n",
    "    print('predicted=%f, expected=%f' % (yhat, test_y[t]))\n",
    "\n",
    "# error\n",
    "rmse = np.sqrt(mean_squared_error(test_y, predictions)) \n",
    "print('Test RMSE: %.3f' % rmse)\n",
    "\n",
    "# plot predicted error\n",
    "plt.plot(test_y) \n",
    "plt.plot(predictions, color='red') \n",
    "plt.show()"
   ]
  },
  {
   "cell_type": "code",
   "execution_count": null,
   "metadata": {},
   "outputs": [],
   "source": []
  }
 ],
 "metadata": {
  "kernelspec": {
   "display_name": "Python 3",
   "language": "python",
   "name": "python3"
  },
  "language_info": {
   "codemirror_mode": {
    "name": "ipython",
    "version": 3
   },
   "file_extension": ".py",
   "mimetype": "text/x-python",
   "name": "python",
   "nbconvert_exporter": "python",
   "pygments_lexer": "ipython3",
   "version": "3.7.4"
  }
 },
 "nbformat": 4,
 "nbformat_minor": 2
}
