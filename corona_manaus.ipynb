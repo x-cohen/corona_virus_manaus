{
 "cells": [
  {
   "cell_type": "code",
   "execution_count": 1,
   "metadata": {},
   "outputs": [
    {
     "name": "stdout",
     "output_type": "stream",
     "text": [
      "numpy: 1.17.2\n",
      "matplotlib: 3.1.1\n",
      "pandas: 0.25.1\n",
      "statsmodels: 0.10.1\n",
      "sklearn: 0.21.3\n",
      "Python 3.7.4\n"
     ]
    }
   ],
   "source": [
    "# check the versions of key python libraries \n",
    "\n",
    "#import scipy\n",
    "#print('scipy: %s' % scipy.__version__)\n",
    "\n",
    "import numpy as np\n",
    "print('numpy: %s' % np.__version__)\n",
    "\n",
    "import matplotlib.pyplot as plt\n",
    "import matplotlib\n",
    "print('matplotlib: %s' % matplotlib.__version__)\n",
    "\n",
    "import pandas as pd\n",
    "print('pandas: %s' % pd.__version__)\n",
    "from pandas.plotting import autocorrelation_plot\n",
    "\n",
    "import statsmodels\n",
    "print('statsmodels: %s' % statsmodels.__version__) # scikit-learn\n",
    "\n",
    "import sklearn\n",
    "print('sklearn: %s' % sklearn.__version__)\n",
    "\n",
    "from sklearn.metrics import mean_squared_error\n",
    "\n",
    "from tqdm import tqdm\n",
    "#import requests\n",
    "import zipfile\n",
    "\n",
    "#import gc\n",
    "\n",
    "!python --version\n",
    "\n",
    "\n",
    "#pd.set_option('max_columns', 50)\n",
    "pd.set_option('max_rows', 200)"
   ]
  },
  {
   "cell_type": "code",
   "execution_count": 2,
   "metadata": {},
   "outputs": [],
   "source": [
    "# original data files\n",
    "data_dir = './data/'\n",
    "data_zip = './data_zip/'"
   ]
  },
  {
   "cell_type": "code",
   "execution_count": 3,
   "metadata": {},
   "outputs": [
    {
     "name": "stdout",
     "output_type": "stream",
     "text": [
      "downloading file .zip ...\n",
      "\n",
      "Downloading corona-virus-brazil.zip to /Users/maxfc/Anaconda/AnacondaProjects/Corona_Virus/Manaus\n",
      "  0%|                                               | 0.00/19.7k [00:00<?, ?B/s]\n",
      "100%|███████████████████████████████████████| 19.7k/19.7k [00:00<00:00, 551kB/s]\n",
      "\n",
      "download finished!\n",
      "\n",
      "unziped!\n"
     ]
    }
   ],
   "source": [
    "# download file\n",
    "# source:\n",
    "# https://www.kaggle.com/unanimad/corona-virus-brazil\n",
    "\n",
    "print('downloading file .zip ...')\n",
    "print()\n",
    "!kaggle datasets download unanimad/corona-virus-brazil --force\n",
    "print()\n",
    "print('download finished!')\n",
    "print()\n",
    "\n",
    "with zipfile.ZipFile('corona-virus-brazil.zip', 'r') as zip_ref:\n",
    "    zip_ref.extractall(data_dir)\n",
    "print('unziped!')"
   ]
  },
  {
   "cell_type": "code",
   "execution_count": 4,
   "metadata": {},
   "outputs": [
    {
     "name": "stdout",
     "output_type": "stream",
     "text": [
      "Directory  ./data_zip/  already exists\n"
     ]
    }
   ],
   "source": [
    "import os\n",
    "\n",
    "#from datetime import date\n",
    "#date_today = str(date.today())\n",
    "\n",
    "if not os.path.exists(data_zip):\n",
    "    os.mkdir(data_zip)\n",
    "    print(\"Directory \" , data_zip ,  \" Created \")\n",
    "else:    \n",
    "    print(\"Directory \" , data_zip ,  \" already exists\")\n",
    "    \n",
    "os.rename(\"./corona-virus-brazil.zip\", data_zip+\"corona-virus-brazil.zip\")"
   ]
  },
  {
   "cell_type": "code",
   "execution_count": null,
   "metadata": {},
   "outputs": [],
   "source": []
  },
  {
   "cell_type": "code",
   "execution_count": null,
   "metadata": {},
   "outputs": [],
   "source": []
  },
  {
   "cell_type": "code",
   "execution_count": null,
   "metadata": {},
   "outputs": [],
   "source": []
  },
  {
   "cell_type": "code",
   "execution_count": 5,
   "metadata": {},
   "outputs": [
    {
     "name": "stdout",
     "output_type": "stream",
     "text": [
      "Files:\n",
      "brazil_covid19.csv     dataset.csv\r\n",
      "brazil_covid19_old.csv validation.csv\r\n"
     ]
    }
   ],
   "source": [
    "print(\"Files:\")\n",
    "!ls {data_dir}"
   ]
  },
  {
   "cell_type": "code",
   "execution_count": 6,
   "metadata": {},
   "outputs": [
    {
     "name": "stdout",
     "output_type": "stream",
     "text": [
      "Covid BR has 2781 rows and 5 columns\n",
      "\n",
      "Last information in 2020-05-11\n"
     ]
    }
   ],
   "source": [
    "covid_br = pd.read_csv(data_dir + 'brazil_covid19.csv')\n",
    "print('Covid BR has {} rows and {} columns'.format(covid_br.shape[0], covid_br.shape[1]))\n",
    "print()\n",
    "print('Last information in ' + covid_br.iloc[-1,0])\n"
   ]
  },
  {
   "cell_type": "code",
   "execution_count": 7,
   "metadata": {},
   "outputs": [
    {
     "data": {
      "text/html": [
       "<div>\n",
       "<style scoped>\n",
       "    .dataframe tbody tr th:only-of-type {\n",
       "        vertical-align: middle;\n",
       "    }\n",
       "\n",
       "    .dataframe tbody tr th {\n",
       "        vertical-align: top;\n",
       "    }\n",
       "\n",
       "    .dataframe thead th {\n",
       "        text-align: right;\n",
       "    }\n",
       "</style>\n",
       "<table border=\"1\" class=\"dataframe\">\n",
       "  <thead>\n",
       "    <tr style=\"text-align: right;\">\n",
       "      <th></th>\n",
       "      <th>date</th>\n",
       "      <th>region</th>\n",
       "      <th>state</th>\n",
       "      <th>cases</th>\n",
       "      <th>deaths</th>\n",
       "    </tr>\n",
       "  </thead>\n",
       "  <tbody>\n",
       "    <tr>\n",
       "      <td>0</td>\n",
       "      <td>2020-01-30</td>\n",
       "      <td>Centro-Oeste</td>\n",
       "      <td>Distrito Federal</td>\n",
       "      <td>0</td>\n",
       "      <td>0</td>\n",
       "    </tr>\n",
       "    <tr>\n",
       "      <td>1</td>\n",
       "      <td>2020-01-30</td>\n",
       "      <td>Centro-Oeste</td>\n",
       "      <td>Goiás</td>\n",
       "      <td>0</td>\n",
       "      <td>0</td>\n",
       "    </tr>\n",
       "    <tr>\n",
       "      <td>2</td>\n",
       "      <td>2020-01-30</td>\n",
       "      <td>Centro-Oeste</td>\n",
       "      <td>Mato Grosso</td>\n",
       "      <td>0</td>\n",
       "      <td>0</td>\n",
       "    </tr>\n",
       "    <tr>\n",
       "      <td>3</td>\n",
       "      <td>2020-01-30</td>\n",
       "      <td>Centro-Oeste</td>\n",
       "      <td>Mato Grosso do Sul</td>\n",
       "      <td>0</td>\n",
       "      <td>0</td>\n",
       "    </tr>\n",
       "    <tr>\n",
       "      <td>4</td>\n",
       "      <td>2020-01-30</td>\n",
       "      <td>Nordeste</td>\n",
       "      <td>Alagoas</td>\n",
       "      <td>0</td>\n",
       "      <td>0</td>\n",
       "    </tr>\n",
       "  </tbody>\n",
       "</table>\n",
       "</div>"
      ],
      "text/plain": [
       "         date        region               state  cases  deaths\n",
       "0  2020-01-30  Centro-Oeste    Distrito Federal      0       0\n",
       "1  2020-01-30  Centro-Oeste               Goiás      0       0\n",
       "2  2020-01-30  Centro-Oeste         Mato Grosso      0       0\n",
       "3  2020-01-30  Centro-Oeste  Mato Grosso do Sul      0       0\n",
       "4  2020-01-30      Nordeste             Alagoas      0       0"
      ]
     },
     "execution_count": 7,
     "metadata": {},
     "output_type": "execute_result"
    }
   ],
   "source": [
    "covid_br.head()"
   ]
  },
  {
   "cell_type": "code",
   "execution_count": 8,
   "metadata": {},
   "outputs": [
    {
     "name": "stdout",
     "output_type": "stream",
     "text": [
      "<class 'pandas.core.frame.DataFrame'>\n",
      "RangeIndex: 2781 entries, 0 to 2780\n",
      "Data columns (total 5 columns):\n",
      "date      2781 non-null object\n",
      "region    2781 non-null object\n",
      "state     2781 non-null object\n",
      "cases     2781 non-null int64\n",
      "deaths    2781 non-null int64\n",
      "dtypes: int64(2), object(3)\n",
      "memory usage: 108.8+ KB\n"
     ]
    }
   ],
   "source": [
    "covid_br.info()"
   ]
  },
  {
   "cell_type": "code",
   "execution_count": 9,
   "metadata": {},
   "outputs": [
    {
     "data": {
      "text/html": [
       "<div>\n",
       "<style scoped>\n",
       "    .dataframe tbody tr th:only-of-type {\n",
       "        vertical-align: middle;\n",
       "    }\n",
       "\n",
       "    .dataframe tbody tr th {\n",
       "        vertical-align: top;\n",
       "    }\n",
       "\n",
       "    .dataframe thead th {\n",
       "        text-align: right;\n",
       "    }\n",
       "</style>\n",
       "<table border=\"1\" class=\"dataframe\">\n",
       "  <thead>\n",
       "    <tr style=\"text-align: right;\">\n",
       "      <th></th>\n",
       "      <th>date</th>\n",
       "      <th>region</th>\n",
       "      <th>state</th>\n",
       "      <th>cases</th>\n",
       "      <th>deaths</th>\n",
       "    </tr>\n",
       "  </thead>\n",
       "  <tbody>\n",
       "    <tr>\n",
       "      <td>2661</td>\n",
       "      <td>2020-05-07</td>\n",
       "      <td>Norte</td>\n",
       "      <td>Amazonas</td>\n",
       "      <td>10099</td>\n",
       "      <td>806</td>\n",
       "    </tr>\n",
       "    <tr>\n",
       "      <td>2688</td>\n",
       "      <td>2020-05-08</td>\n",
       "      <td>Norte</td>\n",
       "      <td>Amazonas</td>\n",
       "      <td>10727</td>\n",
       "      <td>874</td>\n",
       "    </tr>\n",
       "    <tr>\n",
       "      <td>2715</td>\n",
       "      <td>2020-05-09</td>\n",
       "      <td>Norte</td>\n",
       "      <td>Amazonas</td>\n",
       "      <td>11925</td>\n",
       "      <td>962</td>\n",
       "    </tr>\n",
       "    <tr>\n",
       "      <td>2742</td>\n",
       "      <td>2020-05-10</td>\n",
       "      <td>Norte</td>\n",
       "      <td>Amazonas</td>\n",
       "      <td>12599</td>\n",
       "      <td>1004</td>\n",
       "    </tr>\n",
       "    <tr>\n",
       "      <td>2769</td>\n",
       "      <td>2020-05-11</td>\n",
       "      <td>Norte</td>\n",
       "      <td>Amazonas</td>\n",
       "      <td>12919</td>\n",
       "      <td>1035</td>\n",
       "    </tr>\n",
       "  </tbody>\n",
       "</table>\n",
       "</div>"
      ],
      "text/plain": [
       "            date region     state  cases  deaths\n",
       "2661  2020-05-07  Norte  Amazonas  10099     806\n",
       "2688  2020-05-08  Norte  Amazonas  10727     874\n",
       "2715  2020-05-09  Norte  Amazonas  11925     962\n",
       "2742  2020-05-10  Norte  Amazonas  12599    1004\n",
       "2769  2020-05-11  Norte  Amazonas  12919    1035"
      ]
     },
     "execution_count": 9,
     "metadata": {},
     "output_type": "execute_result"
    }
   ],
   "source": [
    "df = covid_br[covid_br[\"state\"] == \"Amazonas\"]\n",
    "\n",
    "df.tail(5)"
   ]
  },
  {
   "cell_type": "code",
   "execution_count": 10,
   "metadata": {},
   "outputs": [
    {
     "data": {
      "text/plain": [
       "(103, 5)"
      ]
     },
     "execution_count": 10,
     "metadata": {},
     "output_type": "execute_result"
    }
   ],
   "source": [
    "df.shape"
   ]
  },
  {
   "cell_type": "code",
   "execution_count": 11,
   "metadata": {},
   "outputs": [
    {
     "data": {
      "text/html": [
       "<div>\n",
       "<style scoped>\n",
       "    .dataframe tbody tr th:only-of-type {\n",
       "        vertical-align: middle;\n",
       "    }\n",
       "\n",
       "    .dataframe tbody tr th {\n",
       "        vertical-align: top;\n",
       "    }\n",
       "\n",
       "    .dataframe thead th {\n",
       "        text-align: right;\n",
       "    }\n",
       "</style>\n",
       "<table border=\"1\" class=\"dataframe\">\n",
       "  <thead>\n",
       "    <tr style=\"text-align: right;\">\n",
       "      <th></th>\n",
       "      <th>cases</th>\n",
       "      <th>deaths</th>\n",
       "    </tr>\n",
       "  </thead>\n",
       "  <tbody>\n",
       "    <tr>\n",
       "      <td>count</td>\n",
       "      <td>103.000000</td>\n",
       "      <td>103.000000</td>\n",
       "    </tr>\n",
       "    <tr>\n",
       "      <td>mean</td>\n",
       "      <td>1556.524272</td>\n",
       "      <td>121.699029</td>\n",
       "    </tr>\n",
       "    <tr>\n",
       "      <td>std</td>\n",
       "      <td>3014.505988</td>\n",
       "      <td>244.330652</td>\n",
       "    </tr>\n",
       "    <tr>\n",
       "      <td>min</td>\n",
       "      <td>0.000000</td>\n",
       "      <td>0.000000</td>\n",
       "    </tr>\n",
       "    <tr>\n",
       "      <td>25%</td>\n",
       "      <td>0.000000</td>\n",
       "      <td>0.000000</td>\n",
       "    </tr>\n",
       "    <tr>\n",
       "      <td>50%</td>\n",
       "      <td>11.000000</td>\n",
       "      <td>0.000000</td>\n",
       "    </tr>\n",
       "    <tr>\n",
       "      <td>75%</td>\n",
       "      <td>1636.500000</td>\n",
       "      <td>115.000000</td>\n",
       "    </tr>\n",
       "    <tr>\n",
       "      <td>max</td>\n",
       "      <td>12919.000000</td>\n",
       "      <td>1035.000000</td>\n",
       "    </tr>\n",
       "  </tbody>\n",
       "</table>\n",
       "</div>"
      ],
      "text/plain": [
       "              cases       deaths\n",
       "count    103.000000   103.000000\n",
       "mean    1556.524272   121.699029\n",
       "std     3014.505988   244.330652\n",
       "min        0.000000     0.000000\n",
       "25%        0.000000     0.000000\n",
       "50%       11.000000     0.000000\n",
       "75%     1636.500000   115.000000\n",
       "max    12919.000000  1035.000000"
      ]
     },
     "execution_count": 11,
     "metadata": {},
     "output_type": "execute_result"
    }
   ],
   "source": [
    "df.describe()"
   ]
  },
  {
   "cell_type": "markdown",
   "metadata": {},
   "source": [
    "### Feature Engineering"
   ]
  },
  {
   "cell_type": "code",
   "execution_count": 12,
   "metadata": {},
   "outputs": [
    {
     "name": "stdout",
     "output_type": "stream",
     "text": [
      "<class 'pandas.core.frame.DataFrame'>\n",
      "DatetimeIndex: 103 entries, 2020-01-30 to 2020-05-11\n",
      "Data columns (total 5 columns):\n",
      "region         103 non-null object\n",
      "state          103 non-null object\n",
      "cases          103 non-null int64\n",
      "deaths         103 non-null int64\n",
      "day_of_week    103 non-null object\n",
      "dtypes: int64(2), object(3)\n",
      "memory usage: 4.8+ KB\n"
     ]
    },
    {
     "name": "stderr",
     "output_type": "stream",
     "text": [
      "/Users/maxfc/Anaconda/anaconda3/lib/python3.7/site-packages/ipykernel_launcher.py:3: SettingWithCopyWarning: \n",
      "A value is trying to be set on a copy of a slice from a DataFrame.\n",
      "Try using .loc[row_indexer,col_indexer] = value instead\n",
      "\n",
      "See the caveats in the documentation: http://pandas.pydata.org/pandas-docs/stable/user_guide/indexing.html#returning-a-view-versus-a-copy\n",
      "  This is separate from the ipykernel package so we can avoid doing imports until\n",
      "/Users/maxfc/Anaconda/anaconda3/lib/python3.7/site-packages/ipykernel_launcher.py:4: SettingWithCopyWarning: \n",
      "A value is trying to be set on a copy of a slice from a DataFrame.\n",
      "Try using .loc[row_indexer,col_indexer] = value instead\n",
      "\n",
      "See the caveats in the documentation: http://pandas.pydata.org/pandas-docs/stable/user_guide/indexing.html#returning-a-view-versus-a-copy\n",
      "  after removing the cwd from sys.path.\n"
     ]
    }
   ],
   "source": [
    "# datetime\n",
    "\n",
    "df['date'] = pd.to_datetime(df['date'])\n",
    "df['day_of_week'] = df['date'].dt.day_name()\n",
    "df.set_index('date', inplace=True)\n",
    "df.info()\n"
   ]
  },
  {
   "cell_type": "code",
   "execution_count": 13,
   "metadata": {},
   "outputs": [
    {
     "name": "stderr",
     "output_type": "stream",
     "text": [
      "/Users/maxfc/Anaconda/anaconda3/lib/python3.7/site-packages/ipykernel_launcher.py:3: SettingWithCopyWarning: \n",
      "A value is trying to be set on a copy of a slice from a DataFrame.\n",
      "Try using .loc[row_indexer,col_indexer] = value instead\n",
      "\n",
      "See the caveats in the documentation: http://pandas.pydata.org/pandas-docs/stable/user_guide/indexing.html#returning-a-view-versus-a-copy\n",
      "  This is separate from the ipykernel package so we can avoid doing imports until\n",
      "/Users/maxfc/Anaconda/anaconda3/lib/python3.7/site-packages/ipykernel_launcher.py:4: SettingWithCopyWarning: \n",
      "A value is trying to be set on a copy of a slice from a DataFrame.\n",
      "Try using .loc[row_indexer,col_indexer] = value instead\n",
      "\n",
      "See the caveats in the documentation: http://pandas.pydata.org/pandas-docs/stable/user_guide/indexing.html#returning-a-view-versus-a-copy\n",
      "  after removing the cwd from sys.path.\n"
     ]
    },
    {
     "data": {
      "text/html": [
       "<div>\n",
       "<style scoped>\n",
       "    .dataframe tbody tr th:only-of-type {\n",
       "        vertical-align: middle;\n",
       "    }\n",
       "\n",
       "    .dataframe tbody tr th {\n",
       "        vertical-align: top;\n",
       "    }\n",
       "\n",
       "    .dataframe thead th {\n",
       "        text-align: right;\n",
       "    }\n",
       "</style>\n",
       "<table border=\"1\" class=\"dataframe\">\n",
       "  <thead>\n",
       "    <tr style=\"text-align: right;\">\n",
       "      <th></th>\n",
       "      <th>region</th>\n",
       "      <th>state</th>\n",
       "      <th>cases</th>\n",
       "      <th>deaths</th>\n",
       "      <th>day_of_week</th>\n",
       "      <th>month</th>\n",
       "      <th>day</th>\n",
       "    </tr>\n",
       "    <tr>\n",
       "      <th>date</th>\n",
       "      <th></th>\n",
       "      <th></th>\n",
       "      <th></th>\n",
       "      <th></th>\n",
       "      <th></th>\n",
       "      <th></th>\n",
       "      <th></th>\n",
       "    </tr>\n",
       "  </thead>\n",
       "  <tbody>\n",
       "    <tr>\n",
       "      <td>2020-01-30</td>\n",
       "      <td>Norte</td>\n",
       "      <td>Amazonas</td>\n",
       "      <td>0</td>\n",
       "      <td>0</td>\n",
       "      <td>Thursday</td>\n",
       "      <td>1</td>\n",
       "      <td>30</td>\n",
       "    </tr>\n",
       "    <tr>\n",
       "      <td>2020-01-31</td>\n",
       "      <td>Norte</td>\n",
       "      <td>Amazonas</td>\n",
       "      <td>0</td>\n",
       "      <td>0</td>\n",
       "      <td>Friday</td>\n",
       "      <td>1</td>\n",
       "      <td>31</td>\n",
       "    </tr>\n",
       "    <tr>\n",
       "      <td>2020-02-01</td>\n",
       "      <td>Norte</td>\n",
       "      <td>Amazonas</td>\n",
       "      <td>0</td>\n",
       "      <td>0</td>\n",
       "      <td>Saturday</td>\n",
       "      <td>2</td>\n",
       "      <td>1</td>\n",
       "    </tr>\n",
       "    <tr>\n",
       "      <td>2020-02-02</td>\n",
       "      <td>Norte</td>\n",
       "      <td>Amazonas</td>\n",
       "      <td>0</td>\n",
       "      <td>0</td>\n",
       "      <td>Sunday</td>\n",
       "      <td>2</td>\n",
       "      <td>2</td>\n",
       "    </tr>\n",
       "    <tr>\n",
       "      <td>2020-02-03</td>\n",
       "      <td>Norte</td>\n",
       "      <td>Amazonas</td>\n",
       "      <td>0</td>\n",
       "      <td>0</td>\n",
       "      <td>Monday</td>\n",
       "      <td>2</td>\n",
       "      <td>3</td>\n",
       "    </tr>\n",
       "  </tbody>\n",
       "</table>\n",
       "</div>"
      ],
      "text/plain": [
       "           region     state  cases  deaths day_of_week  month  day\n",
       "date                                                              \n",
       "2020-01-30  Norte  Amazonas      0       0    Thursday      1   30\n",
       "2020-01-31  Norte  Amazonas      0       0      Friday      1   31\n",
       "2020-02-01  Norte  Amazonas      0       0    Saturday      2    1\n",
       "2020-02-02  Norte  Amazonas      0       0      Sunday      2    2\n",
       "2020-02-03  Norte  Amazonas      0       0      Monday      2    3"
      ]
     },
     "execution_count": 13,
     "metadata": {},
     "output_type": "execute_result"
    }
   ],
   "source": [
    "# creating month and day\n",
    "\n",
    "df['month'] = [df.index[i].month for i in range(len(df))]\n",
    "df['day'] = [df.index[i].day for i in range(len(df))] \n",
    "\n",
    "\n",
    "df.head()"
   ]
  },
  {
   "cell_type": "code",
   "execution_count": 14,
   "metadata": {},
   "outputs": [
    {
     "name": "stderr",
     "output_type": "stream",
     "text": [
      "/Users/maxfc/Anaconda/anaconda3/lib/python3.7/site-packages/ipykernel_launcher.py:2: SettingWithCopyWarning: \n",
      "A value is trying to be set on a copy of a slice from a DataFrame.\n",
      "Try using .loc[row_indexer,col_indexer] = value instead\n",
      "\n",
      "See the caveats in the documentation: http://pandas.pydata.org/pandas-docs/stable/user_guide/indexing.html#returning-a-view-versus-a-copy\n",
      "  \n"
     ]
    }
   ],
   "source": [
    "# creating death by day\n",
    "df['deaths_d'] = df['deaths'] - df['deaths'].shift(1)"
   ]
  },
  {
   "cell_type": "code",
   "execution_count": 15,
   "metadata": {},
   "outputs": [
    {
     "data": {
      "text/plain": [
       "(48, 8)"
      ]
     },
     "execution_count": 15,
     "metadata": {},
     "output_type": "execute_result"
    }
   ],
   "source": [
    "# deleting \"deaths = 0\"\n",
    "df = df[df[\"deaths\"] > 0]\n",
    "df.shape"
   ]
  },
  {
   "cell_type": "markdown",
   "metadata": {},
   "source": [
    "## Test Harness"
   ]
  },
  {
   "cell_type": "markdown",
   "metadata": {},
   "source": [
    "### Validation Dataset"
   ]
  },
  {
   "cell_type": "code",
   "execution_count": 16,
   "metadata": {},
   "outputs": [
    {
     "name": "stdout",
     "output_type": "stream",
     "text": [
      "Dataset 43, Validation 5\n"
     ]
    },
    {
     "name": "stderr",
     "output_type": "stream",
     "text": [
      "/Users/maxfc/Anaconda/anaconda3/lib/python3.7/site-packages/ipykernel_launcher.py:7: FutureWarning: The signature of `Series.to_csv` was aligned to that of `DataFrame.to_csv`, and argument 'header' will change its default value from False to True: please pass an explicit value to suppress this warning.\n",
      "  import sys\n",
      "/Users/maxfc/Anaconda/anaconda3/lib/python3.7/site-packages/ipykernel_launcher.py:8: FutureWarning: The signature of `Series.to_csv` was aligned to that of `DataFrame.to_csv`, and argument 'header' will change its default value from False to True: please pass an explicit value to suppress this warning.\n",
      "  \n"
     ]
    }
   ],
   "source": [
    "X = pd.Series(df['deaths_d'])\n",
    "split_size = round(len(X) * 0.90)\n",
    "dataset, validation = X[0:split_size], X[split_size:]\n",
    "print('Dataset %d, Validation %d' % (len(dataset), len(validation))) \n",
    "\n",
    "# save\n",
    "dataset.to_csv(data_dir+'dataset.csv')\n",
    "validation.to_csv(data_dir+'validation.csv')"
   ]
  },
  {
   "cell_type": "code",
   "execution_count": 17,
   "metadata": {},
   "outputs": [],
   "source": [
    "# https://medium.com/@bingobee01/pandas-tricks-and-tips-a7b87c3748ea"
   ]
  },
  {
   "cell_type": "markdown",
   "metadata": {},
   "source": [
    "## Persistence - Base Line Model"
   ]
  },
  {
   "cell_type": "code",
   "execution_count": 18,
   "metadata": {},
   "outputs": [
    {
     "name": "stdout",
     "output_type": "stream",
     "text": [
      ">Predicted=16.000, Expected= 31\n",
      ">Predicted=31.000, Expected= 29\n",
      ">Predicted=29.000, Expected= 45\n",
      ">Predicted=45.000, Expected= 51\n",
      ">Predicted=51.000, Expected= 25\n",
      ">Predicted=25.000, Expected= 47\n",
      ">Predicted=47.000, Expected= 36\n",
      ">Predicted=36.000, Expected= 65\n",
      ">Predicted=65.000, Expected=102\n",
      ">Predicted=102.000, Expected= 55\n",
      ">Predicted=55.000, Expected= 68\n",
      ">Predicted=68.000, Expected= 88\n",
      ">Predicted=88.000, Expected= 42\n",
      ">Predicted=42.000, Expected= 31\n",
      "RMSE: 25.393\n"
     ]
    }
   ],
   "source": [
    "# load data\n",
    "\n",
    "#X = dataset #.values\n",
    "X = X.astype('float32')\n",
    "split_size = 0.70\n",
    "\n",
    "train_size = round(len(X) * split_size)\n",
    "train, test = X[0:train_size], X[train_size:]\n",
    "\n",
    "# walk-forward validation\n",
    "history = [x for x in train]\n",
    "predictions = list()\n",
    "for i in range(len(test)):\n",
    "    \n",
    "    # predict\n",
    "    yhat = history[-1]\n",
    "    predictions.append(yhat)\n",
    "    \n",
    "    # observation\n",
    "    obs = test[i]\n",
    "    history.append(obs)\n",
    "    print('>Predicted=%.3f, Expected=%3.f' % (yhat, obs))\n",
    "\n",
    "# report performance\n",
    "rmse = np.sqrt(mean_squared_error(test, predictions)) \n",
    "print('RMSE: %.3f' % rmse)"
   ]
  },
  {
   "cell_type": "markdown",
   "metadata": {},
   "source": [
    "## Data Analysis"
   ]
  },
  {
   "cell_type": "markdown",
   "metadata": {},
   "source": [
    "### Components of Time Series"
   ]
  },
  {
   "cell_type": "markdown",
   "metadata": {},
   "source": [
    "Time series analysis provides a body of techniques to better understand a dataset. Perhaps the most useful of these is the decomposition of a time series into 4 constituent parts:\n",
    "\n",
    "- Level. The baseline value for the series if it were a straight line.\n",
    "\n",
    "- Trend. The optional and often linear increasing or decreasing behavior of the series over time.\n",
    "􏰀\n",
    "- Seasonality. The optional repeating patterns or cycles of behavior over time.\n",
    "\n",
    "- Noise. The optional variability in the observations that cannot be explained by the model.\n",
    "\n",
    "\n",
    "p.11"
   ]
  },
  {
   "cell_type": "markdown",
   "metadata": {},
   "source": [
    "### Concerns of Forecasting\n",
    "\n",
    "When forecasting, it is important to understand your goal. Use the Socratic method and ask lots of questions to help zoom in on the specifics of your predictive modeling problem. For example:\n",
    "\n",
    "1. How much data do you have available and are you able to gather it all together? More data is often more helpful, offering greater opportunity for exploratory data analysis, model testing and tuning, and model fidelity.\n",
    "\n",
    "2. What is the time horizon of predictions that is required? Short, medium or long term? Shorter time horizons are often easier to predict with higher confidence.\n",
    "\n",
    "3. Can forecasts be updated frequently over time or must they be made once and remain static? Updating forecasts as new information becomes available often results in more accurate predictions.\n",
    "\n",
    "4. At what temporal frequency are forecasts required? Often forecasts can be made at a lower or higher frequencies, allowing you to harness down-sampling, and up-sampling of data, which in turn can offer benefits while modeling.\n",
    "\n",
    "\n",
    "Time series data often requires cleaning, scaling, and even transformation. For example:\n",
    "\n",
    "- Frequency. Perhaps data is provided at a frequency that is too high to model or is unevenly spaced through time requiring resampling for use in some models.\n",
    "\n",
    "- Outliers. Perhaps there are corrupt or extreme outlier values that need to be identified and handled.\n",
    "\n",
    "- Missing. Perhaps there are gaps or missing data that need to be interpolated or imputed.\n",
    "\n",
    "p.12"
   ]
  },
  {
   "cell_type": "markdown",
   "metadata": {},
   "source": [
    "______\n",
    "\n",
    "- Sliding Window, p.15\n",
    "\n",
    "- Sliding Window With Multivariates, p.16\n",
    "\n",
    "- Sliding Window With Multiple Steps, p.18\n",
    "\n",
    "- Lag Features, p.29: X.shift(1)\n",
    "\n",
    "- Rolling Window Statistics, p.31: rolling(X).mean()\n",
    "\n",
    "        width = 3\n",
    "        shifted = temps.shift(width - 1)\n",
    "        window = shifted.rolling(window=width)\n",
    "        dataframe = concat([window.min(), window.mean(), window.max(), temps], axis=1) dataframe.columns = ['min', 'mean', 'max', 't+1']\n",
    "\n",
    "\n",
    "- Expanding Window Statistics, p.33: expanding()\n",
    "\n",
    "        temps = DataFrame(series.values)\n",
    "        window = temps.expanding()\n",
    "        dataframe = concat([window.min(), window.mean(), window.max(), temps.shift(-1)], axis=1) dataframe.columns = ['min', 'mean', 'max', 't+1']\n"
   ]
  },
  {
   "cell_type": "markdown",
   "metadata": {},
   "source": [
    "### Summary Statistics"
   ]
  },
  {
   "cell_type": "code",
   "execution_count": 19,
   "metadata": {},
   "outputs": [
    {
     "data": {
      "text/plain": [
       "(48,)"
      ]
     },
     "execution_count": 19,
     "metadata": {},
     "output_type": "execute_result"
    }
   ],
   "source": [
    "# Number of Observations\n",
    "X.shape"
   ]
  },
  {
   "cell_type": "code",
   "execution_count": 20,
   "metadata": {},
   "outputs": [
    {
     "data": {
      "text/plain": [
       "count     48.000000\n",
       "mean      21.562500\n",
       "std       23.783514\n",
       "min        0.000000\n",
       "25%        3.750000\n",
       "50%       16.000000\n",
       "75%       31.000000\n",
       "max      102.000000\n",
       "Name: deaths_d, dtype: float64"
      ]
     },
     "execution_count": 20,
     "metadata": {},
     "output_type": "execute_result"
    }
   ],
   "source": [
    "# Descriptive Statistics\n",
    "X.describe()"
   ]
  },
  {
   "cell_type": "markdown",
   "metadata": {},
   "source": [
    "### Line Plot"
   ]
  },
  {
   "cell_type": "code",
   "execution_count": 21,
   "metadata": {},
   "outputs": [
    {
     "data": {
      "image/png": "[encoded data removed]",
      "text/plain": [
       "<Figure size 432x288 with 1 Axes>"
      ]
     },
     "metadata": {
      "needs_background": "light"
     },
     "output_type": "display_data"
    }
   ],
   "source": [
    "X.plot()\n",
    "plt.show()"
   ]
  },
  {
   "cell_type": "markdown",
   "metadata": {},
   "source": [
    "- Increasing trend of cases over time.\n",
    "- There do not appears to be systematic seasonality to the cases for each day.\n",
    "- There do not appear to be any obvious outliers."
   ]
  },
  {
   "cell_type": "markdown",
   "metadata": {},
   "source": [
    "### Histogram and Density Plot"
   ]
  },
  {
   "cell_type": "code",
   "execution_count": 22,
   "metadata": {},
   "outputs": [
    {
     "data": {
      "image/png": "[encoded data removed]",
      "text/plain": [
       "<Figure size 432x288 with 2 Axes>"
      ]
     },
     "metadata": {
      "needs_background": "light"
     },
     "output_type": "display_data"
    }
   ],
   "source": [
    "plt.figure(1)\n",
    "plt.subplot(211)\n",
    "X.hist()\n",
    "\n",
    "plt.subplot(212)\n",
    "X.plot(kind='kde')\n",
    "plt.show()"
   ]
  },
  {
   "cell_type": "markdown",
   "metadata": {},
   "source": [
    "- The distribution is not Guassian.\n",
    "- The shape has a long right rail and may suggest an exponential distribution."
   ]
  },
  {
   "cell_type": "markdown",
   "metadata": {},
   "source": [
    "### Box and Whisker Plots"
   ]
  },
  {
   "cell_type": "code",
   "execution_count": 23,
   "metadata": {},
   "outputs": [
    {
     "data": {
      "image/png": "[encoded data removed]",
      "text/plain": [
       "<Figure size 432x288 with 1 Axes>"
      ]
     },
     "metadata": {
      "needs_background": "light"
     },
     "output_type": "display_data"
    }
   ],
   "source": [
    "plt.boxplot(X)\n",
    "plt.show()"
   ]
  },
  {
   "cell_type": "markdown",
   "metadata": {},
   "source": [
    "- There are outliers on the top."
   ]
  },
  {
   "cell_type": "markdown",
   "metadata": {},
   "source": [
    "### Heat Maps"
   ]
  },
  {
   "cell_type": "code",
   "execution_count": 24,
   "metadata": {},
   "outputs": [
    {
     "data": {
      "text/plain": [
       "\"\\nseries = read_csv('daily-minimum-temperatures.csv', header=0, index_col=0,\\nparse_dates=True, squeeze=True)\\ngroups = series.groupby(Grouper(freq='A')) years = DataFrame()\\nfor name, group in groups:\\n    years[name.year] = group.values\\nyears = years.T\\npyplot.matshow(years, interpolation=None, aspect='auto') \\npyplot.show()\\n# p.46\\n\""
      ]
     },
     "execution_count": 24,
     "metadata": {},
     "output_type": "execute_result"
    }
   ],
   "source": [
    "# Analysing correlations\n",
    "''' \n",
    "import seaborn as sns\n",
    "\n",
    "corr = series.corr()\n",
    "fig, ax = plt.subplots(figsize=(10, 10))\n",
    "colormap = sns.diverging_palette(220, 10, as_cmap=True)\n",
    "   \n",
    "dropSelf = np.zeros_like(corr)\n",
    "dropSelf[np.triu_indices_from(dropSelf)] = True\n",
    "\n",
    "sns.set()\n",
    "sns.heatmap(corr, cmap=colormap, annot=True, fmt=\".2f\", mask=dropSelf)\n",
    "\n",
    "plt.show()\n",
    "'''\n",
    "\n",
    "'''\n",
    "series = read_csv('daily-minimum-temperatures.csv', header=0, index_col=0,\n",
    "parse_dates=True, squeeze=True)\n",
    "groups = series.groupby(Grouper(freq='A')) years = DataFrame()\n",
    "for name, group in groups:\n",
    "    years[name.year] = group.values\n",
    "years = years.T\n",
    "pyplot.matshow(years, interpolation=None, aspect='auto') \n",
    "pyplot.show()\n",
    "# p.46\n",
    "'''\n",
    "\n"
   ]
  },
  {
   "cell_type": "markdown",
   "metadata": {},
   "source": [
    "### Lag Scatter Plots"
   ]
  },
  {
   "cell_type": "code",
   "execution_count": 25,
   "metadata": {},
   "outputs": [
    {
     "data": {
      "image/png": "[encoded data removed]",
      "text/plain": [
       "<Figure size 432x288 with 1 Axes>"
      ]
     },
     "metadata": {
      "needs_background": "light"
     },
     "output_type": "display_data"
    }
   ],
   "source": [
    "from pandas.plotting import lag_plot\n",
    "lag_plot(X)\n",
    "plt.show()"
   ]
  },
  {
   "cell_type": "code",
   "execution_count": 26,
   "metadata": {
    "scrolled": false
   },
   "outputs": [
    {
     "data": {
      "image/png": "[encoded data removed]",
      "text/plain": [
       "<Figure size 864x576 with 7 Axes>"
      ]
     },
     "metadata": {
      "needs_background": "light"
     },
     "output_type": "display_data"
    }
   ],
   "source": [
    "from pandas import concat\n",
    "\n",
    "lags = 7\n",
    "columns = [X]\n",
    "\n",
    "for i in range(1,(lags + 1)):\n",
    "    columns.append(X.shift(i))\n",
    "\n",
    "dataframe = concat(columns, axis=1) \n",
    "columns = ['t']\n",
    "\n",
    "for i in range(1,(lags + 1)):\n",
    "    columns.append('t-' + str(i)) \n",
    "\n",
    "dataframe.columns = columns \n",
    "plt.figure(1, figsize=(12, 8))\n",
    "\n",
    "for i in range(1,(lags + 1)):\n",
    "    ax = plt.subplot(240 + i)\n",
    "    ax.set_title('t vs t-' + str(i))\n",
    "    plt.scatter(x=dataframe['t'].values, y=dataframe['t-'+str(i)].values)\n",
    "plt.show()"
   ]
  },
  {
   "cell_type": "markdown",
   "metadata": {},
   "source": [
    "### Autocorrelation"
   ]
  },
  {
   "cell_type": "code",
   "execution_count": 27,
   "metadata": {},
   "outputs": [
    {
     "data": {
      "image/png": "[encoded data removed]",
      "text/plain": [
       "<Figure size 432x288 with 1 Axes>"
      ]
     },
     "metadata": {
      "needs_background": "light"
     },
     "output_type": "display_data"
    }
   ],
   "source": [
    "# autocorrelation\n",
    "autocorrelation_plot(X)\n",
    "plt.show()"
   ]
  },
  {
   "cell_type": "markdown",
   "metadata": {},
   "source": [
    "### Resampling\n",
    "\n",
    "Two types of resampling are:\n",
    "\n",
    "- Upsampling: Where you increase the frequency of the samples, such as from minutes to seconds.\n",
    "\n",
    "- Downsampling: Where you decrease the frequency of the samples, such as from days to months.\n",
    "\n",
    "There are perhaps two main reasons why you may be interested in resampling your time series data:\n",
    "\n",
    "- 􏰀Problem Framing: Resampling may be required if your data is available at the same frequency that you want to make predictions.\n",
    "\n",
    "- Feature Engineering: Resampling can also be used to provide additional structure or insight into the learning problem for supervised learning models.\n",
    "\n",
    "p.53"
   ]
  },
  {
   "cell_type": "code",
   "execution_count": 28,
   "metadata": {},
   "outputs": [
    {
     "data": {
      "text/html": [
       "<div>\n",
       "<style scoped>\n",
       "    .dataframe tbody tr th:only-of-type {\n",
       "        vertical-align: middle;\n",
       "    }\n",
       "\n",
       "    .dataframe tbody tr th {\n",
       "        vertical-align: top;\n",
       "    }\n",
       "\n",
       "    .dataframe thead th {\n",
       "        text-align: right;\n",
       "    }\n",
       "</style>\n",
       "<table border=\"1\" class=\"dataframe\">\n",
       "  <thead>\n",
       "    <tr style=\"text-align: right;\">\n",
       "      <th></th>\n",
       "      <th>region</th>\n",
       "      <th>state</th>\n",
       "      <th>cases</th>\n",
       "      <th>deaths</th>\n",
       "      <th>day_of_week</th>\n",
       "      <th>month</th>\n",
       "      <th>day</th>\n",
       "      <th>deaths_d</th>\n",
       "    </tr>\n",
       "    <tr>\n",
       "      <th>date</th>\n",
       "      <th></th>\n",
       "      <th></th>\n",
       "      <th></th>\n",
       "      <th></th>\n",
       "      <th></th>\n",
       "      <th></th>\n",
       "      <th></th>\n",
       "      <th></th>\n",
       "    </tr>\n",
       "  </thead>\n",
       "  <tbody>\n",
       "    <tr>\n",
       "      <td>2020-03-25</td>\n",
       "      <td>Norte</td>\n",
       "      <td>Amazonas</td>\n",
       "      <td>54</td>\n",
       "      <td>1</td>\n",
       "      <td>Wednesday</td>\n",
       "      <td>3</td>\n",
       "      <td>25</td>\n",
       "      <td>1.0</td>\n",
       "    </tr>\n",
       "    <tr>\n",
       "      <td>2020-03-26</td>\n",
       "      <td>Norte</td>\n",
       "      <td>Amazonas</td>\n",
       "      <td>67</td>\n",
       "      <td>1</td>\n",
       "      <td>Thursday</td>\n",
       "      <td>3</td>\n",
       "      <td>26</td>\n",
       "      <td>0.0</td>\n",
       "    </tr>\n",
       "  </tbody>\n",
       "</table>\n",
       "</div>"
      ],
      "text/plain": [
       "           region     state  cases  deaths day_of_week  month  day  deaths_d\n",
       "date                                                                        \n",
       "2020-03-25  Norte  Amazonas     54       1   Wednesday      3   25       1.0\n",
       "2020-03-26  Norte  Amazonas     67       1    Thursday      3   26       0.0"
      ]
     },
     "execution_count": 28,
     "metadata": {},
     "output_type": "execute_result"
    }
   ],
   "source": [
    "df.head(2)"
   ]
  },
  {
   "cell_type": "code",
   "execution_count": 29,
   "metadata": {},
   "outputs": [
    {
     "data": {
      "text/plain": [
       "date\n",
       "2020-03-29     0.200000\n",
       "2020-04-05     1.857143\n",
       "2020-04-12     6.857143\n",
       "2020-04-19    17.142857\n",
       "2020-04-26    17.428571\n",
       "2020-05-03    34.857143\n",
       "2020-05-10    65.142857\n",
       "2020-05-17    31.000000\n",
       "Freq: W-SUN, Name: deaths_d, dtype: float64"
      ]
     },
     "execution_count": 29,
     "metadata": {},
     "output_type": "execute_result"
    }
   ],
   "source": [
    "# visualize downsampling to \"week\" mean\n",
    "\n",
    "week_mean = df[\"deaths_d\"].resample('W', level=0).mean()\n",
    "week_mean"
   ]
  },
  {
   "cell_type": "code",
   "execution_count": 30,
   "metadata": {},
   "outputs": [
    {
     "data": {
      "image/png": "[encoded data removed]",
      "text/plain": [
       "<Figure size 432x288 with 1 Axes>"
      ]
     },
     "metadata": {
      "needs_background": "light"
     },
     "output_type": "display_data"
    }
   ],
   "source": [
    "week_mean.plot() \n",
    "plt.show()"
   ]
  },
  {
   "cell_type": "code",
   "execution_count": 31,
   "metadata": {},
   "outputs": [
    {
     "data": {
      "text/plain": [
       "date\n",
       "2020-03-29      1.0\n",
       "2020-04-05     13.0\n",
       "2020-04-12     48.0\n",
       "2020-04-19    120.0\n",
       "2020-04-26    122.0\n",
       "2020-05-03    244.0\n",
       "2020-05-10    456.0\n",
       "2020-05-17     31.0\n",
       "Freq: W-SUN, Name: deaths_d, dtype: float64"
      ]
     },
     "execution_count": 31,
     "metadata": {},
     "output_type": "execute_result"
    }
   ],
   "source": [
    "# week sum\n",
    "\n",
    "week_sum = df[\"deaths_d\"].resample('W', level=0).sum()\n",
    "week_sum"
   ]
  },
  {
   "cell_type": "code",
   "execution_count": 32,
   "metadata": {},
   "outputs": [
    {
     "data": {
      "image/png": "[encoded data removed]",
      "text/plain": [
       "<Figure size 432x288 with 1 Axes>"
      ]
     },
     "metadata": {
      "needs_background": "light"
     },
     "output_type": "display_data"
    }
   ],
   "source": [
    "week_sum.plot() \n",
    "plt.show()"
   ]
  },
  {
   "cell_type": "markdown",
   "metadata": {},
   "source": [
    "## Power Transforms\n",
    "\n",
    "### Quadratic Transform"
   ]
  },
  {
   "cell_type": "code",
   "execution_count": 33,
   "metadata": {},
   "outputs": [
    {
     "data": {
      "image/png": "[encoded data removed]",
      "text/plain": [
       "<Figure size 864x576 with 2 Axes>"
      ]
     },
     "metadata": {
      "needs_background": "light"
     },
     "output_type": "display_data"
    }
   ],
   "source": [
    "# contrive a quadratic time series\n",
    "\n",
    "df['deaths_d_quad'] = df['deaths_d']**2\n",
    "plt.figure(1, figsize=(12, 8))\n",
    "# line plot\n",
    "plt.subplot(211) \n",
    "plt.plot(df['deaths_d_quad'])\n",
    "# histogram\n",
    "plt.subplot(212) \n",
    "plt.hist(df['deaths_d_quad'])\n",
    "plt.show()"
   ]
  },
  {
   "cell_type": "markdown",
   "metadata": {},
   "source": [
    "### Square Root Transform"
   ]
  },
  {
   "cell_type": "code",
   "execution_count": 34,
   "metadata": {
    "scrolled": false
   },
   "outputs": [
    {
     "data": {
      "image/png": "[encoded data removed]",
      "text/plain": [
       "<Figure size 864x576 with 2 Axes>"
      ]
     },
     "metadata": {
      "needs_background": "light"
     },
     "output_type": "display_data"
    }
   ],
   "source": [
    "# square root transform a time series\n",
    "\n",
    "df['deaths_d_sqrt'] = np.sqrt(df['deaths_d']) \n",
    "plt.figure(1, figsize=(12, 8))\n",
    "# line plot\n",
    "plt.subplot(211) \n",
    "plt.plot(df['deaths_d_sqrt'])\n",
    "# histogram\n",
    "plt.subplot(212) \n",
    "plt.hist(df['deaths_d_sqrt'])\n",
    "plt.show()"
   ]
  },
  {
   "cell_type": "markdown",
   "metadata": {},
   "source": [
    "### Exponential Transform"
   ]
  },
  {
   "cell_type": "code",
   "execution_count": 35,
   "metadata": {},
   "outputs": [
    {
     "data": {
      "image/png": "[encoded data removed]",
      "text/plain": [
       "<Figure size 864x576 with 2 Axes>"
      ]
     },
     "metadata": {
      "needs_background": "light"
     },
     "output_type": "display_data"
    }
   ],
   "source": [
    "df['deaths_d_exp'] = np.exp(df['deaths_d']) \n",
    "plt.figure(1, figsize=(12, 8))\n",
    "# line plot\n",
    "plt.subplot(211) \n",
    "plt.plot(df['deaths_d_exp'])\n",
    "# histogram\n",
    "plt.subplot(212) \n",
    "plt.hist(df['deaths_d_exp'])\n",
    "plt.show()"
   ]
  },
  {
   "cell_type": "markdown",
   "metadata": {},
   "source": [
    "### Log Transform"
   ]
  },
  {
   "cell_type": "code",
   "execution_count": 36,
   "metadata": {},
   "outputs": [
    {
     "name": "stderr",
     "output_type": "stream",
     "text": [
      "/Users/maxfc/Anaconda/anaconda3/lib/python3.7/site-packages/pandas/core/series.py:853: RuntimeWarning: divide by zero encountered in log\n",
      "  result = getattr(ufunc, method)(*inputs, **kwargs)\n"
     ]
    },
    {
     "data": {
      "image/png": "[encoded data removed]",
      "text/plain": [
       "<Figure size 864x576 with 2 Axes>"
      ]
     },
     "metadata": {
      "needs_background": "light"
     },
     "output_type": "display_data"
    }
   ],
   "source": [
    "df['deaths_d_log'] = np.log(df['deaths_d']) \n",
    "plt.figure(1, figsize=(12, 8))\n",
    "# line plot\n",
    "plt.subplot(211) \n",
    "plt.plot(df['deaths_d_log'])\n",
    "# histogram\n",
    "plt.subplot(212) \n",
    "plt.hist(df['deaths_d_log'][np.isfinite(df['deaths_d_log'])].values)\n",
    "plt.show()"
   ]
  },
  {
   "cell_type": "markdown",
   "metadata": {},
   "source": [
    "### Box-Cox Transform\n",
    "\n",
    "Below are some common values for lambda:\n",
    "􏰀\n",
    "- lambda = -1. is a reciprocal transform.\n",
    "􏰀\n",
    "- lambda = -0.5 is a reciprocal square root transform. 􏰀 lambda = 0.0 is a log transform.\n",
    "􏰀\n",
    "- lambda = 0.5 is a square root transform.\n",
    "􏰀\n",
    "- lambda = 1.0 is no transform."
   ]
  },
  {
   "cell_type": "code",
   "execution_count": 37,
   "metadata": {
    "scrolled": false
   },
   "outputs": [
    {
     "name": "stderr",
     "output_type": "stream",
     "text": [
      "/Users/maxfc/Anaconda/anaconda3/lib/python3.7/site-packages/ipykernel_launcher.py:10: SettingWithCopyWarning: \n",
      "A value is trying to be set on a copy of a slice from a DataFrame\n",
      "\n",
      "See the caveats in the documentation: http://pandas.pydata.org/pandas-docs/stable/user_guide/indexing.html#returning-a-view-versus-a-copy\n",
      "  # Remove the CWD from sys.path while we load stuff.\n",
      "/Users/maxfc/Anaconda/anaconda3/lib/python3.7/site-packages/ipykernel_launcher.py:11: SettingWithCopyWarning: \n",
      "A value is trying to be set on a copy of a slice from a DataFrame\n",
      "\n",
      "See the caveats in the documentation: http://pandas.pydata.org/pandas-docs/stable/user_guide/indexing.html#returning-a-view-versus-a-copy\n",
      "  # This is added back by InteractiveShellApp.init_path()\n"
     ]
    },
    {
     "data": {
      "image/png": "[encoded data removed]",
      "text/plain": [
       "<Figure size 864x576 with 2 Axes>"
      ]
     },
     "metadata": {
      "needs_background": "light"
     },
     "output_type": "display_data"
    }
   ],
   "source": [
    "from scipy.stats import boxcox\n",
    "\n",
    "# boxcox doesn't support zeros\n",
    "# https://stackoverflow.com/questions/50180988/valueerror-data-must-be-positive-boxcox-scipy\n",
    "\n",
    "data_positive = df['deaths_d'][df['deaths_d'] > 0]\n",
    "bcdata, lam = boxcox(data_positive)\n",
    "\n",
    "df['deaths_d_boxcox'] = df['deaths_d']\n",
    "df['deaths_d_boxcox'][df['deaths_d'] > 0] = bcdata\n",
    "df['deaths_d_boxcox'][df['deaths_d'] == 0] = -1/lam\n",
    "\n",
    "plt.figure(1, figsize=(12, 8))\n",
    "# line plot\n",
    "plt.subplot(211) \n",
    "plt.plot(df['deaths_d_boxcox'])\n",
    "# histogram\n",
    "plt.subplot(212) \n",
    "plt.hist(df['deaths_d_boxcox'])\n",
    "plt.show()"
   ]
  },
  {
   "cell_type": "markdown",
   "metadata": {},
   "source": [
    "## Moving Average Smoothing"
   ]
  },
  {
   "cell_type": "markdown",
   "metadata": {},
   "source": [
    "- Centered Moving Average\n",
    "\n",
    "center_ma(t) = mean(obs(t − 1), obs(t), obs(t + 1))\n",
    "\n",
    "- Trailing Moving Average\n",
    "\n",
    "trail_ma(t) = mean(obs(t − 2), obs(t − 1), obs(t))\n",
    "\n",
    "=> It is assumed that both trend and seasonal components have been removed from your time series."
   ]
  },
  {
   "cell_type": "code",
   "execution_count": 49,
   "metadata": {},
   "outputs": [
    {
     "name": "stdout",
     "output_type": "stream",
     "text": [
      "date\n",
      "2020-03-25         NaN\n",
      "2020-03-26         NaN\n",
      "2020-03-27    0.333333\n",
      "2020-03-28    0.000000\n",
      "2020-03-29    0.000000\n",
      "2020-03-30    0.000000\n",
      "2020-03-31    0.666667\n",
      "2020-04-01    0.666667\n",
      "2020-04-02    0.666667\n",
      "2020-04-03    1.333333\n",
      "Name: deaths_d, dtype: float64\n"
     ]
    },
    {
     "data": {
      "image/png": "[encoded data removed]",
      "text/plain": [
       "<Figure size 432x288 with 1 Axes>"
      ]
     },
     "metadata": {
      "needs_background": "light"
     },
     "output_type": "display_data"
    }
   ],
   "source": [
    "# tail-rolling average transform\n",
    "rolling = X.rolling(window=3) \n",
    "rolling_mean = rolling.mean() \n",
    "print(rolling_mean.head(10))\n",
    "\n",
    "# plot original and transformed dataset \n",
    "X.plot() \n",
    "rolling_mean.plot(color='red') \n",
    "plt.show()"
   ]
  },
  {
   "cell_type": "markdown",
   "metadata": {},
   "source": [
    "## Moving Average as Feature Engineering"
   ]
  },
  {
   "cell_type": "code",
   "execution_count": 52,
   "metadata": {},
   "outputs": [
    {
     "name": "stdout",
     "output_type": "stream",
     "text": [
      "       mean    t  t+1\n",
      "0       NaN  NaN  1.0\n",
      "1       NaN  1.0  0.0\n",
      "2       NaN  0.0  0.0\n",
      "3       NaN  0.0  0.0\n",
      "4  0.333333  0.0  0.0\n",
      "5  0.000000  0.0  0.0\n",
      "6  0.000000  0.0  2.0\n",
      "7  0.000000  2.0  0.0\n",
      "8  0.666667  0.0  0.0\n",
      "9  0.666667  0.0  4.0\n"
     ]
    }
   ],
   "source": [
    "df = pd.DataFrame(X.values)\n",
    "width = 3\n",
    "lag1 = df.shift(1)\n",
    "lag3 = df.shift(width - 1)\n",
    "window = lag3.rolling(window=width)\n",
    "means = window.mean()\n",
    "dataframe = concat([means, lag1, df], axis=1) \n",
    "dataframe.columns = ['mean', 't', 't+1'] \n",
    "print(dataframe.head(10))"
   ]
  },
  {
   "cell_type": "markdown",
   "metadata": {},
   "source": [
    "## Moving Average as Prediction"
   ]
  },
  {
   "cell_type": "code",
   "execution_count": 56,
   "metadata": {
    "scrolled": true
   },
   "outputs": [
    {
     "name": "stdout",
     "output_type": "stream",
     "text": [
      "predicted=0.333333, expected=0.000000\n",
      "predicted=0.000000, expected=0.000000\n",
      "predicted=0.000000, expected=0.000000\n",
      "predicted=0.000000, expected=2.000000\n",
      "predicted=0.666667, expected=0.000000\n",
      "predicted=0.666667, expected=0.000000\n",
      "predicted=0.666667, expected=4.000000\n",
      "predicted=1.333333, expected=5.000000\n",
      "predicted=3.000000, expected=2.000000\n",
      "predicted=3.666667, expected=5.000000\n",
      "predicted=4.000000, expected=4.000000\n",
      "predicted=3.666667, expected=7.000000\n",
      "predicted=5.333333, expected=10.000000\n",
      "predicted=7.000000, expected=10.000000\n",
      "predicted=9.000000, expected=3.000000\n",
      "predicted=7.666667, expected=9.000000\n",
      "predicted=7.333333, expected=9.000000\n",
      "predicted=7.000000, expected=19.000000\n",
      "predicted=12.333333, expected=16.000000\n",
      "predicted=14.666667, expected=18.000000\n",
      "predicted=17.666666, expected=21.000000\n",
      "predicted=18.333334, expected=16.000000\n",
      "predicted=18.333334, expected=21.000000\n",
      "predicted=19.333334, expected=3.000000\n",
      "predicted=13.333333, expected=8.000000\n",
      "predicted=10.666667, expected=14.000000\n",
      "predicted=8.333333, expected=27.000000\n",
      "predicted=16.333334, expected=21.000000\n",
      "predicted=20.666666, expected=32.000000\n",
      "predicted=26.666666, expected=17.000000\n",
      "predicted=23.333334, expected=16.000000\n",
      "predicted=21.666666, expected=31.000000\n",
      "predicted=21.333334, expected=29.000000\n",
      "predicted=25.333334, expected=45.000000\n",
      "predicted=35.000000, expected=51.000000\n",
      "predicted=41.666668, expected=25.000000\n",
      "predicted=40.333332, expected=47.000000\n",
      "predicted=41.000000, expected=36.000000\n",
      "predicted=36.000000, expected=65.000000\n",
      "predicted=49.333332, expected=102.000000\n",
      "predicted=67.666664, expected=55.000000\n",
      "predicted=74.000000, expected=68.000000\n",
      "predicted=75.000000, expected=88.000000\n",
      "predicted=70.333336, expected=42.000000\n",
      "predicted=66.000000, expected=31.000000\n",
      "Test RMSE: 13.665\n"
     ]
    }
   ],
   "source": [
    "# prepare situation\n",
    "# X = series.values\n",
    "window = 3\n",
    "history = [X[i] for i in range(window)]\n",
    "test = [X[i] for i in range(window, len(X))]\n",
    "predictions = list()\n",
    "\n",
    "# walk forward over time steps in test\n",
    "for t in range(len(test)):\n",
    "    length = len(history)\n",
    "    yhat = np.mean([history[i] for i in range(length-window,length)]) \n",
    "    obs = test[t]\n",
    "    predictions.append(yhat)\n",
    "    history.append(obs)\n",
    "    print('predicted=%f, expected=%f' % (yhat, obs))\n",
    "rmse = np.sqrt(mean_squared_error(test, predictions)) \n",
    "print('Test RMSE: %.3f' % rmse)"
   ]
  },
  {
   "cell_type": "code",
   "execution_count": 57,
   "metadata": {},
   "outputs": [
    {
     "data": {
      "image/png": "[encoded data removed]",
      "text/plain": [
       "<Figure size 432x288 with 1 Axes>"
      ]
     },
     "metadata": {
      "needs_background": "light"
     },
     "output_type": "display_data"
    }
   ],
   "source": [
    "# plot\n",
    "plt.plot(test)\n",
    "plt.plot(predictions, color='red') \n",
    "plt.show()\n",
    "\n",
    "# zoom plot\n",
    "#pyplot.plot(test[:100]) pyplot.plot(predictions[:100], color='red') pyplot.show()"
   ]
  },
  {
   "cell_type": "markdown",
   "metadata": {},
   "source": [
    "____\n",
    "## Temporal Structure"
   ]
  },
  {
   "cell_type": "markdown",
   "metadata": {},
   "source": [
    "### White Noise\n",
    "\n",
    "- White noise is an important concept in time series forecasting. If a time series is white noise, it is a sequence of random numbers and cannot be predicted.\n",
    "\n",
    "- A time series may be white noise. A time series is white noise if the variables are independent and identically distributed with a mean of zero. This means that all variables have the same variance (sigma2) and each value has a zero correlation with all other values in the series. If the variables in the series are drawn from a Gaussian distribution, the series is called Gaussian white noise.\n",
    "\n",
    "- Predictability: If your time series is white noise, then, by definition, it is random. You cannot reasonably model it and make predictions.\n",
    "\n",
    "- Model Diagnostics: The series of errors from a time series forecast model should ideally be white noise.\n",
    "\n",
    "Is your Time Series White Noise?\n",
    "Your time series is not white noise if any of the following conditions are true:\n",
    "- Does your series have a non-zero mean?\n",
    "- Does the variance change over time?\n",
    "- Do values correlate with lag values?\n",
    "\n",
    "Some tools that you can use to check if your time series is white noise are:\n",
    "- Create a line plot. Check for gross features like a changing mean, variance, or obvious relationship between lagged variables.\n",
    "- Calculate summary statistics. Check the mean and variance of the whole series against the mean and variance of meaningful contiguous blocks of values in the series (e.g. days, months, or years).\n",
    "- Create an autocorrelation plot. Check for gross correlation between lagged variables.\n"
   ]
  },
  {
   "cell_type": "code",
   "execution_count": 65,
   "metadata": {},
   "outputs": [
    {
     "name": "stdout",
     "output_type": "stream",
     "text": [
      "count     48.000000\n",
      "mean      21.562500\n",
      "std       23.783514\n",
      "min        0.000000\n",
      "25%        3.750000\n",
      "50%       16.000000\n",
      "75%       31.000000\n",
      "max      102.000000\n",
      "Name: deaths_d, dtype: float64\n"
     ]
    },
    {
     "data": {
      "image/png": "[encoded data removed]",
      "text/plain": [
       "<Figure size 432x288 with 1 Axes>"
      ]
     },
     "metadata": {
      "needs_background": "light"
     },
     "output_type": "display_data"
    },
    {
     "data": {
      "image/png": "[encoded data removed]",
      "text/plain": [
       "<Figure size 432x288 with 1 Axes>"
      ]
     },
     "metadata": {
      "needs_background": "light"
     },
     "output_type": "display_data"
    },
    {
     "data": {
      "image/png": "[encoded data removed]",
      "text/plain": [
       "<Figure size 432x288 with 1 Axes>"
      ]
     },
     "metadata": {
      "needs_background": "light"
     },
     "output_type": "display_data"
    }
   ],
   "source": [
    "# summary stats\n",
    "print(X.describe())\n",
    "\n",
    "# line plot\n",
    "X.plot()\n",
    "plt.show()\n",
    "\n",
    "# histogram plot\n",
    "X.hist()\n",
    "plt.show()\n",
    "\n",
    "# autocorrelation\n",
    "autocorrelation_plot(X)\n",
    "plt.show()"
   ]
  },
  {
   "cell_type": "markdown",
   "metadata": {},
   "source": [
    "### Augmented Dickey-Fuller test\n",
    "\n",
    "We can expect a random walk to be non-stationary. In fact, all random walk processes are non-stationary. Note that not all non-stationary time series are random walks. Additionally, a non-stationary time series does not have a consistent mean and/or variance over time. A review of the random walk line plot might suggest this to be the case. We can confirm this using a statistical significance test.\n"
   ]
  },
  {
   "cell_type": "code",
   "execution_count": 67,
   "metadata": {},
   "outputs": [
    {
     "name": "stdout",
     "output_type": "stream",
     "text": [
      "ADF Statistic: -1.397338\n",
      "p-value: 0.583552\n",
      "Critical Values:\n",
      "\t1%: -3.589\n",
      "\t5%: -2.930\n",
      "\t10%: -2.603\n"
     ]
    }
   ],
   "source": [
    "from statsmodels.tsa.stattools import adfuller\n",
    "\n",
    "# statistical test\n",
    "result = adfuller(X) \n",
    "print('ADF Statistic: %f' % result[0]) \n",
    "print('p-value: %f' % result[1]) \n",
    "print('Critical Values:')\n",
    "for key, value in result[4].items():\n",
    "    print('\\t%s: %.3f' % (key, value))"
   ]
  },
  {
   "cell_type": "markdown",
   "metadata": {},
   "source": [
    "The null hypothesis of the test is that the time series is non-stationary. Running the example, we can see that the test statistic value was 0.341605. This is larger than all of the critical values at the 1%, 5%, and 10% confidence levels. Therefore, we can say that the time series does appear to be non-stationary with a low likelihood of the result being a statistical fluke."
   ]
  },
  {
   "cell_type": "code",
   "execution_count": 69,
   "metadata": {},
   "outputs": [
    {
     "data": {
      "image/png": "[encoded data removed]",
      "text/plain": [
       "<Figure size 432x288 with 1 Axes>"
      ]
     },
     "metadata": {
      "needs_background": "light"
     },
     "output_type": "display_data"
    },
    {
     "data": {
      "image/png": "[encoded data removed]",
      "text/plain": [
       "<Figure size 432x288 with 1 Axes>"
      ]
     },
     "metadata": {
      "needs_background": "light"
     },
     "output_type": "display_data"
    }
   ],
   "source": [
    "# take difference\n",
    "diff = list()\n",
    "for i in range(1, len(X)):\n",
    "    value = X[i] - X[i - 1]\n",
    "    diff.append(value)\n",
    "\n",
    "# line plot\n",
    "plt.plot(diff)\n",
    "plt.show()\n",
    "\n",
    "autocorrelation_plot(diff)\n",
    "plt.show()"
   ]
  },
  {
   "cell_type": "code",
   "execution_count": null,
   "metadata": {},
   "outputs": [],
   "source": []
  },
  {
   "cell_type": "code",
   "execution_count": null,
   "metadata": {},
   "outputs": [],
   "source": []
  },
  {
   "cell_type": "code",
   "execution_count": null,
   "metadata": {},
   "outputs": [],
   "source": []
  },
  {
   "cell_type": "code",
   "execution_count": null,
   "metadata": {},
   "outputs": [],
   "source": []
  },
  {
   "cell_type": "markdown",
   "metadata": {},
   "source": [
    "## ARIMA Models"
   ]
  },
  {
   "cell_type": "code",
   "execution_count": 38,
   "metadata": {},
   "outputs": [],
   "source": [
    "from statsmodels.tsa.arima_model import ARIMA"
   ]
  },
  {
   "cell_type": "markdown",
   "metadata": {},
   "source": [
    "- there are high correlations before day 3."
   ]
  },
  {
   "cell_type": "code",
   "execution_count": 39,
   "metadata": {},
   "outputs": [
    {
     "data": {
      "image/png": "[encoded data removed]",
      "text/plain": [
       "<Figure size 432x288 with 2 Axes>"
      ]
     },
     "metadata": {
      "needs_background": "light"
     },
     "output_type": "display_data"
    }
   ],
   "source": [
    "from statsmodels.graphics.tsaplots import plot_acf\n",
    "from statsmodels.graphics.tsaplots import plot_pacf\n",
    "\n",
    "plt.figure()\n",
    "plt.subplot(211)\n",
    "plot_acf(X, ax=plt.gca())\n",
    "plt.subplot(212)\n",
    "plot_pacf(X, ax=plt.gca())\n",
    "plt.show()"
   ]
  },
  {
   "cell_type": "code",
   "execution_count": 44,
   "metadata": {},
   "outputs": [],
   "source": [
    "# ARIMA\n",
    "p = 4   # Autocorrelation Function (ACF)\n",
    "\n",
    "d = 1   # level of differencing\n",
    "\n",
    "q = 0   # Partial Autocorrelation Function (PACF)"
   ]
  },
  {
   "cell_type": "code",
   "execution_count": 45,
   "metadata": {},
   "outputs": [
    {
     "name": "stdout",
     "output_type": "stream",
     "text": [
      "                             ARIMA Model Results                              \n",
      "==============================================================================\n",
      "Dep. Variable:             D.deaths_d   No. Observations:                   47\n",
      "Model:                 ARIMA(4, 1, 0)   Log Likelihood                -183.558\n",
      "Method:                       css-mle   S.D. of innovations             11.883\n",
      "Date:                Tue, 12 May 2020   AIC                            379.116\n",
      "Time:                        13:08:12   BIC                            390.217\n",
      "Sample:                    03-26-2020   HQIC                           383.294\n",
      "                         - 05-11-2020                                         \n",
      "====================================================================================\n",
      "                       coef    std err          z      P>|z|      [0.025      0.975]\n",
      "------------------------------------------------------------------------------------\n",
      "const                1.0431      0.910      1.146      0.258      -0.741       2.827\n",
      "ar.L1.D.deaths_d    -0.3286      0.149     -2.200      0.033      -0.621      -0.036\n",
      "ar.L2.D.deaths_d    -0.4343      0.176     -2.464      0.018      -0.780      -0.089\n",
      "ar.L3.D.deaths_d     0.0961      0.175      0.549      0.586      -0.247       0.439\n",
      "ar.L4.D.deaths_d    -0.3026      0.160     -1.893      0.065      -0.616       0.011\n",
      "                                    Roots                                    \n",
      "=============================================================================\n",
      "                  Real          Imaginary           Modulus         Frequency\n",
      "-----------------------------------------------------------------------------\n",
      "AR.1           -0.6930           -0.9335j            1.1627           -0.3516\n",
      "AR.2           -0.6930           +0.9335j            1.1627            0.3516\n",
      "AR.3            0.8518           -1.3113j            1.5637           -0.1583\n",
      "AR.4            0.8518           +1.3113j            1.5637            0.1583\n",
      "-----------------------------------------------------------------------------\n"
     ]
    },
    {
     "data": {
      "image/png": "[encoded data removed]",
      "text/plain": [
       "<Figure size 432x288 with 1 Axes>"
      ]
     },
     "metadata": {
      "needs_background": "light"
     },
     "output_type": "display_data"
    },
    {
     "name": "stdout",
     "output_type": "stream",
     "text": [
      "               0\n",
      "count  47.000000\n",
      "mean   -0.065874\n",
      "std    12.014439\n",
      "min   -34.954255\n",
      "25%    -3.495264\n",
      "50%    -0.054315\n",
      "75%     4.174225\n",
      "max    37.198898\n"
     ]
    }
   ],
   "source": [
    "# fit model\n",
    "model = ARIMA(X, order=(p,d,q))\n",
    "model_fit = model.fit(disp=0)\n",
    "\n",
    "# summary of fit model\n",
    "print(model_fit.summary())\n",
    "\n",
    "# line plot of residuals\n",
    "residuals = pd.DataFrame(model_fit.resid) \n",
    "residuals.plot()\n",
    "plt.show()\n",
    "\n",
    "# density plot of residuals residuals.plot(kind='kde') \n",
    "plt.show()\n",
    "\n",
    "# summary stats of residuals\n",
    "print(residuals.describe())"
   ]
  },
  {
   "cell_type": "markdown",
   "metadata": {},
   "source": [
    "### Grid Search ARIMA Hyperparameters"
   ]
  },
  {
   "cell_type": "code",
   "execution_count": 43,
   "metadata": {
    "scrolled": true
   },
   "outputs": [
    {
     "name": "stdout",
     "output_type": "stream",
     "text": [
      "ARIMA(0, 0, 0) RMSE=35.420\n",
      "ARIMA(0, 0, 1) RMSE=27.636\n",
      "ARIMA(0, 0, 2) RMSE=22.786\n",
      "ARIMA(0, 0, 3) RMSE=21.658\n",
      "ARIMA(0, 1, 0) RMSE=18.158\n",
      "ARIMA(0, 1, 1) RMSE=20.568\n",
      "ARIMA(0, 1, 2) RMSE=20.499\n",
      "ARIMA(0, 2, 0) RMSE=25.997\n",
      "ARIMA(0, 2, 1) RMSE=18.028\n",
      "ARIMA(1, 0, 0) RMSE=19.959\n",
      "ARIMA(1, 1, 0) RMSE=19.198\n",
      "ARIMA(1, 1, 1) RMSE=21.174\n",
      "ARIMA(1, 2, 0) RMSE=20.532\n",
      "ARIMA(2, 0, 0) RMSE=20.666\n",
      "ARIMA(2, 1, 0) RMSE=19.797\n",
      "ARIMA(2, 1, 1) RMSE=22.185\n",
      "ARIMA(2, 2, 0) RMSE=19.816\n",
      "ARIMA(3, 0, 0) RMSE=21.223\n",
      "ARIMA(3, 1, 0) RMSE=21.076\n",
      "ARIMA(3, 1, 1) RMSE=21.525\n",
      "ARIMA(3, 2, 0) RMSE=20.421\n",
      "ARIMA(4, 0, 0) RMSE=22.284\n",
      "ARIMA(4, 1, 0) RMSE=18.017\n",
      "ARIMA(4, 2, 0) RMSE=19.820\n",
      "ARIMA(5, 0, 0) RMSE=20.349\n",
      "ARIMA(5, 1, 0) RMSE=18.598\n",
      "ARIMA(5, 2, 0) RMSE=14.987\n",
      "Best ARIMA(5, 2, 0) RMSE=14.987\n"
     ]
    }
   ],
   "source": [
    "import warnings\n",
    "\n",
    "# evaluate an ARIMA model for a given order (p,d,q) and return RMSE\n",
    "\n",
    "def evaluate_arima_model(X, arima_order): # prepare training dataset\n",
    "    X = X.astype('float32')\n",
    "    train_size = int(len(X) * 0.70)\n",
    "    train, test = X[0:train_size], X[train_size:]\n",
    "    history = [x for x in train]\n",
    "\n",
    "    # make predictions\n",
    "    predictions = list()\n",
    "    for t in range(len(test)):\n",
    "        model = ARIMA(history, order=arima_order)\n",
    "        model_fit = model.fit(disp=0)\n",
    "        yhat = model_fit.forecast()[0]\n",
    "        predictions.append(yhat)\n",
    "        history.append(test[t])\n",
    "    \n",
    "    # calculate out of sample error\n",
    "    rmse = np.sqrt(mean_squared_error(test, predictions))\n",
    "    return rmse\n",
    "\n",
    "# evaluate combinations of p, d and q values for an ARIMA model\n",
    "def evaluate_models(dataset, p_values, d_values, q_values): \n",
    "    dataset = dataset.astype('float32')\n",
    "    best_score, best_cfg = float(\"inf\"), None\n",
    "    for p in p_values:\n",
    "        for d in d_values:\n",
    "             for q in q_values:\n",
    "                order = (p,d,q)\n",
    "                try:\n",
    "                    rmse = evaluate_arima_model(dataset, order)\n",
    "                    if rmse < best_score:\n",
    "                        best_score, best_cfg = rmse, order \n",
    "                    print('ARIMA%s RMSE=%.3f' % (order,rmse))\n",
    "                except:\n",
    "                    continue\n",
    "    print('Best ARIMA%s RMSE=%.3f' % (best_cfg, best_score))\n",
    "\n",
    "# load dataset\n",
    "#series = read_csv('dataset.csv', header=None, index_col=0, parse_dates=True, squeeze=True) # evaluate parameters\n",
    "p_values = range(0, 6)\n",
    "d_values = range(0, 6)\n",
    "q_values = range(0, 6)\n",
    "\n",
    "warnings.filterwarnings(\"ignore\")\n",
    "\n",
    "evaluate_models(dataset, p_values, d_values, q_values)"
   ]
  },
  {
   "cell_type": "code",
   "execution_count": null,
   "metadata": {},
   "outputs": [],
   "source": []
  },
  {
   "cell_type": "code",
   "execution_count": null,
   "metadata": {},
   "outputs": [],
   "source": []
  },
  {
   "cell_type": "code",
   "execution_count": null,
   "metadata": {},
   "outputs": [],
   "source": []
  },
  {
   "cell_type": "code",
   "execution_count": null,
   "metadata": {},
   "outputs": [],
   "source": []
  },
  {
   "cell_type": "code",
   "execution_count": null,
   "metadata": {},
   "outputs": [],
   "source": []
  },
  {
   "cell_type": "code",
   "execution_count": null,
   "metadata": {},
   "outputs": [],
   "source": []
  },
  {
   "cell_type": "code",
   "execution_count": null,
   "metadata": {},
   "outputs": [],
   "source": []
  },
  {
   "cell_type": "code",
   "execution_count": null,
   "metadata": {},
   "outputs": [],
   "source": []
  },
  {
   "cell_type": "markdown",
   "metadata": {},
   "source": [
    "### Moving Average as Data Preparation"
   ]
  },
  {
   "cell_type": "code",
   "execution_count": null,
   "metadata": {},
   "outputs": [],
   "source": [
    "X = pd.Series(df['deaths_d'])\n",
    "rolling = X.rolling(window=3) \n",
    "rolling_mean = rolling.mean() \n",
    "print(rolling_mean.head(10))"
   ]
  },
  {
   "cell_type": "code",
   "execution_count": null,
   "metadata": {},
   "outputs": [],
   "source": [
    "# plot original and transformed dataset \n",
    "X.plot() \n",
    "rolling_mean.plot(color='red') \n",
    "plt.show()"
   ]
  },
  {
   "cell_type": "markdown",
   "metadata": {},
   "source": [
    "### Moving Average as Feature Engineering"
   ]
  },
  {
   "cell_type": "code",
   "execution_count": null,
   "metadata": {
    "scrolled": true
   },
   "outputs": [],
   "source": [
    "\n",
    "\n",
    "# prepare situation\n",
    "#X = deaths.values\n",
    "window = 3\n",
    "history = [X[i] for i in range(window)]\n",
    "test = [X[i] for i in range(window, len(X))]\n",
    "predictions = list()\n",
    "\n",
    "# walk forward over time steps in test\n",
    "for t in range(len(test)):\n",
    "    length = len(history)\n",
    "    yhat = np.mean([history[i] for i in range(length-window,length)]) \n",
    "    obs = test[t]\n",
    "    predictions.append(yhat)\n",
    "    history.append(obs)\n",
    "    print('predicted=%f, expected=%f' % (yhat, obs))\n",
    "rmse = np.sqrt(mean_squared_error(test, predictions)) \n",
    "print('Test RMSE: %.3f' % rmse)\n",
    "\n",
    "# plot\n",
    "plt.plot(test)\n",
    "plt.plot(predictions, color='red') \n",
    "plt.show()\n",
    "\n",
    "# zoom plot\n",
    "#pyplot.plot(test[:100]) pyplot.plot(predictions[:100], color='red') pyplot.show()"
   ]
  },
  {
   "cell_type": "markdown",
   "metadata": {},
   "source": [
    "### Is your Time Series White Noise?"
   ]
  },
  {
   "cell_type": "code",
   "execution_count": null,
   "metadata": {},
   "outputs": [],
   "source": []
  },
  {
   "cell_type": "code",
   "execution_count": null,
   "metadata": {},
   "outputs": [],
   "source": [
    "X.describe()\n",
    "\n",
    "# mean is not zero\n",
    "# standard deviation is high"
   ]
  },
  {
   "cell_type": "code",
   "execution_count": null,
   "metadata": {},
   "outputs": [],
   "source": []
  },
  {
   "cell_type": "code",
   "execution_count": null,
   "metadata": {},
   "outputs": [],
   "source": [
    "# histogram plot\n",
    "X.hist()\n",
    "plt.show()\n",
    "\n",
    "# histogram is not a bell curve."
   ]
  },
  {
   "cell_type": "markdown",
   "metadata": {},
   "source": [
    "### Check Stationarity"
   ]
  },
  {
   "cell_type": "code",
   "execution_count": null,
   "metadata": {},
   "outputs": [],
   "source": [
    "from statsmodels.tsa.stattools import adfuller"
   ]
  },
  {
   "cell_type": "code",
   "execution_count": null,
   "metadata": {},
   "outputs": [],
   "source": [
    "# statistical test\n",
    "\n",
    "# The null hypothesis of the test is that the time series is non-stationary.\n",
    "# https://machinelearningmastery.com/time-series-data-stationary-python/\n",
    "# https://en.wikipedia.org/wiki/Augmented_Dickey–Fuller_test\n",
    "\n",
    "result = adfuller(X) \n",
    "print('ADF Statistic: %f' % result[0]) \n",
    "print('p-value: %f' % result[1]) \n",
    "print('Critical Values:')\n",
    "for key, value in result[4].items():\n",
    "    print('\\t%s: %.3f' % (key, value))"
   ]
  },
  {
   "cell_type": "markdown",
   "metadata": {},
   "source": [
    "### Time Series Components\n",
    "\n",
    "Systematic Components:\n",
    "- Level\n",
    "- Trend\n",
    "- Seasonality\n",
    "\n",
    "Nos-Systematic Component:\n",
    "- Noise\n"
   ]
  },
  {
   "cell_type": "markdown",
   "metadata": {},
   "source": [
    "### Automatic Time Series Decomposition"
   ]
  },
  {
   "cell_type": "markdown",
   "metadata": {},
   "source": [
    "### Additive Decomposition"
   ]
  },
  {
   "cell_type": "code",
   "execution_count": null,
   "metadata": {},
   "outputs": [],
   "source": [
    "from statsmodels.tsa.seasonal import seasonal_decompose \n",
    "\n",
    "result = seasonal_decompose(X, model='additive', freq=1) \n",
    "result.plot()\n",
    "plt.show()"
   ]
  },
  {
   "cell_type": "markdown",
   "metadata": {},
   "source": [
    "### Multiplicative Decomposition"
   ]
  },
  {
   "cell_type": "code",
   "execution_count": null,
   "metadata": {},
   "outputs": [],
   "source": [
    "result = seasonal_decompose(X, model='multiplicative', freq=1) \n",
    "result.plot()\n",
    "plt.show()"
   ]
  },
  {
   "cell_type": "markdown",
   "metadata": {},
   "source": [
    "### Log transformation"
   ]
  },
  {
   "cell_type": "code",
   "execution_count": null,
   "metadata": {},
   "outputs": [],
   "source": [
    "result = adfuller(np.log(X)) \n",
    "print('ADF Statistic: %f' % result[0]) \n",
    "print('p-value: %f' % result[1]) \n",
    "print('Critical Values:')\n",
    "for key, value in result[4].items():\n",
    "    print('\\t%s: %.3f' % (key, value))"
   ]
  },
  {
   "cell_type": "code",
   "execution_count": null,
   "metadata": {},
   "outputs": [],
   "source": []
  },
  {
   "cell_type": "code",
   "execution_count": null,
   "metadata": {},
   "outputs": [],
   "source": []
  },
  {
   "cell_type": "markdown",
   "metadata": {},
   "source": [
    "### Detrend by Model Fitting"
   ]
  },
  {
   "cell_type": "code",
   "execution_count": null,
   "metadata": {},
   "outputs": [],
   "source": [
    "??????\n",
    "\n",
    "\n",
    "from sklearn.linear_model import LinearRegression\n",
    "\n",
    "# fit linear model\n",
    "X = [i for i in range(0, len(X))]\n",
    "X = np.reshape(X, (len(X), 1))\n",
    "y = dataset.values\n",
    "model = LinearRegression()\n",
    "model.fit(X, y)\n",
    "\n",
    "# calculate trend\n",
    "trend = model.predict(X)\n",
    "\n",
    "# plot trend\n",
    "plt.plot(y)\n",
    "plt.plot(trend)\n",
    "plt.show()\n",
    "\n",
    "# detrend\n",
    "detrended = [y[i]-trend[i] for i in range(0, len(deaths))]\n",
    "\n",
    "# plot detrended\n",
    "plt.plot(detrended)\n",
    "plt.show()"
   ]
  },
  {
   "cell_type": "code",
   "execution_count": null,
   "metadata": {},
   "outputs": [],
   "source": [
    "detrended"
   ]
  },
  {
   "cell_type": "code",
   "execution_count": null,
   "metadata": {},
   "outputs": [],
   "source": [
    "result = adfuller(detrended) \n",
    "print('ADF Statistic: %f' % result[0]) \n",
    "print('p-value: %f' % result[1]) \n",
    "print('Critical Values:')\n",
    "for key, value in result[4].items():\n",
    "    print('\\t%s: %.3f' % (key, value))"
   ]
  },
  {
   "cell_type": "code",
   "execution_count": null,
   "metadata": {},
   "outputs": [],
   "source": []
  }
 ],
 "metadata": {
  "kernelspec": {
   "display_name": "Python 3",
   "language": "python",
   "name": "python3"
  },
  "language_info": {
   "codemirror_mode": {
    "name": "ipython",
    "version": 3
   },
   "file_extension": ".py",
   "mimetype": "text/x-python",
   "name": "python",
   "nbconvert_exporter": "python",
   "pygments_lexer": "ipython3",
   "version": "3.7.4"
  }
 },
 "nbformat": 4,
 "nbformat_minor": 2
}
