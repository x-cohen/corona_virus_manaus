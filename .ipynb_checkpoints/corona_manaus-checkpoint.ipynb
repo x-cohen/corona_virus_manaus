{
 "cells": [
  {
   "cell_type": "code",
   "execution_count": 164,
   "metadata": {},
   "outputs": [
    {
     "name": "stdout",
     "output_type": "stream",
     "text": [
      "numpy: 1.17.2\n",
      "matplotlib: 3.1.1\n",
      "pandas: 0.25.1\n",
      "sklearn: 0.21.3\n",
      "Python 3.7.4\r\n"
     ]
    }
   ],
   "source": [
    "# check the versions of key python libraries \n",
    "\n",
    "#import scipy\n",
    "#print('scipy: %s' % scipy.__version__)\n",
    "\n",
    "import numpy as np\n",
    "print('numpy: %s' % np.__version__)\n",
    "\n",
    "import matplotlib.pyplot as plt\n",
    "import matplotlib\n",
    "print('matplotlib: %s' % matplotlib.__version__)\n",
    "\n",
    "import pandas as pd\n",
    "print('pandas: %s' % pd.__version__)\n",
    "\n",
    "#import statsmodels\n",
    "#print('statsmodels: %s' % statsmodels.__version__) # scikit-learn\n",
    "\n",
    "import sklearn\n",
    "print('sklearn: %s' % sklearn.__version__)\n",
    "\n",
    "from tqdm import tqdm\n",
    "#import requests\n",
    "import zipfile\n",
    "\n",
    "#import gc\n",
    "\n",
    "!python --version\n",
    "\n",
    "\n",
    "\n",
    "#pd.set_option('max_columns', 50)"
   ]
  },
  {
   "cell_type": "code",
   "execution_count": 17,
   "metadata": {},
   "outputs": [],
   "source": [
    "# original data files\n",
    "data_dir = './corona-virus-brazil/'"
   ]
  },
  {
   "cell_type": "code",
   "execution_count": 18,
   "metadata": {},
   "outputs": [
    {
     "name": "stdout",
     "output_type": "stream",
     "text": [
      "downloading file .zip ...\n",
      "\n",
      "Downloading corona-virus-brazil.zip to /Users/maxfc/Anaconda/AnacondaProjects/Corona_Virus/Manaus\n",
      "  0%|                                               | 0.00/19.1k [00:00<?, ?B/s]\n",
      "100%|███████████████████████████████████████| 19.1k/19.1k [00:00<00:00, 339kB/s]\n",
      "\n",
      "download finished!\n",
      "\n",
      "unziped!\n"
     ]
    }
   ],
   "source": [
    "# download file\n",
    "# source:\n",
    "# https://www.kaggle.com/unanimad/corona-virus-brazil\n",
    "\n",
    "print('downloading file .zip ...')\n",
    "print()\n",
    "!kaggle datasets download unanimad/corona-virus-brazil --force\n",
    "print()\n",
    "print('download finished!')\n",
    "print()\n",
    "\n",
    "with zipfile.ZipFile('corona-virus-brazil.zip', 'r') as zip_ref:\n",
    "    zip_ref.extractall('corona-virus-brazil')\n",
    "print('unziped!')"
   ]
  },
  {
   "cell_type": "code",
   "execution_count": null,
   "metadata": {},
   "outputs": [],
   "source": []
  },
  {
   "cell_type": "code",
   "execution_count": null,
   "metadata": {},
   "outputs": [],
   "source": []
  },
  {
   "cell_type": "code",
   "execution_count": 143,
   "metadata": {},
   "outputs": [
    {
     "name": "stdout",
     "output_type": "stream",
     "text": [
      "brazil_covid19.csv     brazil_covid19_old.csv\r\n"
     ]
    }
   ],
   "source": [
    "!ls {data_dir}"
   ]
  },
  {
   "cell_type": "code",
   "execution_count": 144,
   "metadata": {},
   "outputs": [
    {
     "name": "stdout",
     "output_type": "stream",
     "text": [
      "Covid BR has 2700 rows and 5 columns\n",
      "\n",
      "Last information in 2020-05-08\n"
     ]
    }
   ],
   "source": [
    "covid_br = pd.read_csv(data_dir + 'brazil_covid19.csv')\n",
    "print('Covid BR has {} rows and {} columns'.format(covid_br.shape[0], covid_br.shape[1]))\n",
    "print()\n",
    "print('Last information in ' + covid_br.iloc[-1,0])\n"
   ]
  },
  {
   "cell_type": "code",
   "execution_count": 145,
   "metadata": {},
   "outputs": [
    {
     "data": {
      "text/html": [
       "<div>\n",
       "<style scoped>\n",
       "    .dataframe tbody tr th:only-of-type {\n",
       "        vertical-align: middle;\n",
       "    }\n",
       "\n",
       "    .dataframe tbody tr th {\n",
       "        vertical-align: top;\n",
       "    }\n",
       "\n",
       "    .dataframe thead th {\n",
       "        text-align: right;\n",
       "    }\n",
       "</style>\n",
       "<table border=\"1\" class=\"dataframe\">\n",
       "  <thead>\n",
       "    <tr style=\"text-align: right;\">\n",
       "      <th></th>\n",
       "      <th>date</th>\n",
       "      <th>region</th>\n",
       "      <th>state</th>\n",
       "      <th>cases</th>\n",
       "      <th>deaths</th>\n",
       "    </tr>\n",
       "  </thead>\n",
       "  <tbody>\n",
       "    <tr>\n",
       "      <td>0</td>\n",
       "      <td>2020-01-30</td>\n",
       "      <td>Centro-Oeste</td>\n",
       "      <td>Distrito Federal</td>\n",
       "      <td>0</td>\n",
       "      <td>0</td>\n",
       "    </tr>\n",
       "    <tr>\n",
       "      <td>1</td>\n",
       "      <td>2020-01-30</td>\n",
       "      <td>Centro-Oeste</td>\n",
       "      <td>Goiás</td>\n",
       "      <td>0</td>\n",
       "      <td>0</td>\n",
       "    </tr>\n",
       "    <tr>\n",
       "      <td>2</td>\n",
       "      <td>2020-01-30</td>\n",
       "      <td>Centro-Oeste</td>\n",
       "      <td>Mato Grosso</td>\n",
       "      <td>0</td>\n",
       "      <td>0</td>\n",
       "    </tr>\n",
       "    <tr>\n",
       "      <td>3</td>\n",
       "      <td>2020-01-30</td>\n",
       "      <td>Centro-Oeste</td>\n",
       "      <td>Mato Grosso do Sul</td>\n",
       "      <td>0</td>\n",
       "      <td>0</td>\n",
       "    </tr>\n",
       "    <tr>\n",
       "      <td>4</td>\n",
       "      <td>2020-01-30</td>\n",
       "      <td>Nordeste</td>\n",
       "      <td>Alagoas</td>\n",
       "      <td>0</td>\n",
       "      <td>0</td>\n",
       "    </tr>\n",
       "  </tbody>\n",
       "</table>\n",
       "</div>"
      ],
      "text/plain": [
       "         date        region               state  cases  deaths\n",
       "0  2020-01-30  Centro-Oeste    Distrito Federal      0       0\n",
       "1  2020-01-30  Centro-Oeste               Goiás      0       0\n",
       "2  2020-01-30  Centro-Oeste         Mato Grosso      0       0\n",
       "3  2020-01-30  Centro-Oeste  Mato Grosso do Sul      0       0\n",
       "4  2020-01-30      Nordeste             Alagoas      0       0"
      ]
     },
     "execution_count": 145,
     "metadata": {},
     "output_type": "execute_result"
    }
   ],
   "source": [
    "covid_br.head()"
   ]
  },
  {
   "cell_type": "code",
   "execution_count": 146,
   "metadata": {},
   "outputs": [
    {
     "name": "stdout",
     "output_type": "stream",
     "text": [
      "<class 'pandas.core.frame.DataFrame'>\n",
      "RangeIndex: 2700 entries, 0 to 2699\n",
      "Data columns (total 5 columns):\n",
      "date      2700 non-null object\n",
      "region    2700 non-null object\n",
      "state     2700 non-null object\n",
      "cases     2700 non-null int64\n",
      "deaths    2700 non-null int64\n",
      "dtypes: int64(2), object(3)\n",
      "memory usage: 105.6+ KB\n"
     ]
    }
   ],
   "source": [
    "covid_br.info()"
   ]
  },
  {
   "cell_type": "code",
   "execution_count": 147,
   "metadata": {},
   "outputs": [
    {
     "data": {
      "text/html": [
       "<div>\n",
       "<style scoped>\n",
       "    .dataframe tbody tr th:only-of-type {\n",
       "        vertical-align: middle;\n",
       "    }\n",
       "\n",
       "    .dataframe tbody tr th {\n",
       "        vertical-align: top;\n",
       "    }\n",
       "\n",
       "    .dataframe thead th {\n",
       "        text-align: right;\n",
       "    }\n",
       "</style>\n",
       "<table border=\"1\" class=\"dataframe\">\n",
       "  <thead>\n",
       "    <tr style=\"text-align: right;\">\n",
       "      <th></th>\n",
       "      <th>date</th>\n",
       "      <th>region</th>\n",
       "      <th>state</th>\n",
       "      <th>cases</th>\n",
       "      <th>deaths</th>\n",
       "    </tr>\n",
       "  </thead>\n",
       "  <tbody>\n",
       "    <tr>\n",
       "      <td>2580</td>\n",
       "      <td>2020-05-04</td>\n",
       "      <td>Norte</td>\n",
       "      <td>Amazonas</td>\n",
       "      <td>7242</td>\n",
       "      <td>584</td>\n",
       "    </tr>\n",
       "    <tr>\n",
       "      <td>2607</td>\n",
       "      <td>2020-05-05</td>\n",
       "      <td>Norte</td>\n",
       "      <td>Amazonas</td>\n",
       "      <td>8109</td>\n",
       "      <td>649</td>\n",
       "    </tr>\n",
       "    <tr>\n",
       "      <td>2634</td>\n",
       "      <td>2020-05-06</td>\n",
       "      <td>Norte</td>\n",
       "      <td>Amazonas</td>\n",
       "      <td>9243</td>\n",
       "      <td>751</td>\n",
       "    </tr>\n",
       "    <tr>\n",
       "      <td>2661</td>\n",
       "      <td>2020-05-07</td>\n",
       "      <td>Norte</td>\n",
       "      <td>Amazonas</td>\n",
       "      <td>10099</td>\n",
       "      <td>806</td>\n",
       "    </tr>\n",
       "    <tr>\n",
       "      <td>2688</td>\n",
       "      <td>2020-05-08</td>\n",
       "      <td>Norte</td>\n",
       "      <td>Amazonas</td>\n",
       "      <td>10727</td>\n",
       "      <td>874</td>\n",
       "    </tr>\n",
       "  </tbody>\n",
       "</table>\n",
       "</div>"
      ],
      "text/plain": [
       "            date region     state  cases  deaths\n",
       "2580  2020-05-04  Norte  Amazonas   7242     584\n",
       "2607  2020-05-05  Norte  Amazonas   8109     649\n",
       "2634  2020-05-06  Norte  Amazonas   9243     751\n",
       "2661  2020-05-07  Norte  Amazonas  10099     806\n",
       "2688  2020-05-08  Norte  Amazonas  10727     874"
      ]
     },
     "execution_count": 147,
     "metadata": {},
     "output_type": "execute_result"
    }
   ],
   "source": [
    "df = covid_br[covid_br[\"state\"] == \"Amazonas\"]\n",
    "\n",
    "df = df[df[\"cases\"] > 0]\n",
    "\n",
    "df.tail(5)"
   ]
  },
  {
   "cell_type": "code",
   "execution_count": 148,
   "metadata": {},
   "outputs": [
    {
     "data": {
      "text/plain": [
       "(55, 5)"
      ]
     },
     "execution_count": 148,
     "metadata": {},
     "output_type": "execute_result"
    }
   ],
   "source": [
    "df.shape"
   ]
  },
  {
   "cell_type": "code",
   "execution_count": 149,
   "metadata": {},
   "outputs": [
    {
     "data": {
      "text/html": [
       "<div>\n",
       "<style scoped>\n",
       "    .dataframe tbody tr th:only-of-type {\n",
       "        vertical-align: middle;\n",
       "    }\n",
       "\n",
       "    .dataframe tbody tr th {\n",
       "        vertical-align: top;\n",
       "    }\n",
       "\n",
       "    .dataframe thead th {\n",
       "        text-align: right;\n",
       "    }\n",
       "</style>\n",
       "<table border=\"1\" class=\"dataframe\">\n",
       "  <thead>\n",
       "    <tr style=\"text-align: right;\">\n",
       "      <th></th>\n",
       "      <th>cases</th>\n",
       "      <th>deaths</th>\n",
       "    </tr>\n",
       "  </thead>\n",
       "  <tbody>\n",
       "    <tr>\n",
       "      <td>count</td>\n",
       "      <td>55.000000</td>\n",
       "      <td>55.000000</td>\n",
       "    </tr>\n",
       "    <tr>\n",
       "      <td>mean</td>\n",
       "      <td>2234.163636</td>\n",
       "      <td>173.345455</td>\n",
       "    </tr>\n",
       "    <tr>\n",
       "      <td>std</td>\n",
       "      <td>2835.200142</td>\n",
       "      <td>234.017981</td>\n",
       "    </tr>\n",
       "    <tr>\n",
       "      <td>min</td>\n",
       "      <td>1.000000</td>\n",
       "      <td>0.000000</td>\n",
       "    </tr>\n",
       "    <tr>\n",
       "      <td>25%</td>\n",
       "      <td>125.500000</td>\n",
       "      <td>1.000000</td>\n",
       "    </tr>\n",
       "    <tr>\n",
       "      <td>50%</td>\n",
       "      <td>1050.000000</td>\n",
       "      <td>53.000000</td>\n",
       "    </tr>\n",
       "    <tr>\n",
       "      <td>75%</td>\n",
       "      <td>3414.500000</td>\n",
       "      <td>271.000000</td>\n",
       "    </tr>\n",
       "    <tr>\n",
       "      <td>max</td>\n",
       "      <td>10727.000000</td>\n",
       "      <td>874.000000</td>\n",
       "    </tr>\n",
       "  </tbody>\n",
       "</table>\n",
       "</div>"
      ],
      "text/plain": [
       "              cases      deaths\n",
       "count     55.000000   55.000000\n",
       "mean    2234.163636  173.345455\n",
       "std     2835.200142  234.017981\n",
       "min        1.000000    0.000000\n",
       "25%      125.500000    1.000000\n",
       "50%     1050.000000   53.000000\n",
       "75%     3414.500000  271.000000\n",
       "max    10727.000000  874.000000"
      ]
     },
     "execution_count": 149,
     "metadata": {},
     "output_type": "execute_result"
    }
   ],
   "source": [
    "df.describe()"
   ]
  },
  {
   "cell_type": "markdown",
   "metadata": {},
   "source": [
    "### Feature Engineering"
   ]
  },
  {
   "cell_type": "code",
   "execution_count": 150,
   "metadata": {},
   "outputs": [
    {
     "name": "stdout",
     "output_type": "stream",
     "text": [
      "<class 'pandas.core.frame.DataFrame'>\n",
      "DatetimeIndex: 55 entries, 2020-03-15 to 2020-05-08\n",
      "Data columns (total 4 columns):\n",
      "region    55 non-null object\n",
      "state     55 non-null object\n",
      "cases     55 non-null int64\n",
      "deaths    55 non-null int64\n",
      "dtypes: int64(2), object(2)\n",
      "memory usage: 2.1+ KB\n"
     ]
    }
   ],
   "source": [
    "# datetime\n",
    "\n",
    "df['date'] = pd.to_datetime(df['date'])\n",
    "df.set_index('date', inplace=True)\n",
    "df.info()\n"
   ]
  },
  {
   "cell_type": "code",
   "execution_count": 151,
   "metadata": {},
   "outputs": [
    {
     "data": {
      "text/html": [
       "<div>\n",
       "<style scoped>\n",
       "    .dataframe tbody tr th:only-of-type {\n",
       "        vertical-align: middle;\n",
       "    }\n",
       "\n",
       "    .dataframe tbody tr th {\n",
       "        vertical-align: top;\n",
       "    }\n",
       "\n",
       "    .dataframe thead th {\n",
       "        text-align: right;\n",
       "    }\n",
       "</style>\n",
       "<table border=\"1\" class=\"dataframe\">\n",
       "  <thead>\n",
       "    <tr style=\"text-align: right;\">\n",
       "      <th></th>\n",
       "      <th>region</th>\n",
       "      <th>state</th>\n",
       "      <th>cases</th>\n",
       "      <th>deaths</th>\n",
       "      <th>month</th>\n",
       "      <th>day</th>\n",
       "    </tr>\n",
       "    <tr>\n",
       "      <th>date</th>\n",
       "      <th></th>\n",
       "      <th></th>\n",
       "      <th></th>\n",
       "      <th></th>\n",
       "      <th></th>\n",
       "      <th></th>\n",
       "    </tr>\n",
       "  </thead>\n",
       "  <tbody>\n",
       "    <tr>\n",
       "      <td>2020-03-15</td>\n",
       "      <td>Norte</td>\n",
       "      <td>Amazonas</td>\n",
       "      <td>1</td>\n",
       "      <td>0</td>\n",
       "      <td>3</td>\n",
       "      <td>15</td>\n",
       "    </tr>\n",
       "    <tr>\n",
       "      <td>2020-03-16</td>\n",
       "      <td>Norte</td>\n",
       "      <td>Amazonas</td>\n",
       "      <td>1</td>\n",
       "      <td>0</td>\n",
       "      <td>3</td>\n",
       "      <td>16</td>\n",
       "    </tr>\n",
       "    <tr>\n",
       "      <td>2020-03-17</td>\n",
       "      <td>Norte</td>\n",
       "      <td>Amazonas</td>\n",
       "      <td>1</td>\n",
       "      <td>0</td>\n",
       "      <td>3</td>\n",
       "      <td>17</td>\n",
       "    </tr>\n",
       "    <tr>\n",
       "      <td>2020-03-18</td>\n",
       "      <td>Norte</td>\n",
       "      <td>Amazonas</td>\n",
       "      <td>1</td>\n",
       "      <td>0</td>\n",
       "      <td>3</td>\n",
       "      <td>18</td>\n",
       "    </tr>\n",
       "    <tr>\n",
       "      <td>2020-03-19</td>\n",
       "      <td>Norte</td>\n",
       "      <td>Amazonas</td>\n",
       "      <td>3</td>\n",
       "      <td>0</td>\n",
       "      <td>3</td>\n",
       "      <td>19</td>\n",
       "    </tr>\n",
       "  </tbody>\n",
       "</table>\n",
       "</div>"
      ],
      "text/plain": [
       "           region     state  cases  deaths  month  day\n",
       "date                                                  \n",
       "2020-03-15  Norte  Amazonas      1       0      3   15\n",
       "2020-03-16  Norte  Amazonas      1       0      3   16\n",
       "2020-03-17  Norte  Amazonas      1       0      3   17\n",
       "2020-03-18  Norte  Amazonas      1       0      3   18\n",
       "2020-03-19  Norte  Amazonas      3       0      3   19"
      ]
     },
     "execution_count": 151,
     "metadata": {},
     "output_type": "execute_result"
    }
   ],
   "source": [
    "# creating month and day\n",
    "\n",
    "df['month'] = [df.index[i].month for i in range(len(df))]\n",
    "df['day'] = [df.index[i].day for i in range(len(df))] \n",
    "\n",
    "df.head()"
   ]
  },
  {
   "cell_type": "markdown",
   "metadata": {},
   "source": [
    "### Moving Average as Data Preparation"
   ]
  },
  {
   "cell_type": "code",
   "execution_count": 154,
   "metadata": {},
   "outputs": [
    {
     "name": "stdout",
     "output_type": "stream",
     "text": [
      "date\n",
      "2020-03-15    NaN\n",
      "2020-03-16    NaN\n",
      "2020-03-17    0.0\n",
      "2020-03-18    0.0\n",
      "2020-03-19    0.0\n",
      "2020-03-20    0.0\n",
      "2020-03-21    0.0\n",
      "2020-03-22    0.0\n",
      "2020-03-23    0.0\n",
      "2020-03-24    0.0\n",
      "Name: deaths, dtype: float64\n"
     ]
    }
   ],
   "source": [
    "deaths = pd.Series(df['deaths'])\n",
    "rolling = deaths.rolling(window=3) \n",
    "rolling_mean = rolling.mean() \n",
    "print(rolling_mean.head(10))"
   ]
  },
  {
   "cell_type": "code",
   "execution_count": 166,
   "metadata": {},
   "outputs": [
    {
     "data": {
      "image/png": "[encoded data removed]",
      "text/plain": [
       "<Figure size 432x288 with 1 Axes>"
      ]
     },
     "metadata": {
      "needs_background": "light"
     },
     "output_type": "display_data"
    }
   ],
   "source": [
    "# plot original and transformed dataset \n",
    "deaths.plot() \n",
    "rolling_mean.plot(color='red') \n",
    "plt.show()"
   ]
  },
  {
   "cell_type": "markdown",
   "metadata": {},
   "source": [
    "### Moving Average as Feature Engineering"
   ]
  },
  {
   "cell_type": "code",
   "execution_count": 181,
   "metadata": {
    "scrolled": true
   },
   "outputs": [
    {
     "name": "stdout",
     "output_type": "stream",
     "text": [
      "predicted=0.000000, expected=0.000000\n",
      "predicted=0.000000, expected=0.000000\n",
      "predicted=0.000000, expected=0.000000\n",
      "predicted=0.000000, expected=0.000000\n",
      "predicted=0.000000, expected=0.000000\n",
      "predicted=0.000000, expected=0.000000\n",
      "predicted=0.000000, expected=0.000000\n",
      "predicted=0.000000, expected=1.000000\n",
      "predicted=0.333333, expected=1.000000\n",
      "predicted=0.666667, expected=1.000000\n",
      "predicted=1.000000, expected=1.000000\n",
      "predicted=1.000000, expected=1.000000\n",
      "predicted=1.000000, expected=1.000000\n",
      "predicted=1.000000, expected=3.000000\n",
      "predicted=1.666667, expected=3.000000\n",
      "predicted=2.333333, expected=3.000000\n",
      "predicted=3.000000, expected=7.000000\n",
      "predicted=4.333333, expected=12.000000\n",
      "predicted=7.333333, expected=14.000000\n",
      "predicted=11.000000, expected=19.000000\n",
      "predicted=15.000000, expected=23.000000\n",
      "predicted=18.666667, expected=30.000000\n",
      "predicted=24.000000, expected=40.000000\n",
      "predicted=31.000000, expected=50.000000\n",
      "predicted=40.000000, expected=53.000000\n",
      "predicted=47.666667, expected=62.000000\n",
      "predicted=55.000000, expected=71.000000\n",
      "predicted=62.000000, expected=90.000000\n",
      "predicted=74.333333, expected=106.000000\n",
      "predicted=89.000000, expected=124.000000\n",
      "predicted=106.666667, expected=145.000000\n",
      "predicted=125.000000, expected=161.000000\n",
      "predicted=143.333333, expected=182.000000\n",
      "predicted=162.666667, expected=185.000000\n",
      "predicted=176.000000, expected=193.000000\n",
      "predicted=186.666667, expected=207.000000\n",
      "predicted=195.000000, expected=234.000000\n",
      "predicted=211.333333, expected=255.000000\n",
      "predicted=232.000000, expected=287.000000\n",
      "predicted=258.666667, expected=304.000000\n",
      "predicted=282.000000, expected=320.000000\n",
      "predicted=303.666667, expected=351.000000\n",
      "predicted=325.000000, expected=380.000000\n",
      "predicted=350.333333, expected=425.000000\n",
      "predicted=385.333333, expected=476.000000\n",
      "predicted=427.000000, expected=501.000000\n",
      "predicted=467.333333, expected=548.000000\n",
      "predicted=508.333333, expected=584.000000\n",
      "predicted=544.333333, expected=649.000000\n",
      "predicted=593.666667, expected=751.000000\n",
      "predicted=661.333333, expected=806.000000\n",
      "predicted=735.333333, expected=874.000000\n",
      "Test RMSE: 50.515\n"
     ]
    },
    {
     "data": {
      "image/png": "[encoded data removed]",
      "text/plain": [
       "<Figure size 432x288 with 1 Axes>"
      ]
     },
     "metadata": {
      "needs_background": "light"
     },
     "output_type": "display_data"
    }
   ],
   "source": [
    "from sklearn.metrics import mean_squared_error\n",
    "\n",
    "# prepare situation\n",
    "X = deaths.values\n",
    "window = 3\n",
    "history = [X[i] for i in range(window)]\n",
    "test = [X[i] for i in range(window, len(X))]\n",
    "predictions = list()\n",
    "\n",
    "# walk forward over time steps in test\n",
    "for t in range(len(test)):\n",
    "    length = len(history)\n",
    "    yhat = np.mean([history[i] for i in range(length-window,length)]) \n",
    "    obs = test[t]\n",
    "    predictions.append(yhat)\n",
    "    history.append(obs)\n",
    "    print('predicted=%f, expected=%f' % (yhat, obs))\n",
    "rmse = np.sqrt(mean_squared_error(test, predictions)) \n",
    "print('Test RMSE: %.3f' % rmse)\n",
    "\n",
    "# plot\n",
    "plt.plot(test)\n",
    "plt.plot(predictions, color='red') \n",
    "plt.show()\n",
    "\n",
    "# zoom plot\n",
    "#pyplot.plot(test[:100]) pyplot.plot(predictions[:100], color='red') pyplot.show()"
   ]
  },
  {
   "cell_type": "markdown",
   "metadata": {},
   "source": [
    "### Is your Time Series White Noise?"
   ]
  },
  {
   "cell_type": "code",
   "execution_count": 189,
   "metadata": {},
   "outputs": [],
   "source": [
    "from pandas.plotting import autocorrelation_plot"
   ]
  },
  {
   "cell_type": "code",
   "execution_count": 186,
   "metadata": {},
   "outputs": [
    {
     "data": {
      "text/plain": [
       "count     55.000000\n",
       "mean     173.345455\n",
       "std      234.017981\n",
       "min        0.000000\n",
       "25%        1.000000\n",
       "50%       53.000000\n",
       "75%      271.000000\n",
       "max      874.000000\n",
       "Name: deaths, dtype: float64"
      ]
     },
     "execution_count": 186,
     "metadata": {},
     "output_type": "execute_result"
    }
   ],
   "source": [
    "deaths.describe()\n",
    "\n",
    "# mean is not zero\n",
    "# standard deviation is high"
   ]
  },
  {
   "cell_type": "code",
   "execution_count": null,
   "metadata": {},
   "outputs": [],
   "source": []
  },
  {
   "cell_type": "code",
   "execution_count": 187,
   "metadata": {},
   "outputs": [
    {
     "data": {
      "image/png": "[encoded data removed]",
      "text/plain": [
       "<Figure size 432x288 with 1 Axes>"
      ]
     },
     "metadata": {
      "needs_background": "light"
     },
     "output_type": "display_data"
    }
   ],
   "source": [
    "# histogram plot\n",
    "deaths.hist()\n",
    "plt.show()\n",
    "\n",
    "# histogram is not a bell curve."
   ]
  },
  {
   "cell_type": "code",
   "execution_count": 190,
   "metadata": {},
   "outputs": [
    {
     "data": {
      "image/png": "[encoded data removed]",
      "text/plain": [
       "<Figure size 432x288 with 1 Axes>"
      ]
     },
     "metadata": {
      "needs_background": "light"
     },
     "output_type": "display_data"
    }
   ],
   "source": [
    "# autocorrelation\n",
    "autocorrelation_plot(deaths)\n",
    "plt.show()\n",
    "\n",
    "# there are high correlations before day 9."
   ]
  },
  {
   "cell_type": "code",
   "execution_count": null,
   "metadata": {},
   "outputs": [],
   "source": []
  }
 ],
 "metadata": {
  "kernelspec": {
   "display_name": "Python 3",
   "language": "python",
   "name": "python3"
  },
  "language_info": {
   "codemirror_mode": {
    "name": "ipython",
    "version": 3
   },
   "file_extension": ".py",
   "mimetype": "text/x-python",
   "name": "python",
   "nbconvert_exporter": "python",
   "pygments_lexer": "ipython3",
   "version": "3.7.4"
  }
 },
 "nbformat": 4,
 "nbformat_minor": 2
}
